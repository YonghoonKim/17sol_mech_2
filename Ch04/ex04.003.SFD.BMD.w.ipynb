{
 "cells": [
  {
   "cell_type": "markdown",
   "metadata": {},
   "source": [
    "`python` 기능을 확장해 주는 `module`을 불러 들임 (일부 기능만 사용될 수도 있음)"
   ]
  },
  {
   "cell_type": "code",
   "execution_count": null,
   "metadata": {},
   "outputs": [],
   "source": [
    "import numpy as np  # 배열, 행렬 관련 기능\n",
    "import numpy.linalg as na  # 선형대수 (벡터, 행렬) 관련 기능\n",
    "import matplotlib.pyplot as plt  # 그래프 관련 기능\n",
    "import scipy.integrate as si  # 적분 관련 기능\n",
    "import sympy as sy  # 기호 연산 기능\n",
    "import IPython.display as disp  # 웹페이지 표시 기능\n",
    "sy.init_printing()  # 기호 연산 결과 표시 기능 준비"
   ]
  },
  {
   "cell_type": "markdown",
   "metadata": {},
   "source": [
    "## 예제 04.003"
   ]
  },
  {
   "cell_type": "markdown",
   "metadata": {},
   "source": [
    "### 문제에서 주어진 변수"
   ]
  },
  {
   "cell_type": "markdown",
   "metadata": {},
   "source": [
    "#### 각 구간 길이"
   ]
  },
  {
   "cell_type": "code",
   "execution_count": null,
   "metadata": {},
   "outputs": [],
   "source": [
    "L_AB_m = 4\n",
    "L_BC_m = 10"
   ]
  },
  {
   "cell_type": "markdown",
   "metadata": {},
   "source": [
    "#### 하중"
   ]
  },
  {
   "cell_type": "code",
   "execution_count": null,
   "metadata": {},
   "outputs": [],
   "source": [
    "V_A_N = -200e3\n",
    "w_BC_N_m = -120e3"
   ]
  },
  {
   "cell_type": "markdown",
   "metadata": {},
   "source": [
    "### A, B, C, D 지점의 x 좌표\n",
    "A 점에서 x=0 으로 한다."
   ]
  },
  {
   "cell_type": "code",
   "execution_count": null,
   "metadata": {
    "collapsed": true
   },
   "outputs": [],
   "source": [
    "x_A_m = 0\n",
    "x_B_m = x_A_m + L_AB_m\n",
    "x_C_m = x_B_m + L_BC_m"
   ]
  },
  {
   "cell_type": "markdown",
   "metadata": {},
   "source": [
    "### 반력"
   ]
  },
  {
   "cell_type": "markdown",
   "metadata": {},
   "source": [
    "C점 중심의 모멘트"
   ]
  },
  {
   "cell_type": "markdown",
   "metadata": {},
   "source": [
    "$$\n",
    "V_A\\left(L_{AB} + L_{BC}\\right) - R_B L_{BC} + \\int_{x=L_{AB}}^{x=L_{AB}+L_{BC}} w\\left(x-L_{AB}\\right) \\,dx=0\\\\\n",
    "$$"
   ]
  },
  {
   "cell_type": "markdown",
   "metadata": {},
   "source": [
    "$$R_B L_{BC} = V_A\\left(L_{AB} + L_{BC}\\right) + w\\int_{x=L_{AB}}^{x=L_{AB}+L_{BC}} x-L_{AB} \\,dx\n",
    "$$"
   ]
  },
  {
   "cell_type": "markdown",
   "metadata": {},
   "source": [
    "$$\n",
    "\\begin{align}\n",
    "R_B &= V_A \\frac{\\left(L_{AB} + L_{BC}\\right)}{L_{BC}} + \\frac{w}{L_{BC}}\\int_{\\xi=0}^{\\xi=L_{BC}} \\xi \\,d\\xi \\\\\n",
    "&= V_A \\left( \\frac{ L_{AB} }{L_{BC}} + 1 \\right) + \\frac{w}{L_{BC}} \\left[ \\frac{1}{2}\\xi^2 \\right]_{\\xi=0}^{\\xi=L_{BC}}\\\\\n",
    "&= V_A \\left( \\frac{ L_{AB} }{L_{BC}} + 1 \\right) + \\frac{w}{L_{BC}} \\frac{1}{2}L_{BC}^2 \\\\\n",
    "&= V_A \\left( \\frac{ L_{AB} }{L_{BC}} + 1 \\right) + \\frac{1}{2} w L_{BC}\n",
    "\\end{align}\n",
    "$$"
   ]
  },
  {
   "cell_type": "markdown",
   "metadata": {},
   "source": [
    "A 점에서의 반력"
   ]
  },
  {
   "cell_type": "code",
   "execution_count": null,
   "metadata": {},
   "outputs": [],
   "source": [
    "R_B_N = abs(V_A_N) * (L_AB_m/L_BC_m + 1) + 0.5 * abs(w_BC_N_m) * L_BC_m\n",
    "R_B_N"
   ]
  },
  {
   "cell_type": "markdown",
   "metadata": {},
   "source": [
    "B 점에서의 반력\n",
    "$$\n",
    "V_A + w  L_{BC} = R_A + R_C \\\\\n",
    "R_C = V_A + w  L_{BC} - R_A\n",
    "$$"
   ]
  },
  {
   "cell_type": "code",
   "execution_count": null,
   "metadata": {},
   "outputs": [],
   "source": [
    "R_C_N = abs(V_A_N) + abs(w_BC_N_m) * L_BC_m - R_B_N\n",
    "R_C_N"
   ]
  },
  {
   "cell_type": "markdown",
   "metadata": {},
   "source": [
    "### A-B 구간"
   ]
  },
  {
   "cell_type": "code",
   "execution_count": null,
   "metadata": {
    "collapsed": true
   },
   "outputs": [],
   "source": [
    "x_AB_m_array = np.linspace(x_A_m, x_B_m, 50+1)"
   ]
  },
  {
   "cell_type": "markdown",
   "metadata": {},
   "source": [
    "#### 전단력선도"
   ]
  },
  {
   "cell_type": "markdown",
   "metadata": {},
   "source": [
    "A 지점에서의 하중만 반영하면 된다."
   ]
  },
  {
   "cell_type": "code",
   "execution_count": null,
   "metadata": {
    "collapsed": true
   },
   "outputs": [],
   "source": [
    "V_AB_N_array = V_A_N * np.ones_like(x_AB_m_array)"
   ]
  },
  {
   "cell_type": "code",
   "execution_count": null,
   "metadata": {
    "collapsed": false,
    "scrolled": false
   },
   "outputs": [],
   "source": [
    "plt.fill_between(x_AB_m_array, V_AB_N_array)\n",
    "plt.text(x_A_m, 0, 'A')\n",
    "plt.text(x_B_m, 0, 'B')\n",
    "plt.xlabel('x(m)')\n",
    "plt.ylabel('V(N)')\n",
    "plt.grid(True)\n",
    "plt.show()"
   ]
  },
  {
   "cell_type": "markdown",
   "metadata": {},
   "source": [
    "#### 굽힘모멘트 선도"
   ]
  },
  {
   "cell_type": "markdown",
   "metadata": {},
   "source": [
    "A지점의 하중이 A-B 구간에 작용하는 모멘트를 반영한다."
   ]
  },
  {
   "cell_type": "code",
   "execution_count": null,
   "metadata": {
    "collapsed": true
   },
   "outputs": [],
   "source": [
    "M_AB_Nm_array = V_A_N * x_AB_m_array"
   ]
  },
  {
   "cell_type": "code",
   "execution_count": null,
   "metadata": {
    "collapsed": false
   },
   "outputs": [],
   "source": [
    "plt.fill_between(x_AB_m_array, M_AB_Nm_array)\n",
    "plt.text(x_A_m, 0, 'A')\n",
    "plt.text(x_B_m, 0, 'B')\n",
    "plt.xlabel('x(m)')\n",
    "plt.ylabel('M(Nm)')\n",
    "plt.grid(True)\n",
    "plt.show()"
   ]
  },
  {
   "cell_type": "markdown",
   "metadata": {},
   "source": [
    "### B-C 구간"
   ]
  },
  {
   "cell_type": "code",
   "execution_count": null,
   "metadata": {
    "collapsed": true
   },
   "outputs": [],
   "source": [
    "x_BC_m_array = np.linspace(x_B_m, x_C_m, 100+1)"
   ]
  },
  {
   "cell_type": "markdown",
   "metadata": {},
   "source": [
    "#### 전단력선도"
   ]
  },
  {
   "cell_type": "markdown",
   "metadata": {},
   "source": [
    "A 지점에서의 하중과 B 지점의 반력만 감안하면 다음과 같다."
   ]
  },
  {
   "cell_type": "code",
   "execution_count": null,
   "metadata": {
    "collapsed": true
   },
   "outputs": [],
   "source": [
    "V_BC_N_array = (V_A_N + R_B_N) * np.ones_like(x_BC_m_array)"
   ]
  },
  {
   "cell_type": "code",
   "execution_count": null,
   "metadata": {
    "collapsed": false,
    "scrolled": false
   },
   "outputs": [],
   "source": [
    "plt.fill_between(x_AB_m_array, V_AB_N_array)\n",
    "plt.fill_between(x_BC_m_array, V_BC_N_array)\n",
    "plt.text(x_A_m, 0, 'A')\n",
    "plt.text(x_B_m, 0, 'B')\n",
    "plt.text(x_C_m, 0, 'C')\n",
    "plt.xlabel('x(m)')\n",
    "plt.ylabel('V(N)')\n",
    "plt.grid(True)\n",
    "plt.show()"
   ]
  },
  {
   "cell_type": "markdown",
   "metadata": {},
   "source": [
    "B-C 구간의 분포하중의 영향을 추가하면 다음과 같다."
   ]
  },
  {
   "cell_type": "code",
   "execution_count": null,
   "metadata": {
    "collapsed": true
   },
   "outputs": [],
   "source": [
    "V_BC_N_array += w_BC_N_m * (x_BC_m_array - x_B_m)"
   ]
  },
  {
   "cell_type": "code",
   "execution_count": null,
   "metadata": {
    "collapsed": false,
    "scrolled": false
   },
   "outputs": [],
   "source": [
    "plt.fill_between(x_AB_m_array, V_AB_N_array)\n",
    "plt.fill_between(x_BC_m_array, V_BC_N_array)\n",
    "plt.text(x_A_m, 0, 'A')\n",
    "plt.text(x_B_m, 0, 'B')\n",
    "plt.text(x_C_m, 0, 'C')\n",
    "plt.xlabel('x(m)')\n",
    "plt.ylabel('V(N)')\n",
    "plt.grid(True)\n",
    "plt.show()"
   ]
  },
  {
   "cell_type": "markdown",
   "metadata": {},
   "source": [
    "#### 굽힘모멘트 선도"
   ]
  },
  {
   "cell_type": "markdown",
   "metadata": {},
   "source": [
    "아래 3가지 하중이 B-C 구간에 가하는 굽힘모멘트를 각각 구하여 더한다.\n",
    "* A 지점 하중\n",
    "* B 지점 반력\n",
    "* B-C 구간 분포하중"
   ]
  },
  {
   "cell_type": "markdown",
   "metadata": {},
   "source": [
    "##### A 지점 하중이 B-C 구간에 가하는 굽힘 모멘트"
   ]
  },
  {
   "cell_type": "code",
   "execution_count": null,
   "metadata": {
    "collapsed": true
   },
   "outputs": [],
   "source": [
    "M_A_BC_Nm = V_A_N * x_BC_m_array"
   ]
  },
  {
   "cell_type": "code",
   "execution_count": null,
   "metadata": {
    "collapsed": false
   },
   "outputs": [],
   "source": [
    "plt.fill_between(x_BC_m_array, M_A_BC_Nm)\n",
    "plt.text(x_A_m, 0, 'A')\n",
    "plt.text(x_B_m, 0, 'B')\n",
    "plt.text(x_C_m, 0, 'C')\n",
    "plt.xlim(xmin=0)\n",
    "plt.xlabel('x(m)')\n",
    "plt.ylabel('M(Nm)')\n",
    "plt.grid(True)\n",
    "plt.show()"
   ]
  },
  {
   "cell_type": "markdown",
   "metadata": {},
   "source": [
    "##### B 지점 반력이 B-C 구간에 가하는 굽힘 모멘트"
   ]
  },
  {
   "cell_type": "code",
   "execution_count": null,
   "metadata": {
    "collapsed": true
   },
   "outputs": [],
   "source": [
    "M_B_BC_Nm = R_B_N * (x_BC_m_array - L_AB_m)"
   ]
  },
  {
   "cell_type": "code",
   "execution_count": null,
   "metadata": {
    "collapsed": false
   },
   "outputs": [],
   "source": [
    "plt.fill_between(x_BC_m_array, M_B_BC_Nm)"
   ]
  },
  {
   "cell_type": "code",
   "execution_count": null,
   "metadata": {
    "collapsed": false
   },
   "outputs": [],
   "source": [
    "plt.text(x_A_m, 0, 'A')\n",
    "plt.text(x_B_m, 0, 'B')\n",
    "plt.text(x_C_m, 0, 'C')\n",
    "plt.xlim(xmin=0)\n",
    "plt.xlabel('x(m)')\n",
    "plt.ylabel('M(Nm)')\n",
    "plt.grid(True)\n",
    "plt.show()"
   ]
  },
  {
   "cell_type": "markdown",
   "metadata": {},
   "source": [
    "##### B-C 구간 분포하중"
   ]
  },
  {
   "cell_type": "markdown",
   "metadata": {},
   "source": [
    "C 점에서의 반력을 구하기 위해 사용했던 식의 마지막 적분 항을 살펴보자."
   ]
  },
  {
   "cell_type": "markdown",
   "metadata": {},
   "source": [
    "$$M_{BC-C}=w\\int_{\\xi=0}^{\\xi=L_{BC}} \\xi \\,d\\xi$$"
   ]
  },
  {
   "cell_type": "markdown",
   "metadata": {},
   "source": [
    "이 항은 B-C 구간의 분포하중이 점 C 에 가하는 모멘트이다."
   ]
  },
  {
   "cell_type": "markdown",
   "metadata": {},
   "source": [
    "적분 구간을 0 ~ $L_{BC}$ 대신 0 ~ $x-L_{AB}$ 로 바꾸면 B_C 구간의 분포 하중 가운데 $L_{AB}$ ~ $x$ 인 부분이 $x$ 지점에 가하는 모멘트가 된다."
   ]
  },
  {
   "cell_type": "markdown",
   "metadata": {},
   "source": [
    "$$\n",
    "\\begin{align}\n",
    "M_{BC-BC}&=w\\int_{\\xi=0}^{\\xi=x-L_{AB}} \\xi \\,d\\xi\\\\\n",
    "&=w\\left[ \\frac{1}{2}\\xi^2 \\right]_{\\xi=0}^{\\xi=x-L_{AB}} \\\\\n",
    "&=\\frac{w}{2}\\left( x-L_{AB} \\right)^2 \\\\\n",
    "&=\\frac{w}{2}\\left( x^2-2L_{AB}x + L_{AB}^2 \\right) \\\\\n",
    "\\end{align}\n",
    "$$"
   ]
  }
 ],
 "metadata": {
  "anaconda-cloud": {},
  "kernelspec": {
   "display_name": "Python 3",
   "language": "python",
   "name": "python3"
  },
  "language_info": {
   "codemirror_mode": {
    "name": "ipython",
    "version": 3
   },
   "file_extension": ".py",
   "mimetype": "text/x-python",
   "name": "python",
   "nbconvert_exporter": "python",
   "pygments_lexer": "ipython3",
   "version": "3.6.1"
  }
 },
 "nbformat": 4,
 "nbformat_minor": 2
}
