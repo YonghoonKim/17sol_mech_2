{
 "cells": [
  {
   "cell_type": "markdown",
   "metadata": {},
   "source": [
    "`python` 기능을 확장해 주는 `module`을 불러 들임 (일부 기능만 사용될 수도 있음)"
   ]
  },
  {
   "cell_type": "code",
   "execution_count": null,
   "metadata": {},
   "outputs": [],
   "source": [
    "import numpy as np  # 배열, 행렬 관련 기능\n",
    "import numpy.linalg as na  # 선형대수 (벡터, 행렬) 관련 기능\n",
    "import matplotlib.pyplot as plt  # 그래프 관련 기능\n",
    "import scipy.integrate as si  # 적분 관련 기능\n",
    "import sympy as sy  # 기호 연산 기능\n",
    "import IPython.display as disp  # 웹페이지 표시 기능\n",
    "sy.init_printing()  # 기호 연산 결과 표시 기능 준비"
   ]
  },
  {
   "cell_type": "markdown",
   "metadata": {},
   "source": [
    "## 예제 04.003"
   ]
  },
  {
   "cell_type": "markdown",
   "metadata": {},
   "source": [
    "### 문제에서 주어진 변수"
   ]
  },
  {
   "cell_type": "markdown",
   "metadata": {},
   "source": [
    "#### 각 구간 길이"
   ]
  },
  {
   "cell_type": "code",
   "execution_count": null,
   "metadata": {},
   "outputs": [],
   "source": [
    "L_AB_m = 4\n",
    "L_BC_m = 10"
   ]
  },
  {
   "cell_type": "markdown",
   "metadata": {},
   "source": [
    "#### 하중"
   ]
  },
  {
   "cell_type": "code",
   "execution_count": null,
   "metadata": {},
   "outputs": [],
   "source": [
    "V_A_N = -200e3\n",
    "w_BC_N_m = -120e3"
   ]
  },
  {
   "cell_type": "markdown",
   "metadata": {},
   "source": [
    "### A, B, C, D 지점의 x 좌표\n",
    "A 점에서 x=0 으로 한다."
   ]
  },
  {
   "cell_type": "code",
   "execution_count": null,
   "metadata": {
    "collapsed": true
   },
   "outputs": [],
   "source": [
    "x_A_m = 0\n",
    "x_B_m = x_A_m + L_AB_m\n",
    "x_C_m = x_B_m + L_BC_m"
   ]
  },
  {
   "cell_type": "markdown",
   "metadata": {},
   "source": [
    "### 반력"
   ]
  },
  {
   "cell_type": "markdown",
   "metadata": {},
   "source": [
    "C점 중심의 모멘트\n",
    "$$\n",
    "V_A\\left(L_{AB} + L_{BC}\\right) - R_B L_{BC} + \\int_{x=0}^{x=L_{BC}} wx \\,dx=0\\\\\n",
    "R_B L_{BC} = V_A\\left(L_{AB} + L_{BC}\\right) + w\\int_{x=0}^{x=L_{BC}} x \\,dx\\\\\n",
    "\\begin{align}\n",
    "R_B &= V_A \\frac{\\left(L_{AB} + L_{BC}\\right)}{L_{BC}} + \\frac{w}{L_{BC}}\\int_{x=0}^{x=L_{BC}} x \\,dx \\\\\n",
    "&= V_A \\left( \\frac{ L_{AB} }{L_{BC}} + 1 \\right) + \\frac{w}{L_{BC}} \\left[ \\frac{1}{2}x^2 \\right]_{x=0}^{x=L_{BC}}\\\\\n",
    "&= V_A \\left( \\frac{ L_{AB} }{L_{BC}} + 1 \\right) + \\frac{w}{L_{BC}} \\frac{1}{2}L_{BC}^2 \\\\\n",
    "&= V_A \\left( \\frac{ L_{AB} }{L_{BC}} + 1 \\right) + \\frac{1}{2} w L_{BC}\n",
    "\\end{align}\n",
    "$$"
   ]
  },
  {
   "cell_type": "markdown",
   "metadata": {},
   "source": [
    "A 점에서의 반력"
   ]
  },
  {
   "cell_type": "code",
   "execution_count": null,
   "metadata": {},
   "outputs": [],
   "source": [
    "R_B_N = abs(V_A_N) * (L_AB_m/L_BC_m + 1) + 0.5 * abs(w_BC_N_m) * L_BC_m\n",
    "R_B_N"
   ]
  },
  {
   "cell_type": "markdown",
   "metadata": {},
   "source": [
    "B 점에서의 반력\n",
    "$$\n",
    "V_A + w  L_{BC} = R_A + R_C \\\\\n",
    "R_C = V_A + w  L_{BC} - R_A\n",
    "$$"
   ]
  },
  {
   "cell_type": "code",
   "execution_count": null,
   "metadata": {},
   "outputs": [],
   "source": [
    "R_C_N = abs(V_A_N) + abs(w_BC_N_m) * L_BC_m - R_B_N\n",
    "R_C_N"
   ]
  }
 ],
 "metadata": {
  "anaconda-cloud": {},
  "kernelspec": {
   "display_name": "Python 3",
   "language": "python",
   "name": "python3"
  },
  "language_info": {
   "codemirror_mode": {
    "name": "ipython",
    "version": 3
   },
   "file_extension": ".py",
   "mimetype": "text/x-python",
   "name": "python",
   "nbconvert_exporter": "python",
   "pygments_lexer": "ipython3",
   "version": "3.6.1"
  }
 },
 "nbformat": 4,
 "nbformat_minor": 2
}
