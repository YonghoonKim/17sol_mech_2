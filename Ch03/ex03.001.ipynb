{
 "cells": [
  {
   "cell_type": "markdown",
   "metadata": {},
   "source": [
    "`python` 에서 수학 관련 기능을 좀 더 쉽게 사용할 수 있도록 해 주는 `module`을 불러 들임"
   ]
  },
  {
   "cell_type": "code",
   "execution_count": null,
   "metadata": {
    "collapsed": false
   },
   "outputs": [],
   "source": [
    "import numpy as np\n",
    "import numpy.linalg as na\n",
    "import matplotlib.pyplot as plt\n",
    "import sympy as sy\n",
    "import IPython.display as disp\n",
    "sy.init_printing()"
   ]
  },
  {
   "cell_type": "markdown",
   "metadata": {},
   "source": [
    "## 예제 03.001"
   ]
  },
  {
   "cell_type": "markdown",
   "metadata": {},
   "source": [
    "### 문제에서 주어진 매개변수"
   ]
  },
  {
   "cell_type": "code",
   "execution_count": null,
   "metadata": {
    "collapsed": true
   },
   "outputs": [],
   "source": [
    "subs_dict = {'L_AB_m': 2.5, # A-B 구간의 길이\n",
    "             'L_BC_m': 1.5, # B-C 구간의 길이\n",
    "             'd_mm': 60.0, # 실린더 지름\n",
    "             'T_A_Nm': 3600.0, # A 지점에서의 비틀림 하중\n",
    "             'T_B_Nm': -1600.0, # B 지점에서의 비틀림 하중\n",
    "            }\n",
    "subs_dict['d_m'] = subs_dict['d_mm'] * 1e-3 # 실린더 지름"
   ]
  },
  {
   "cell_type": "code",
   "execution_count": null,
   "metadata": {
    "collapsed": true
   },
   "outputs": [],
   "source": [
    "L_AB_m, L_BC_m, d_m, T_A_Nm, T_B_Nm = sy.symbols('L_AB_m, L_BC_m, d_m, T_A_Nm, T_B_Nm')"
   ]
  },
  {
   "cell_type": "code",
   "execution_count": null,
   "metadata": {
    "collapsed": true
   },
   "outputs": [],
   "source": [
    "d_mm = d_m * 1e3"
   ]
  },
  {
   "cell_type": "markdown",
   "metadata": {},
   "source": [
    "### 1) 각 원통 A-B, B-C 에서의 최대 응력"
   ]
  },
  {
   "cell_type": "markdown",
   "metadata": {},
   "source": [
    "#### C점에서의 반력"
   ]
  },
  {
   "cell_type": "markdown",
   "metadata": {},
   "source": [
    "C 점에서의 반력을 `R_C` 라고 정한다."
   ]
  },
  {
   "cell_type": "code",
   "execution_count": null,
   "metadata": {
    "collapsed": false
   },
   "outputs": [],
   "source": [
    "R_C_Nm = sy.symbols('R_C_Nm')"
   ]
  },
  {
   "cell_type": "markdown",
   "metadata": {},
   "source": [
    "평형을 유지하기 위해 A, B, C 지점에서의 비틀림 하중과 반력을 모두 합하면 0이 될 것이다.\n",
    "$$T_A + T_B + R_C = 0$$\n",
    "이것을 python 으로는 다음과 같이 표현할 수 있다."
   ]
  },
  {
   "cell_type": "code",
   "execution_count": null,
   "metadata": {
    "collapsed": false
   },
   "outputs": [],
   "source": [
    "eq_eq = sy.Eq(T_A_Nm + T_B_Nm + R_C_Nm, 0)"
   ]
  },
  {
   "cell_type": "markdown",
   "metadata": {},
   "source": [
    "이 식을 풀면 반력을 구할 수 있다. (아래에서 `_` 는 바로 위 결과를 말함)"
   ]
  },
  {
   "cell_type": "code",
   "execution_count": null,
   "metadata": {
    "collapsed": false
   },
   "outputs": [],
   "source": [
    "R_C_Sol = sy.solve(eq_eq, R_C_Nm)\n",
    "disp.display(R_C_Sol)"
   ]
  },
  {
   "cell_type": "markdown",
   "metadata": {},
   "source": [
    "#### 단면의 극관성모멘트"
   ]
  },
  {
   "cell_type": "markdown",
   "metadata": {},
   "source": [
    "원형 단면의 비틀림인 경우 극관성모멘트를 구한다."
   ]
  },
  {
   "cell_type": "code",
   "execution_count": null,
   "metadata": {
    "collapsed": false
   },
   "outputs": [],
   "source": [
    "J_m4 = (sy.pi * d_m**4) / 32"
   ]
  },
  {
   "cell_type": "markdown",
   "metadata": {},
   "source": [
    "반지름 r 은 다음과 같이 구할 수 있다."
   ]
  },
  {
   "cell_type": "code",
   "execution_count": null,
   "metadata": {
    "collapsed": true
   },
   "outputs": [],
   "source": [
    "r_m = d_m * 0.5"
   ]
  },
  {
   "cell_type": "markdown",
   "metadata": {},
   "source": [
    "A-B 구간에서의 최대전단응력은 다음과 같이 구할 수 있을 것이다."
   ]
  },
  {
   "cell_type": "code",
   "execution_count": null,
   "metadata": {
    "collapsed": false
   },
   "outputs": [],
   "source": [
    "tau_max_AB_Pa = T_A_Nm * r_m / J_m4"
   ]
  },
  {
   "cell_type": "markdown",
   "metadata": {},
   "source": [
    "B-C 구간에서의 최대전단응력도 마찬가지로 구할 수 있다."
   ]
  },
  {
   "cell_type": "code",
   "execution_count": null,
   "metadata": {
    "collapsed": false
   },
   "outputs": [],
   "source": [
    "tau_max_BC_Pa = (T_A_Nm + T_B_Nm) * r_m / J_m4\n",
    "disp.display(sy.simplify(tau_max_BC_Pa))"
   ]
  },
  {
   "cell_type": "markdown",
   "metadata": {},
   "source": [
    "각 변수에 값을 대입하면 다음과 같다."
   ]
  },
  {
   "cell_type": "code",
   "execution_count": null,
   "metadata": {
    "collapsed": false
   },
   "outputs": [],
   "source": [
    "disp.display(disp.Math('$\\\\tau_{maxAB}=%g(Pa)$'%float(tau_max_AB_Pa.subs(subs_dict))))\n",
    "disp.display(disp.Math('$\\\\tau_{maxAB}=%g(MPa)$'%(1e-6*float(tau_max_AB_Pa.subs(subs_dict)))))"
   ]
  },
  {
   "cell_type": "code",
   "execution_count": null,
   "metadata": {
    "collapsed": false
   },
   "outputs": [],
   "source": [
    "disp.display(disp.Math('$\\\\tau_{maxBC}=%g(Pa)$'%float(tau_max_BC_Pa.subs(subs_dict))))\n",
    "disp.display(disp.Math('$\\\\tau_{maxBC}=%g(MPa)$'%(1e-6*float(tau_max_BC_Pa.subs(subs_dict)))))"
   ]
  },
  {
   "cell_type": "markdown",
   "metadata": {},
   "source": [
    "### 2) 끝점 A 에서의 변형량"
   ]
  }
 ],
 "metadata": {
  "kernelspec": {
   "display_name": "Python [conda env:py3]",
   "language": "python",
   "name": "conda-env-py3-py"
  },
  "language_info": {
   "codemirror_mode": {
    "name": "ipython",
    "version": 3
   },
   "file_extension": ".py",
   "mimetype": "text/x-python",
   "name": "python",
   "nbconvert_exporter": "python",
   "pygments_lexer": "ipython3",
   "version": "3.6.1"
  }
 },
 "nbformat": 4,
 "nbformat_minor": 2
}
