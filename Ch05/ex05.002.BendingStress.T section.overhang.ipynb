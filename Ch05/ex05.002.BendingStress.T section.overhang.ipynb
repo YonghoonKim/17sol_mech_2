{
 "cells": [
  {
   "cell_type": "markdown",
   "metadata": {},
   "source": [
    "`python` 기능을 확장해 주는 `module`을 불러 들임 (일부 기능만 사용될 수도 있음)"
   ]
  },
  {
   "cell_type": "code",
   "execution_count": null,
   "metadata": {
    "collapsed": true
   },
   "outputs": [],
   "source": [
    "import numpy as np  # 배열, 행렬 관련 기능\n",
    "import numpy.linalg as na  # 선형대수 (벡터, 행렬) 관련 기능\n",
    "import matplotlib.pyplot as plt  # 그래프 관련 기능\n",
    "import scipy.integrate as si  # 적분 관련 기능\n",
    "import sympy as sy  # 기호 연산 기능\n",
    "import IPython.display as disp  # 웹페이지 표시 기능\n",
    "sy.init_printing()  # 기호 연산 결과 표시 기능 준비"
   ]
  },
  {
   "cell_type": "markdown",
   "metadata": {},
   "source": [
    "## 예제 05.002"
   ]
  },
  {
   "cell_type": "markdown",
   "metadata": {},
   "source": [
    "### 문제에서 주어진 변수"
   ]
  },
  {
   "cell_type": "markdown",
   "metadata": {},
   "source": [
    "#### 각 구간 길이"
   ]
  },
  {
   "cell_type": "code",
   "execution_count": null,
   "metadata": {
    "collapsed": true
   },
   "outputs": [],
   "source": [
    "L_AB_m = 10.0\n",
    "L_BD_m = 4.0\n",
    "\n",
    "L_AD_m = L_AB_m + L_BD_m"
   ]
  },
  {
   "cell_type": "markdown",
   "metadata": {},
   "source": [
    "#### 하중"
   ]
  },
  {
   "cell_type": "code",
   "execution_count": null,
   "metadata": {
    "collapsed": true
   },
   "outputs": [],
   "source": [
    "w_AB_N_m = -400e3\n",
    "P_D_N = -1000e3"
   ]
  },
  {
   "cell_type": "markdown",
   "metadata": {},
   "source": [
    "#### 단면"
   ]
  },
  {
   "cell_type": "code",
   "execution_count": null,
   "metadata": {
    "collapsed": true
   },
   "outputs": [],
   "source": [
    "tb_m = 150e-3\n",
    "tt_m = 20e-3\n",
    "ih_m = 200e-3"
   ]
  },
  {
   "cell_type": "markdown",
   "metadata": {},
   "source": [
    "### A, B, C, D 지점의 x 좌표\n",
    "A 점에서 x=0 으로 한다."
   ]
  },
  {
   "cell_type": "code",
   "execution_count": null,
   "metadata": {
    "collapsed": false
   },
   "outputs": [],
   "source": [
    "x_A_m = 0\n",
    "x_B_m = x_A_m + L_AB_m\n",
    "x_D_m = x_B_m + L_BD_m"
   ]
  },
  {
   "cell_type": "markdown",
   "metadata": {},
   "source": [
    "### 반력"
   ]
  },
  {
   "cell_type": "markdown",
   "metadata": {},
   "source": [
    "A점 중심의 모멘트는 분포하중, D점 하중, E점 반력이 각각 가하는 모멘트의 합이 된다."
   ]
  },
  {
   "cell_type": "markdown",
   "metadata": {},
   "source": [
    "$$\n",
    "\\int_{x=0}^{x=L_{AB}} wx \\, dx+R_B L_{AB}+P_D L_{AD}=0\\\\\n",
    "$$"
   ]
  },
  {
   "cell_type": "code",
   "execution_count": null,
   "metadata": {
    "collapsed": true
   },
   "outputs": [],
   "source": [
    "x, L_AB, w, R_B, P_D, L_AD = sy.symbols('x, L_AB, w, R_B, P_D, L_AD')"
   ]
  },
  {
   "cell_type": "markdown",
   "metadata": {},
   "source": [
    "나중에 사용하기 위해 변수값을 표 형태로 지정한다."
   ]
  },
  {
   "cell_type": "code",
   "execution_count": null,
   "metadata": {
    "collapsed": false
   },
   "outputs": [],
   "source": [
    "s_d = {L_AB: L_AB_m, \n",
    "       w: w_AB_N_m, \n",
    "       P_D: P_D_N, \n",
    "       L_AD: L_AD_m}\n",
    "s_d"
   ]
  },
  {
   "cell_type": "code",
   "execution_count": null,
   "metadata": {
    "collapsed": false,
    "scrolled": true
   },
   "outputs": [],
   "source": [
    "moment_eq = sy.Eq(sy.integrate(w * x, (x, 0, L_AB)) \n",
    "              + R_B * L_AB + P_D * L_AD,\n",
    "              0)\n",
    "moment_eq"
   ]
  },
  {
   "cell_type": "markdown",
   "metadata": {},
   "source": [
    "B점 반력을 구하면 다음과 같다."
   ]
  },
  {
   "cell_type": "code",
   "execution_count": null,
   "metadata": {
    "collapsed": false,
    "scrolled": true
   },
   "outputs": [],
   "source": [
    "R_B_sol_list = sy.solve(moment_eq, R_B)\n",
    "R_B_sol_list"
   ]
  },
  {
   "cell_type": "markdown",
   "metadata": {},
   "source": [
    "B점에서의 반력에 변수값을 대입한 결과는 다음과 같다."
   ]
  },
  {
   "cell_type": "code",
   "execution_count": null,
   "metadata": {
    "collapsed": false,
    "scrolled": false
   },
   "outputs": [],
   "source": [
    "R_B_N = float(R_B_sol_list[0].subs(s_d))\n",
    "R_B_N"
   ]
  },
  {
   "cell_type": "markdown",
   "metadata": {},
   "source": [
    "A점에서의 반력은 수직방향 힘 평형 방정식으로부터 구할 수 있다."
   ]
  },
  {
   "cell_type": "markdown",
   "metadata": {},
   "source": [
    "A 점에서의 반력\n",
    "$$\n",
    "R_A + w L_{AB} + R_B + P_D = 0 \\\\\n",
    "R_A = -w L_{AB} - R_B - P_D\n",
    "$$"
   ]
  },
  {
   "cell_type": "code",
   "execution_count": null,
   "metadata": {
    "collapsed": false
   },
   "outputs": [],
   "source": [
    "R_A_N = - w_AB_N_m * L_AB_m - P_D_N - R_B_N\n",
    "R_A_N"
   ]
  },
  {
   "cell_type": "markdown",
   "metadata": {},
   "source": [
    "### 전단력선도"
   ]
  },
  {
   "cell_type": "markdown",
   "metadata": {},
   "source": [
    "#### A-B 구간"
   ]
  },
  {
   "cell_type": "code",
   "execution_count": null,
   "metadata": {
    "collapsed": true
   },
   "outputs": [],
   "source": [
    "x_AB_m_array = np.linspace(x_A_m, x_B_m, 100+1)"
   ]
  },
  {
   "cell_type": "markdown",
   "metadata": {},
   "source": [
    "A 지점에서의 반력과 분포하중을 반영한다."
   ]
  },
  {
   "cell_type": "markdown",
   "metadata": {},
   "source": [
    "$$V_{AB}=R_A+wx$$"
   ]
  },
  {
   "cell_type": "code",
   "execution_count": null,
   "metadata": {
    "collapsed": false
   },
   "outputs": [],
   "source": [
    "V_AB_N_array = R_A_N + w_AB_N_m * x_AB_m_array\n",
    "V_AB_N_array[:5], V_AB_N_array[-5:], "
   ]
  },
  {
   "cell_type": "code",
   "execution_count": null,
   "metadata": {
    "collapsed": false,
    "scrolled": false
   },
   "outputs": [],
   "source": [
    "plt.clf()\n",
    "plt.fill_between(x_AB_m_array, V_AB_N_array)\n",
    "plt.ylabel('V(N)')"
   ]
  },
  {
   "cell_type": "markdown",
   "metadata": {},
   "source": [
    "A 지점에서의 반력을 화살표로 표시한다."
   ]
  },
  {
   "cell_type": "code",
   "execution_count": null,
   "metadata": {
    "collapsed": false
   },
   "outputs": [],
   "source": [
    "ax = plt.axes()\n",
    "ax.arrow(x_A_m, 0, \n",
    "         0, R_A_N * 0.9, \n",
    "         head_width=0.05, head_length=0.1 * abs(R_A_N), fc='k', ec='k')"
   ]
  },
  {
   "cell_type": "code",
   "execution_count": null,
   "metadata": {
    "collapsed": false,
    "scrolled": true
   },
   "outputs": [],
   "source": [
    "plt.text(x_A_m, 0, 'A')\n",
    "plt.text(x_B_m, 0, 'B')\n",
    "plt.text(x_D_m, 0, 'D')\n",
    "plt.xlim(xmax=x_D_m)\n",
    "plt.xlabel('x(m)')\n",
    "plt.grid(True)\n",
    "plt.show()"
   ]
  },
  {
   "cell_type": "markdown",
   "metadata": {},
   "source": [
    "#### B-D 구간"
   ]
  },
  {
   "cell_type": "code",
   "execution_count": null,
   "metadata": {
    "collapsed": true
   },
   "outputs": [],
   "source": [
    "x_BD_m_array = np.linspace(x_B_m, x_D_m, 40+1)"
   ]
  },
  {
   "cell_type": "markdown",
   "metadata": {},
   "source": [
    "A 지점에서의 반력과 분포하중, B 지점 반력을 반영한다."
   ]
  },
  {
   "cell_type": "markdown",
   "metadata": {},
   "source": [
    "$$V_{BD}=R_A+wL_{AB}+R_B$$"
   ]
  },
  {
   "cell_type": "code",
   "execution_count": null,
   "metadata": {
    "collapsed": false
   },
   "outputs": [],
   "source": [
    "V_BD_N_array = (R_A_N + w_AB_N_m * L_AB_m + R_B_N) * np.ones_like(x_BD_m_array)"
   ]
  },
  {
   "cell_type": "code",
   "execution_count": null,
   "metadata": {
    "collapsed": false,
    "scrolled": false
   },
   "outputs": [],
   "source": [
    "plt.clf()\n",
    "plt.fill_between(x_AB_m_array, V_AB_N_array)\n",
    "plt.fill_between(x_BD_m_array, V_BD_N_array)\n",
    "plt.ylabel('V(N)')"
   ]
  },
  {
   "cell_type": "markdown",
   "metadata": {},
   "source": [
    "A 지점에서의 반력을 화살표로 표시한다."
   ]
  },
  {
   "cell_type": "code",
   "execution_count": null,
   "metadata": {
    "collapsed": false
   },
   "outputs": [],
   "source": [
    "ax = plt.axes()\n",
    "ax.arrow(x_A_m, 0, \n",
    "         0, R_A_N * 0.9, \n",
    "         head_width=0.2, head_length=0.05 * abs(R_A_N), fc='k', ec='k')"
   ]
  },
  {
   "cell_type": "markdown",
   "metadata": {},
   "source": [
    "B 지점에서의 반력을 화살표로 표시한다."
   ]
  },
  {
   "cell_type": "code",
   "execution_count": null,
   "metadata": {
    "collapsed": false
   },
   "outputs": [],
   "source": [
    "ax.arrow(x_B_m, V_AB_N_array[-1], \n",
    "         0, R_B_N * 0.9, \n",
    "         head_width=0.2, head_length=0.1 * abs(R_B_N), fc='k', ec='k')"
   ]
  },
  {
   "cell_type": "markdown",
   "metadata": {},
   "source": [
    "D 지점에서의 반력을 화살표로 표시한다."
   ]
  },
  {
   "cell_type": "code",
   "execution_count": null,
   "metadata": {
    "collapsed": false
   },
   "outputs": [],
   "source": [
    "ax.arrow(x_D_m, V_BD_N_array[-1], \n",
    "         0, P_D_N * 0.9, \n",
    "         head_width=0.2, head_length=0.1 * abs(P_D_N), fc='k', ec='k')"
   ]
  },
  {
   "cell_type": "code",
   "execution_count": null,
   "metadata": {
    "collapsed": false,
    "scrolled": true
   },
   "outputs": [],
   "source": [
    "plt.text(x_A_m, 0, 'A')\n",
    "plt.text(x_B_m, 0, 'B')\n",
    "plt.text(x_D_m, 0, 'D')\n",
    "plt.xlabel('x(m)')\n",
    "plt.grid(True)\n",
    "plt.show()"
   ]
  }
 ],
 "metadata": {
  "anaconda-cloud": {},
  "kernelspec": {
   "display_name": "Python [default]",
   "language": "python",
   "name": "python3"
  },
  "language_info": {
   "codemirror_mode": {
    "name": "ipython",
    "version": 3
   },
   "file_extension": ".py",
   "mimetype": "text/x-python",
   "name": "python",
   "nbconvert_exporter": "python",
   "pygments_lexer": "ipython3",
   "version": "3.5.2"
  }
 },
 "nbformat": 4,
 "nbformat_minor": 2
}
