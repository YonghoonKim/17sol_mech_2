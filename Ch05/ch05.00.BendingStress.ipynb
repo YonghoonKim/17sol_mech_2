{
 "cells": [
  {
   "cell_type": "markdown",
   "metadata": {},
   "source": [
    "`python` 기능을 확장해 주는 `module`을 불러 들임 (일부 기능만 사용될 수도 있음)"
   ]
  },
  {
   "cell_type": "code",
   "execution_count": null,
   "metadata": {
    "collapsed": true
   },
   "outputs": [],
   "source": [
    "import numpy as np  # 배열, 행렬 관련 기능\n",
    "import numpy.linalg as na  # 선형대수 (벡터, 행렬) 관련 기능\n",
    "import matplotlib.pyplot as plt  # 그래프 관련 기능\n",
    "import scipy.integrate as si  # 적분 관련 기능\n",
    "import sympy as sy  # 기호 연산 기능\n",
    "import sympy.plotting as splot\n",
    "import IPython.display as disp  # 웹페이지 표시 기능\n",
    "sy.init_printing()  # 기호 연산 결과 표시 기능 준비"
   ]
  },
  {
   "cell_type": "markdown",
   "metadata": {},
   "source": [
    "## 05.002 굽힘 응력"
   ]
  },
  {
   "cell_type": "markdown",
   "metadata": {},
   "source": [
    "### b. 적합조건"
   ]
  },
  {
   "cell_type": "markdown",
   "metadata": {},
   "source": [
    "* 보의 중립면에 수직인 면은 굽힘 모멘트에 의해 변형하더라도 계속 수직을 유지한다는 가정을 생각하자. \n",
    "* 중립변 길이 $dx$인 미소 보 요소의 양 끝단의 단면도 굽힘 모멘트에 의해 회전할 것이다.\n",
    "* 양 단면을 연장하면 한 점 곡률 중심에서 만날 것이다.\n",
    "* 이 때 곡률 반경은 $\\rho$ 라고 하자.\n",
    "* 곡률 중심과 양 단면을 이은 두 선 사이의 각도를 $d\\theta$라고 하면, $dx$와 $d\\theta$ 사이에는 다음과 같은 관계가 성립할 것이다.\n",
    "$$dx = \\rho d\\theta$$"
   ]
  }
 ],
 "metadata": {
  "anaconda-cloud": {},
  "kernelspec": {
   "display_name": "Python [default]",
   "language": "python",
   "name": "python3"
  },
  "language_info": {
   "codemirror_mode": {
    "name": "ipython",
    "version": 3
   },
   "file_extension": ".py",
   "mimetype": "text/x-python",
   "name": "python",
   "nbconvert_exporter": "python",
   "pygments_lexer": "ipython3",
   "version": "3.5.2"
  }
 },
 "nbformat": 4,
 "nbformat_minor": 2
}
