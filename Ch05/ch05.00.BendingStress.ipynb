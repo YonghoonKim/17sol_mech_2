{
 "cells": [
  {
   "cell_type": "markdown",
   "metadata": {},
   "source": [
    "`python` 기능을 확장해 주는 `module`을 불러 들임 (일부 기능만 사용될 수도 있음)"
   ]
  },
  {
   "cell_type": "code",
   "execution_count": null,
   "metadata": {
    "collapsed": true
   },
   "outputs": [],
   "source": [
    "import numpy as np  # 배열, 행렬 관련 기능\n",
    "import numpy.linalg as na  # 선형대수 (벡터, 행렬) 관련 기능\n",
    "import matplotlib.pyplot as plt  # 그래프 관련 기능\n",
    "import scipy.integrate as si  # 적분 관련 기능\n",
    "import sympy as sy  # 기호 연산 기능\n",
    "import sympy.plotting as splot\n",
    "import IPython.display as disp  # 웹페이지 표시 기능\n",
    "sy.init_printing()  # 기호 연산 결과 표시 기능 준비"
   ]
  },
  {
   "cell_type": "markdown",
   "metadata": {},
   "source": [
    "## 05.002 굽힘 응력"
   ]
  },
  {
   "cell_type": "markdown",
   "metadata": {},
   "source": [
    "### b. 적합조건"
   ]
  },
  {
   "cell_type": "markdown",
   "metadata": {},
   "source": [
    "* 보의 중립면에 수직인 면은 굽힘 모멘트에 의해 변형하더라도 계속 수직을 유지한다는 가정을 생각하자. \n",
    "* 중립변 길이 $dx$인 미소 보 요소의 양 끝단의 단면도 굽힘 모멘트에 의해 회전할 것이다.\n",
    "* 양 단면을 연장하면 한 점 곡률 중심에서 만날 것이다.\n",
    "* 이 때 곡률 반경은 $\\rho$ 라고 하자.\n",
    "* 곡률 중심과 양 단면을 이은 두 선 사이의 각도를 $d\\theta$라고 하면, $dx$와 $d\\theta$ 사이에는 다음과 같은 관계가 성립할 것이다.\n",
    "$$dx = \\rho d\\theta$$"
   ]
  },
  {
   "cell_type": "markdown",
   "metadata": {},
   "source": [
    "* 굽힘 모멘트 하중이 가해지지 않은 길이 $dx$인 미소보요소의 중립면으로부터 $y$ 만큼 더 높은 위치에 중립면과 평행한 직선을 그린다고 생각해 보자.\n",
    "* 이 때 양 끝점을 각각 $a$, $b$ 라고 생각해 보자.\n",
    "* 굽힘모멘트를 가하면 이 직선도 원호의 일부와 같은 형태로 변형할 것이다. 이 때의 양 끝점을 $a'$, $b'$ 라고 하자.\n",
    "* 곡률 중심은 변형한 중립면의 곡률 중심과 같을 것이다.\n",
    "* 곡률 반경은 중립면의 곡률반경 $\\rho$ 에서 $y$를 뺀 값과 같을 것이다.\n",
    "* $a'$와 $b'$ 사이의 원호의 길이는 다음과 같이 될 것이다.\n",
    "$$L_{a'-b'} = (\\rho-y)d\\theta$$"
   ]
  },
  {
   "cell_type": "markdown",
   "metadata": {},
   "source": [
    "* 이 원호의 길이와 원래 길이를 비교하면 다음과 같다.\n",
    "$$\n",
    "\\begin{align}\n",
    "L_{a'-b'}-L_{a-b} &=[(\\rho-y)d\\theta] - [\\rho d\\theta] \\\\\n",
    "    &=\\rho d\\theta-yd\\theta - \\rho d\\theta \\\\\n",
    "    &=-yd\\theta\\\\\n",
    "\\end{align}\n",
    "$$"
   ]
  },
  {
   "cell_type": "markdown",
   "metadata": {},
   "source": [
    "* 법선 변형률은 다음과 같을 것이다.\n",
    "$$\n",
    "\\begin{align}\n",
    "\\epsilon=\\frac{L_{a'-b'}-L_{a-b}}{L_{a-b}} &=\\frac{-yd\\theta}{\\rho d\\theta} = -\\frac{y}{\\rho}\\\\\n",
    "\\end{align}\n",
    "$$"
   ]
  }
 ],
 "metadata": {
  "anaconda-cloud": {},
  "kernelspec": {
   "display_name": "Python [default]",
   "language": "python",
   "name": "python3"
  },
  "language_info": {
   "codemirror_mode": {
    "name": "ipython",
    "version": 3
   },
   "file_extension": ".py",
   "mimetype": "text/x-python",
   "name": "python",
   "nbconvert_exporter": "python",
   "pygments_lexer": "ipython3",
   "version": "3.5.2"
  }
 },
 "nbformat": 4,
 "nbformat_minor": 2
}
