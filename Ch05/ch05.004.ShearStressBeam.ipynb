{
 "cells": [
  {
   "cell_type": "markdown",
   "metadata": {},
   "source": [
    "`python` 기능을 확장해 주는 `module`을 불러 들임 (일부 기능만 사용될 수도 있음)"
   ]
  },
  {
   "cell_type": "code",
   "execution_count": null,
   "metadata": {
    "collapsed": true
   },
   "outputs": [],
   "source": [
    "import numpy as np  # 배열, 행렬 관련 기능\n",
    "import numpy.linalg as na  # 선형대수 (벡터, 행렬) 관련 기능\n",
    "import matplotlib.pyplot as plt  # 그래프 관련 기능\n",
    "import scipy.integrate as si  # 적분 관련 기능\n",
    "import sympy as sy  # 기호 연산 기능\n",
    "import sympy.plotting as splot\n",
    "import IPython.display as disp  # 웹페이지 표시 기능\n",
    "sy.init_printing()  # 기호 연산 결과 표시 기능 준비"
   ]
  },
  {
   "cell_type": "markdown",
   "metadata": {},
   "source": [
    "## 05.004 보에서의 전단응력"
   ]
  },
  {
   "cell_type": "markdown",
   "metadata": {},
   "source": [
    "### a. 해석"
   ]
  },
  {
   "cell_type": "markdown",
   "metadata": {},
   "source": [
    "* 보의 $x$ 축에 수직인 단면 $A$ 를 생각해 보자.\n",
    "* y 축에 수직인 평면으로 $A$ 를 둘로 나눌 수 있다.\n",
    "* 그 중 위쪽을 $A'$라고 하자.\n",
    "* $A'$에 $x$ 방향으로 가해지는 힘을 생각해 보자.\n",
    "$$\n",
    "P = \\int_{A'} dP = \\int_{A'} \\sigma dA\n",
    "$$\n",
    "* 굽힘 응력 $\\sigma$ 는 중립면으로부터의 거리 $y$에 따라 변한다. (p.170 eq. 5.3)\n",
    "$$\n",
    "\\sigma = - \\frac{M}{I} y\n",
    "$$\n",
    "* 힘 $P$를 구하기 위한 적분에 반영하면 다음과 같다. (p.197 eq. 5.6)\n",
    "$$\n",
    "P = \\int_{A'} - \\frac{M}{I} y dA = - \\frac{M}{I} \\int_{A'} y dA\n",
    "$$\n",
    "* 여기서 다음과 같이 $A'$의 중립축에 대한 1차 모멘트 $Q$를 정하자. (p.197 eq. 5.7a)\n",
    "$$\n",
    "Q = \\int_{A'} y dA\n",
    "$$\n",
    "* $Q$를 이용하면 $P$는 다음과 같이 표시된다.\n",
    "$$\n",
    "P = - \\frac{MQ}{I}\n",
    "$$"
   ]
  },
  {
   "cell_type": "markdown",
   "metadata": {},
   "source": [
    "* $y$를 면적 전체에 대해 적분하면 0이 된다. (p. 169 b)\n",
    "$$\n",
    "0 = \\int_{A} y dA\n",
    "$$"
   ]
  },
  {
   "cell_type": "code",
   "execution_count": null,
   "metadata": {
    "collapsed": true
   },
   "outputs": [],
   "source": []
  }
 ],
 "metadata": {
  "anaconda-cloud": {},
  "kernelspec": {
   "display_name": "Python [default]",
   "language": "python",
   "name": "python3"
  },
  "language_info": {
   "codemirror_mode": {
    "name": "ipython",
    "version": 3
   },
   "file_extension": ".py",
   "mimetype": "text/x-python",
   "name": "python",
   "nbconvert_exporter": "python",
   "pygments_lexer": "ipython3",
   "version": "3.5.2"
  }
 },
 "nbformat": 4,
 "nbformat_minor": 2
}
