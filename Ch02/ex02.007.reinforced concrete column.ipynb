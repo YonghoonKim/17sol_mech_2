{
 "cells": [
  {
   "cell_type": "markdown",
   "metadata": {},
   "source": [
    "`python` 에서 수학 관련 기능을 좀 더 쉽게 사용할 수 있도록 해 주는 `module`을 불러 들임 (모든 기능이 다 사용되지는 않을 수도 있음)"
   ]
  },
  {
   "cell_type": "code",
   "execution_count": null,
   "metadata": {
    "collapsed": true
   },
   "outputs": [],
   "source": [
    "import numpy as np  # 배열, 행렬 관련 기능\n",
    "import numpy.linalg as na  # 선형대수 (벡터, 행렬) 관련 기능"
   ]
  },
  {
   "cell_type": "markdown",
   "metadata": {},
   "source": [
    "## 예제 02.007"
   ]
  },
  {
   "cell_type": "markdown",
   "metadata": {},
   "source": [
    "### 문제에서 주어진 매개변수"
   ]
  },
  {
   "cell_type": "markdown",
   "metadata": {},
   "source": [
    "강 봉의 단면적"
   ]
  },
  {
   "cell_type": "code",
   "execution_count": null,
   "metadata": {
    "collapsed": true
   },
   "outputs": [],
   "source": [
    "A_bar_mm2 = 900"
   ]
  },
  {
   "cell_type": "markdown",
   "metadata": {},
   "source": [
    "강 봉의 갯수"
   ]
  },
  {
   "cell_type": "code",
   "execution_count": null,
   "metadata": {
    "collapsed": true
   },
   "outputs": [],
   "source": [
    "n_bar = 4"
   ]
  },
  {
   "cell_type": "markdown",
   "metadata": {},
   "source": [
    "압축 하중"
   ]
  },
  {
   "cell_type": "code",
   "execution_count": null,
   "metadata": {
    "collapsed": true
   },
   "outputs": [],
   "source": [
    "P_N = 1000e3"
   ]
  },
  {
   "cell_type": "markdown",
   "metadata": {},
   "source": [
    "강과 콘크리트의 탄성계수"
   ]
  },
  {
   "cell_type": "code",
   "execution_count": null,
   "metadata": {
    "collapsed": true
   },
   "outputs": [],
   "source": [
    "E_steel_Pa = 200e9\n",
    "E_concrete_Pa = 14e9"
   ]
  },
  {
   "cell_type": "markdown",
   "metadata": {},
   "source": [
    "콘크리트 정사각형 기둥의 한 변의 길이"
   ]
  },
  {
   "cell_type": "code",
   "execution_count": null,
   "metadata": {
    "collapsed": true
   },
   "outputs": [],
   "source": [
    "w_mm = 300"
   ]
  },
  {
   "cell_type": "markdown",
   "metadata": {},
   "source": [
    "### 풀이"
   ]
  },
  {
   "cell_type": "markdown",
   "metadata": {},
   "source": [
    "강 봉의 변형과 콘크리트 기둥의 변형은 같다고 가정한다.\n",
    "$$\\delta_{steel}=\\delta_{concrete}$$"
   ]
  },
  {
   "cell_type": "markdown",
   "metadata": {},
   "source": [
    "강 봉에 걸리는 하중과 콘크리트에 걸리는 하중의 합이 압축하중이 된다.\n",
    "$$P=P_{steel} + P_{concrete}$$"
   ]
  },
  {
   "cell_type": "markdown",
   "metadata": {},
   "source": [
    "강 봉의 길이와 콘크리트 기둥의 길이가 같다면, 변형률도 같다.\n",
    "$$\\epsilon_{steel}=\\epsilon_{concrete}$$"
   ]
  },
  {
   "cell_type": "markdown",
   "metadata": {},
   "source": [
    "탄성계수를 적용하면 강 봉과 콘크리트의 압축 응력을 구할 수 있다.\n",
    "$$\\frac{\\sigma_{steel}}{E_{steel}}=\\frac{\\sigma_{concrete}}{E_{concrete}}$$"
   ]
  },
  {
   "cell_type": "markdown",
   "metadata": {},
   "source": [
    "한편, 하중을 응력으로 표시할 수 있다.\n",
    "$$P=\\sigma_{steel}A_{steel}+\\sigma_{concrete}A_{concrete}$$"
   ]
  },
  {
   "cell_type": "markdown",
   "metadata": {},
   "source": [
    "각 면적은 다음과 같이 구할 수 있다.\n",
    "$$A_{steel} = n_{bar}A_{bar}$$\n",
    "$$A_{concrete} = w^2 - A_{steel}$$"
   ]
  },
  {
   "cell_type": "markdown",
   "metadata": {},
   "source": [
    "하중 식은 다음과 같이 될 것이다.\n",
    "$$P=\\sigma_{steel}n_{bar}A_{bar}+\\sigma_{concrete}(w^2 - n_{bar}A_{bar})$$"
   ]
  },
  {
   "cell_type": "markdown",
   "metadata": {},
   "source": [
    "하중 식과 응력 식을 모으면 다음과 같다.\n",
    "\\begin{equation}\n",
    "\\begin{array}{}\n",
    "    n_{bar}A_{bar}\\sigma_{steel}+(w^2 - n_{bar}A_{bar})\\sigma_{concrete}&=&P\\\\\n",
    "    \\frac{1}{E_{steel}}\\sigma_{steel}-\\frac{1}{E_{concrete}}\\sigma_{concrete}&=&0\\\\\n",
    "\\end{array}\n",
    "\\end{equation}"
   ]
  },
  {
   "cell_type": "markdown",
   "metadata": {},
   "source": [
    "행렬 형태로도 정리할 수 있다.\n",
    "\\begin{equation}\n",
    "\\begin{bmatrix}\n",
    "n_{bar}A_{bar} & w^2 - n_{bar}A_{bar} \\\\\n",
    "\\frac{1}{E_{steel}} & -\\frac{1}{E_{concrete}}\n",
    "\\end{bmatrix}\n",
    "\\begin{bmatrix}\n",
    "\\sigma_{steel} \\\\\n",
    "\\sigma_{concrete}\n",
    "\\end{bmatrix}\n",
    "=\n",
    "\\begin{bmatrix}\n",
    "P\\\\\n",
    "0\n",
    "\\end{bmatrix}\n",
    "\\end{equation}\n",
    "\n",
    "이런 형태의 문제는 다음과 같이 줄여 쓸 수도 있다.\n",
    "$$Ax=b \\\\ x = A^{-1}b$$"
   ]
  },
  {
   "cell_type": "markdown",
   "metadata": {},
   "source": [
    "`python` 변수 $A_{bar}$ 와 $w$ 의 단위를 변경한다."
   ]
  },
  {
   "cell_type": "code",
   "execution_count": null,
   "metadata": {
    "collapsed": false
   },
   "outputs": [],
   "source": [
    "X = 1e-3\n",
    "A_bar_m2 = A_bar_mm2 * X**2\n",
    "w_m = w_mm * X"
   ]
  },
  {
   "cell_type": "markdown",
   "metadata": {},
   "source": [
    "계수 행렬 $A$를 정한다. "
   ]
  },
  {
   "cell_type": "code",
   "execution_count": null,
   "metadata": {
    "collapsed": false
   },
   "outputs": [],
   "source": [
    "A_mat = np.matrix([[n_bar * A_bar_m2, w_m**2 - n_bar * A_bar_m2],\n",
    "                   [1./E_steel_Pa, -1./E_concrete_Pa]])"
   ]
  },
  {
   "cell_type": "markdown",
   "metadata": {},
   "source": [
    "상수 벡터 $b$를 정한다."
   ]
  },
  {
   "cell_type": "code",
   "execution_count": null,
   "metadata": {
    "collapsed": true
   },
   "outputs": [],
   "source": [
    "b_vec = np.matrix([[P_N],\n",
    "                  [0.0]])"
   ]
  },
  {
   "cell_type": "markdown",
   "metadata": {},
   "source": [
    "위 행렬 방정식을 푼다."
   ]
  },
  {
   "cell_type": "code",
   "execution_count": null,
   "metadata": {
    "collapsed": false
   },
   "outputs": [],
   "source": [
    "na.solve(A_mat, b_vec)"
   ]
  }
 ],
 "metadata": {
  "anaconda-cloud": {},
  "kernelspec": {
   "display_name": "Python [conda root]",
   "language": "python",
   "name": "conda-root-py"
  },
  "language_info": {
   "codemirror_mode": {
    "name": "ipython",
    "version": 3
   },
   "file_extension": ".py",
   "mimetype": "text/x-python",
   "name": "python",
   "nbconvert_exporter": "python",
   "pygments_lexer": "ipython3",
   "version": "3.5.2"
  }
 },
 "nbformat": 4,
 "nbformat_minor": 2
}
