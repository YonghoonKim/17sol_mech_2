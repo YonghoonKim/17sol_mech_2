{
 "cells": [
  {
   "cell_type": "markdown",
   "metadata": {},
   "source": [
    "`python` 에서 수학 관련 기능을 좀 더 쉽게 사용할 수 있도록 해 주는 `module`을 불러 들임"
   ]
  },
  {
   "cell_type": "code",
   "execution_count": null,
   "metadata": {
    "collapsed": true
   },
   "outputs": [],
   "source": [
    "import numpy as np  # 배열, 행렬 관련 기능\n",
    "import matplotlib.pyplot as plt  # 그래프 관련 기능"
   ]
  },
  {
   "cell_type": "markdown",
   "metadata": {},
   "source": [
    "## 예제 02.002"
   ]
  },
  {
   "cell_type": "markdown",
   "metadata": {},
   "source": [
    "문제에서 주어진 매개변수"
   ]
  },
  {
   "cell_type": "code",
   "execution_count": null,
   "metadata": {
    "collapsed": true
   },
   "outputs": [],
   "source": [
    "L_m = 10\n",
    "t_mm = 20\n",
    "P_N = 100e3\n",
    "wa_mm = 40\n",
    "wb_mm = 120\n",
    "E_Pa = 200e9"
   ]
  },
  {
   "cell_type": "markdown",
   "metadata": {},
   "source": [
    "x의 범위를 다음과 같이 지정할 수 있다"
   ]
  },
  {
   "cell_type": "code",
   "execution_count": null,
   "metadata": {
    "collapsed": true
   },
   "outputs": [],
   "source": [
    "x_m_array = np.linspace(0, L_m, 100 + 1)"
   ]
  },
  {
   "cell_type": "markdown",
   "metadata": {
    "collapsed": true
   },
   "source": [
    "재료의 폭이  $w_A$ ~ $w_B$ 로 변화한다면 다음과 같이 표시할 수 있다.\n",
    "$$h(x) = \\frac{x(w_B - w_A) + w_AL}{L}$$\n",
    "이를 python code 표시하려면 다음과 같이 가능하다."
   ]
  },
  {
   "cell_type": "code",
   "execution_count": null,
   "metadata": {
    "collapsed": true
   },
   "outputs": [],
   "source": [
    "h_mm = (wb_mm - wa_mm) * x_m_array / L_m + wa_mm"
   ]
  },
  {
   "cell_type": "markdown",
   "metadata": {
    "collapsed": true
   },
   "source": [
    "그래프로 그리려면 우선 x, y 값을 지정해준다."
   ]
  },
  {
   "cell_type": "code",
   "execution_count": null,
   "metadata": {
    "collapsed": false
   },
   "outputs": [],
   "source": [
    "plt.plot(x_m_array, h_mm, label='h(mm)')"
   ]
  },
  {
   "cell_type": "markdown",
   "metadata": {
    "collapsed": true
   },
   "source": [
    "그래프의 x, y 축 이름을 지정한다."
   ]
  },
  {
   "cell_type": "code",
   "execution_count": null,
   "metadata": {
    "collapsed": false
   },
   "outputs": [],
   "source": [
    "plt.xlabel('x(m)')\n",
    "plt.ylabel('h(mm)')"
   ]
  },
  {
   "cell_type": "markdown",
   "metadata": {
    "collapsed": true
   },
   "source": [
    "그래프에 모눈 표시를 추가한다."
   ]
  },
  {
   "cell_type": "code",
   "execution_count": null,
   "metadata": {
    "collapsed": true
   },
   "outputs": [],
   "source": [
    "plt.grid(True)"
   ]
  },
  {
   "cell_type": "code",
   "execution_count": null,
   "metadata": {
    "collapsed": false
   },
   "outputs": [],
   "source": [
    "plt.show()"
   ]
  },
  {
   "cell_type": "markdown",
   "metadata": {},
   "source": [
    "면적은 다음과 같다.\n",
    "$$A(m^2) = t(mm) \\times h(mm) \\times X^2$$\n",
    "여기서 $X=10^{-3}$ 이다.\n",
    "python 으로 표시하면 다음과 같을 것이다. "
   ]
  },
  {
   "cell_type": "code",
   "execution_count": null,
   "metadata": {
    "collapsed": false
   },
   "outputs": [],
   "source": [
    "X = 1e-3\n",
    "A_m2 = t_mm * h_mm * (X**2)"
   ]
  },
  {
   "cell_type": "markdown",
   "metadata": {},
   "source": [
    "그래프로 표시해 보자."
   ]
  },
  {
   "cell_type": "code",
   "execution_count": null,
   "metadata": {
    "collapsed": false
   },
   "outputs": [],
   "source": [
    "plt.plot(x_m_array, A_m2, label='$A(m^2)$')\n",
    "plt.xlabel('x(m)')\n",
    "plt.ylabel('$A(m^2)$')\n",
    "plt.grid(True)\n",
    "plt.show()"
   ]
  },
  {
   "cell_type": "markdown",
   "metadata": {},
   "source": [
    "응력은 다음과 같이 구할 수 있다.\n",
    "$$ \\sigma(Pa)=\\frac{P(N)}{A(m^2)} $$\n",
    "python 으로는 다음과 같이 계산할 수 있다."
   ]
  },
  {
   "cell_type": "code",
   "execution_count": null,
   "metadata": {
    "collapsed": true
   },
   "outputs": [],
   "source": [
    "sigma_Pa = P_N / A_m2"
   ]
  },
  {
   "cell_type": "markdown",
   "metadata": {},
   "source": [
    "그래프로 표시해 보자."
   ]
  },
  {
   "cell_type": "code",
   "execution_count": null,
   "metadata": {
    "collapsed": false
   },
   "outputs": [],
   "source": [
    "plt.plot(x_m_array, sigma_Pa, label='$\\sigma(Pa)$')\n",
    "plt.xlabel('x(m)')\n",
    "plt.ylabel('$\\sigma(Pa)$')\n",
    "plt.grid(True)\n",
    "plt.show()"
   ]
  },
  {
   "cell_type": "markdown",
   "metadata": {},
   "source": [
    "변형률도 구할 수 있다.\n",
    "$$\\sigma=E\\epsilon$$\n",
    "$$\\epsilon = \\frac{\\sigma}{E}$$"
   ]
  },
  {
   "cell_type": "code",
   "execution_count": null,
   "metadata": {
    "collapsed": false
   },
   "outputs": [],
   "source": [
    "epsilon = sigma_Pa / E_Pa\n",
    "plt.plot(x_m_array, epsilon, label='$\\epsilon$')\n",
    "plt.xlabel('x(m)')\n",
    "plt.ylabel('$\\epsilon$')\n",
    "plt.grid(True)\n",
    "plt.show()"
   ]
  },
  {
   "cell_type": "markdown",
   "metadata": {},
   "source": [
    "변형률은 $x$에 반비례적인 관계를 보임을 대략 알 수 있다. 이를 적분하면 변형량 $\\delta(m)$ 를 구할 수 있다.\n",
    "$$\\delta = \\int_{x=L}^{x=0} \\epsilon dx$$"
   ]
  },
  {
   "cell_type": "code",
   "execution_count": null,
   "metadata": {
    "collapsed": true
   },
   "outputs": [],
   "source": [
    "delta_m = np.trapz(epsilon, x_m_array)\n",
    "import IPython.display as disp\n",
    "disp.display(disp.Math('$\\delta=%f(m)$' % delta_m))\n",
    "disp.display(disp.Math('$\\delta=%f(mm)$' % (delta_m*1000)))"
   ]
  }
 ],
 "metadata": {
  "kernelspec": {
   "display_name": "Python [conda env:py3]",
   "language": "python",
   "name": "conda-env-py3-py"
  },
  "language_info": {
   "codemirror_mode": {
    "name": "ipython",
    "version": 3
   },
   "file_extension": ".py",
   "mimetype": "text/x-python",
   "name": "python",
   "nbconvert_exporter": "python",
   "pygments_lexer": "ipython3",
   "version": "3.6.1"
  }
 },
 "nbformat": 4,
 "nbformat_minor": 2
}
