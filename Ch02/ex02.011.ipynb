{
 "cells": [
  {
   "cell_type": "markdown",
   "metadata": {},
   "source": [
    "`python` 기능을 확장해 주기 위한 `module`을 불러 들임"
   ]
  },
  {
   "cell_type": "code",
   "execution_count": null,
   "metadata": {
    "collapsed": true
   },
   "outputs": [],
   "source": [
    "import numpy as np\n",
    "import numpy.linalg as na\n",
    "import matplotlib.pyplot as plt\n",
    "import sympy as sy\n",
    "import IPython.display as disp"
   ]
  },
  {
   "cell_type": "markdown",
   "metadata": {},
   "source": [
    "## 예제 02.011"
   ]
  },
  {
   "cell_type": "markdown",
   "metadata": {},
   "source": [
    "### 문제에서 주어진 매개변수"
   ]
  },
  {
   "cell_type": "markdown",
   "metadata": {},
   "source": [
    "수평 철봉의 길이"
   ]
  },
  {
   "cell_type": "code",
   "execution_count": null,
   "metadata": {
    "collapsed": true
   },
   "outputs": [],
   "source": [
    "L_m = 2.5"
   ]
  },
  {
   "cell_type": "markdown",
   "metadata": {},
   "source": [
    "수평 철봉의 단면적"
   ]
  },
  {
   "cell_type": "code",
   "execution_count": null,
   "metadata": {
    "collapsed": true
   },
   "outputs": [],
   "source": [
    "a_bar_mm2 = 1200"
   ]
  },
  {
   "cell_type": "markdown",
   "metadata": {},
   "source": [
    "무응력상태였던 온도"
   ]
  },
  {
   "cell_type": "code",
   "execution_count": null,
   "metadata": {
    "collapsed": true
   },
   "outputs": [],
   "source": [
    "T_0_degC = 20"
   ]
  },
  {
   "cell_type": "markdown",
   "metadata": {},
   "source": [
    "하중을 구하고자 하는 온도"
   ]
  },
  {
   "cell_type": "code",
   "execution_count": null,
   "metadata": {
    "collapsed": true
   },
   "outputs": [],
   "source": [
    "T_1_degC = -20"
   ]
  },
  {
   "cell_type": "markdown",
   "metadata": {},
   "source": [
    "열팽창 계수"
   ]
  },
  {
   "cell_type": "code",
   "execution_count": null,
   "metadata": {
    "collapsed": true
   },
   "outputs": [],
   "source": [
    "alpha_Cinv = 11.7e-6"
   ]
  },
  {
   "cell_type": "markdown",
   "metadata": {},
   "source": [
    "탄성계수"
   ]
  },
  {
   "cell_type": "code",
   "execution_count": null,
   "metadata": {
    "collapsed": true
   },
   "outputs": [],
   "source": [
    "E_steel_Pa = 200e9"
   ]
  },
  {
   "cell_type": "markdown",
   "metadata": {},
   "source": [
    "### 가정 1) 벽 고정"
   ]
  },
  {
   "cell_type": "markdown",
   "metadata": {},
   "source": [
    "온도가 변화하면 수평 철봉의 길이는 다음과 같이 변화할 것이다. \n",
    "$$\\delta=\\alpha \\Delta T = \\alpha (T_1 - T_0) $$\n",
    "값이 양수이면 수평 철봉이 늘어날 것이고, 음수이면 짧아질 것이다."
   ]
  },
  {
   "cell_type": "code",
   "execution_count": null,
   "metadata": {
    "collapsed": false
   },
   "outputs": [],
   "source": [
    "delta_m = L_m * alpha_Cinv * (t_1_degC - t_0_degC)\n",
    "disp.display(disp.Math('\\delta=%g(m)' % delta_m))\n",
    "disp.display(disp.Math('\\delta=%g(mm)' % (delta_m*1e3)))"
   ]
  },
  {
   "cell_type": "markdown",
   "metadata": {},
   "source": [
    "벽이 고정되어 있다면, 이 만큼 변형하려고 하는 철봉의 변형을 억제해 주는 힘을 가해 주어야 한다.\n",
    "$$\\delta=\\frac{PL}{EA}=\\frac{P}{A}\\frac{L}{E}=\\sigma\\frac{L}{E}$$\n",
    "이므로 변형률 $\\epsilon$ 과 응력 $\\sigma$ 는 다음과 같이 구할 수 있다."
   ]
  },
  {
   "cell_type": "code",
   "execution_count": null,
   "metadata": {
    "collapsed": false
   },
   "outputs": [],
   "source": [
    "epsilon = delta_m / L_m\n",
    "sigma_Pa = E_steel_Pa * epsilon\n",
    "disp.display(disp.Math('\\sigma=%g(Pa)' % sigma_Pa))\n",
    "disp.display(disp.Math('\\sigma=%g(MPa)' % (sigma_Pa*1e-6)))"
   ]
  },
  {
   "cell_type": "markdown",
   "metadata": {},
   "source": [
    "### 가정 2) 벽이 0.5mm 까지 함께 이동"
   ]
  },
  {
   "cell_type": "markdown",
   "metadata": {},
   "source": [
    "벽이 움직인다면 변형량이 감소할 것이다."
   ]
  },
  {
   "cell_type": "code",
   "execution_count": null,
   "metadata": {
    "collapsed": false
   },
   "outputs": [],
   "source": [
    "delta_m = L_m * alpha_Cinv * (t_1_degC - t_0_degC) + 0.5e-3\n",
    "disp.display(disp.Math('\\delta=%g(m)' % delta_m))\n",
    "disp.display(disp.Math('\\delta=%g(mm)' % (delta_m*1e3)))"
   ]
  },
  {
   "cell_type": "markdown",
   "metadata": {},
   "source": [
    "변형률 $\\epsilon$ 과 응력 $\\sigma$ 는 다음과 같이 구할 수 있다."
   ]
  },
  {
   "cell_type": "code",
   "execution_count": null,
   "metadata": {
    "collapsed": false
   },
   "outputs": [],
   "source": [
    "epsilon = delta_m / L_m\n",
    "sigma_Pa = E_steel_Pa * epsilon\n",
    "disp.display(disp.Math('\\sigma=%g(Pa)' % sigma_Pa))\n",
    "disp.display(disp.Math('\\sigma=%g(MPa)' % (sigma_Pa*1e-6)))"
   ]
  },
  {
   "cell_type": "code",
   "execution_count": null,
   "metadata": {
    "collapsed": true
   },
   "outputs": [],
   "source": []
  }
 ],
 "metadata": {
  "kernelspec": {
   "display_name": "Python [conda env:py3]",
   "language": "python",
   "name": "conda-env-py3-py"
  },
  "language_info": {
   "codemirror_mode": {
    "name": "ipython",
    "version": 3
   },
   "file_extension": ".py",
   "mimetype": "text/x-python",
   "name": "python",
   "nbconvert_exporter": "python",
   "pygments_lexer": "ipython3",
   "version": "3.6.1"
  }
 },
 "nbformat": 4,
 "nbformat_minor": 2
}
