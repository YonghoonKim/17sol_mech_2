{
 "cells": [
  {
   "cell_type": "markdown",
   "metadata": {},
   "source": [
    "참고문헌 : Pytel 외 저, 이주성 외 역, 재료역학, 2판, 한티미디어, 2013.<br>Ref: Pytel, Kiusalaas, Sharma, Mechanics of Materials, 2nd Ed., Cengege Learning, 2013."
   ]
  },
  {
   "cell_type": "markdown",
   "metadata": {},
   "source": [
    "`python` 기능을 확장해 주는 `module`을 불러 들임 (일부 기능만 사용될 수도 있음)"
   ]
  },
  {
   "cell_type": "code",
   "execution_count": null,
   "metadata": {
    "collapsed": true
   },
   "outputs": [],
   "source": [
    "import numpy as np  # 배열, 행렬 관련 기능\n",
    "import numpy.linalg as na  # 선형대수 (벡터, 행렬) 관련 기능\n",
    "import matplotlib.pyplot as plt  # 그래프 관련 기능\n",
    "import matplotlib.patches as patch # 도형 관련 기능\n",
    "import scipy.integrate as si  # 적분 관련 기능\n",
    "import sympy as sy  # 기호 연산 기능\n",
    "import sympy.plotting as splot\n",
    "import IPython.display as disp  # 웹페이지 표시 기능\n",
    "sy.init_printing()  # 기호 연산 결과 표시 기능 준비"
   ]
  },
  {
   "cell_type": "markdown",
   "metadata": {},
   "source": [
    "## 08.006 모어의 원<br>08.006 Mohr's circle"
   ]
  },
  {
   "cell_type": "markdown",
   "metadata": {},
   "source": [
    "응력 상태로부터 주응력 등 다른 응력 상태를 그림으로 찾음<br>From a stress status, find other stress status(possibly principal stresses)."
   ]
  },
  {
   "cell_type": "markdown",
   "metadata": {},
   "source": [
    "p. 357"
   ]
  },
  {
   "cell_type": "markdown",
   "metadata": {},
   "source": [
    "### 2차원 응력 상태<br>2D stress status"
   ]
  },
  {
   "cell_type": "markdown",
   "metadata": {},
   "source": [
    "$$\n",
    "    \\begin{pmatrix}\n",
    "        \\sigma_{x'}\\\\\n",
    "        \\tau_{x'y'}\\\\\n",
    "    \\end{pmatrix}=\n",
    "    \\begin{bmatrix}\n",
    "        cos\\theta & sin\\theta \\\\\n",
    "        -sin\\theta & cos\\theta\\\\\n",
    "    \\end{bmatrix}\n",
    "    \\begin{bmatrix}\n",
    "        \\sigma_{x} & \\tau_{xy} \\\\\n",
    "        \\tau_{xy} & \\sigma_{y}\\\\\n",
    "    \\end{bmatrix}\n",
    "    \\begin{pmatrix}\n",
    "        cos\\theta\\\\\n",
    "        sin\\theta\\\\\n",
    "    \\end{pmatrix}\n",
    "$$"
   ]
  },
  {
   "cell_type": "markdown",
   "metadata": {},
   "source": [
    "p. 347 eq 8.5 a), c)"
   ]
  },
  {
   "cell_type": "markdown",
   "metadata": {},
   "source": [
    "$$\n",
    "    \\begin{cases}\n",
    "        \\sigma_{x'} &= \\frac{\\sigma_x + \\sigma_y}{2} \n",
    "                    &+ \\frac{\\sigma_x - \\sigma_y}{2}cos 2\\theta  \n",
    "                    &+ \\tau_{xy}sin 2\\theta \\\\\n",
    "        \\tau_{x'y'} &= &-\\frac{\\sigma_x - \\sigma_y}{2}sin 2\\theta \n",
    "                    &+ \\tau_{xy}cos 2\\theta \\\\\n",
    "    \\end{cases}\n",
    "$$"
   ]
  },
  {
   "cell_type": "markdown",
   "metadata": {},
   "source": []
  }
 ],
 "metadata": {
  "anaconda-cloud": {},
  "kernelspec": {
   "display_name": "Python [default]",
   "language": "python",
   "name": "python3"
  },
  "language_info": {
   "codemirror_mode": {
    "name": "ipython",
    "version": 3
   },
   "file_extension": ".py",
   "mimetype": "text/x-python",
   "name": "python",
   "nbconvert_exporter": "python",
   "pygments_lexer": "ipython3",
   "version": "3.5.2"
  }
 },
 "nbformat": 4,
 "nbformat_minor": 2
}
