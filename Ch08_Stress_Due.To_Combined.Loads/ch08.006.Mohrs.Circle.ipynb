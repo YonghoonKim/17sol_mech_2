{
 "cells": [
  {
   "cell_type": "markdown",
   "metadata": {},
   "source": [
    "참고문헌 : Pytel 외 저, 이주성 외 역, 재료역학, 2판, 한티미디어, 2013.<br>Ref: Pytel, Kiusalaas, Sharma, Mechanics of Materials, 2nd Ed., Cengege Learning, 2013."
   ]
  },
  {
   "cell_type": "markdown",
   "metadata": {},
   "source": [
    "`python` 기능을 확장해 주는 `module`을 불러 들임 (일부 기능만 사용될 수도 있음)"
   ]
  },
  {
   "cell_type": "code",
   "execution_count": null,
   "metadata": {
    "collapsed": true
   },
   "outputs": [],
   "source": [
    "import numpy as np  # 배열, 행렬 관련 기능\n",
    "import numpy.linalg as na  # 선형대수 (벡터, 행렬) 관련 기능\n",
    "import matplotlib.pyplot as plt  # 그래프 관련 기능\n",
    "import matplotlib.patches as patch # 도형 관련 기능\n",
    "import scipy.integrate as si  # 적분 관련 기능\n",
    "import sympy as sy  # 기호 연산 기능\n",
    "import sympy.plotting as splot\n",
    "import IPython.display as disp  # 웹페이지 표시 기능\n",
    "sy.init_printing()  # 기호 연산 결과 표시 기능 준비"
   ]
  },
  {
   "cell_type": "markdown",
   "metadata": {},
   "source": [
    "## 08.006 모어의 원<br>08.006 Mohr's circle"
   ]
  },
  {
   "cell_type": "markdown",
   "metadata": {},
   "source": [
    "응력 상태로부터 주응력 등 다른 응력 상태를 그림으로 찾음<br>From a stress status, find other stress status(possibly principal stresses)."
   ]
  },
  {
   "cell_type": "markdown",
   "metadata": {},
   "source": [
    "p. 357"
   ]
  },
  {
   "cell_type": "markdown",
   "metadata": {},
   "source": [
    "### 2차원 응력 상태<br>2D stress status"
   ]
  },
  {
   "cell_type": "markdown",
   "metadata": {},
   "source": [
    "$$\n",
    "    \\begin{pmatrix}\n",
    "        \\sigma_{x'}\\\\\n",
    "        \\tau_{x'y'}\\\\\n",
    "    \\end{pmatrix}=\n",
    "    \\begin{bmatrix}\n",
    "        cos\\theta & sin\\theta \\\\\n",
    "        -sin\\theta & cos\\theta\\\\\n",
    "    \\end{bmatrix}\n",
    "    \\begin{bmatrix}\n",
    "        \\sigma_{x} & \\tau_{xy} \\\\\n",
    "        \\tau_{xy} & \\sigma_{y}\\\\\n",
    "    \\end{bmatrix}\n",
    "    \\begin{pmatrix}\n",
    "        cos\\theta\\\\\n",
    "        sin\\theta\\\\\n",
    "    \\end{pmatrix}\n",
    "$$"
   ]
  },
  {
   "cell_type": "markdown",
   "metadata": {},
   "source": [
    "p. 347 eq 8.5 a), c)"
   ]
  },
  {
   "cell_type": "markdown",
   "metadata": {},
   "source": [
    "$$\n",
    "    \\begin{cases}\n",
    "        \\sigma_{x'} &= \\frac{\\sigma_x + \\sigma_y}{2} \n",
    "                    &+ \\frac{\\sigma_x - \\sigma_y}{2}cos 2\\theta  \n",
    "                    &+ \\tau_{xy}sin 2\\theta \\\\\n",
    "        \\tau_{x'y'} &= &-\\frac{\\sigma_x - \\sigma_y}{2}sin 2\\theta \n",
    "                    &+ \\tau_{xy}cos 2\\theta \\\\\n",
    "    \\end{cases}\n",
    "$$"
   ]
  },
  {
   "cell_type": "markdown",
   "metadata": {},
   "source": [
    "$$\n",
    "    \\begin{pmatrix}\n",
    "        \\sigma_{x'}\\\\\n",
    "        \\tau_{x'y'}\\\\\n",
    "    \\end{pmatrix}\n",
    "    =\n",
    "    \\begin{pmatrix}\n",
    "        \\frac{\\sigma_x + \\sigma_y}{2}\\\\\n",
    "        0\\\\\n",
    "    \\end{pmatrix}\n",
    "    +\n",
    "    \\begin{bmatrix}\n",
    "        cos2\\theta & sin2\\theta \\\\\n",
    "        -sin2\\theta & cos2\\theta\\\\\n",
    "    \\end{bmatrix}\n",
    "    \\begin{pmatrix}\n",
    "        \\frac{\\sigma_x - \\sigma_y}{2}\\\\\n",
    "        \\tau_{xy}\\\\\n",
    "    \\end{pmatrix}\n",
    "$$"
   ]
  },
  {
   "cell_type": "markdown",
   "metadata": {},
   "source": [
    "위 식의 행렬은 회전 행렬임<br>The matrix of equation is a rotation matrix."
   ]
  },
  {
   "cell_type": "markdown",
   "metadata": {},
   "source": [
    "따라서 그 오른쪽의 벡터를 $-2\\theta$ 만큼 회전 시킬 것임<br>Thus it would rotate the vector on its right side by $-2\\theta$."
   ]
  },
  {
   "cell_type": "code",
   "execution_count": null,
   "metadata": {
    "collapsed": false
   },
   "outputs": [],
   "source": [
    "theta_deg = 30\n",
    "theta_rad = np.deg2rad(theta_deg)\n",
    "rot_mat = np.matrix(\n",
    "    [(np.cos(2 * theta_rad), np.sin(2 * theta_rad)),\n",
    "     (-np.sin(2 * theta_rad), np.cos(2 * theta_rad)),]\n",
    ")\n",
    "vec = np.matrix(\n",
    "    [[2], \n",
    "     [1]]\n",
    ")\n",
    "rotated_vec = rot_mat * vec"
   ]
  },
  {
   "cell_type": "code",
   "execution_count": null,
   "metadata": {
    "collapsed": false,
    "scrolled": true
   },
   "outputs": [],
   "source": [
    "plt.clf()\n",
    "ax = plt.gca()\n",
    "# https://matplotlib.org/api/_as_gen/matplotlib.axes.Axes.arrow.html\n",
    "plt.annotate(\"\", xy=vec, xytext=(0, 0), arrowprops=dict(arrowstyle=\"->\"))\n",
    "plt.annotate(\"\", xy=rotated_vec, xytext=(0, 0), arrowprops=dict(arrowstyle=\"->\"))\n",
    "ax.add_patch(plt.Circle((0, 0), radius=(2**2 + 1**2) ** 0.5, fill=None, linewidth=0.5))\n",
    "plt.plot((0, vec[0, 0], rotated_vec[0, 0]),\n",
    "         (0, vec[1, 0], rotated_vec[1, 0]),\n",
    "         '.', alpha=0.0)\n",
    "plt.text(vec[0, 0], vec[1, 0], \"vec\")\n",
    "plt.text(rotated_vec[0, 0], rotated_vec[1, 0], \"rotated_vec\")\n",
    "plt.axis('equal')\n",
    "plt.grid(True)\n",
    "plt.show()"
   ]
  },
  {
   "cell_type": "code",
   "execution_count": null,
   "metadata": {
    "collapsed": true
   },
   "outputs": [],
   "source": []
  }
 ],
 "metadata": {
  "anaconda-cloud": {},
  "kernelspec": {
   "display_name": "Python [default]",
   "language": "python",
   "name": "python3"
  },
  "language_info": {
   "codemirror_mode": {
    "name": "ipython",
    "version": 3
   },
   "file_extension": ".py",
   "mimetype": "text/x-python",
   "name": "python",
   "nbconvert_exporter": "python",
   "pygments_lexer": "ipython3",
   "version": "3.5.2"
  }
 },
 "nbformat": 4,
 "nbformat_minor": 2
}
