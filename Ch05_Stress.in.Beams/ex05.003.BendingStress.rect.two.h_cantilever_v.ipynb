{
 "cells": [
  {
   "cell_type": "markdown",
   "metadata": {},
   "source": [
    "참고문헌 : Pytel 외 저, 이주성 외 역, 재료역학, 2판, 한티미디어, 2013.<br>Ref: Pytel, Kiusalaas, Sharma, Mechanics of Materials, 2nd Ed., Cengege Learning, 2013."
   ]
  },
  {
   "cell_type": "markdown",
   "metadata": {},
   "source": [
    "`python` 기능을 확장해 주는 `module`을 불러 들임 (일부 기능만 사용될 수도 있음)"
   ]
  },
  {
   "cell_type": "code",
   "execution_count": 1,
   "metadata": {
    "collapsed": true
   },
   "outputs": [],
   "source": [
    "import numpy as np  # 배열, 행렬 관련 기능\n",
    "import numpy.linalg as na  # 선형대수 (벡터, 행렬) 관련 기능\n",
    "import numpy.matlib as nm  # 선형대수 (벡터, 행렬) 관련 기능\n",
    "import matplotlib.pyplot as plt  # 그래프 관련 기능\n",
    "import scipy.integrate as si  # 적분 관련 기능\n",
    "import sympy as sy  # 기호 연산 기능\n",
    "import sympy.plotting as splot\n",
    "import IPython.display as disp  # 웹페이지 표시 기능\n",
    "sy.init_printing()  # 기호 연산 결과 표시 기능 준비"
   ]
  },
  {
   "cell_type": "markdown",
   "metadata": {},
   "source": [
    "## 예제 05.003"
   ]
  },
  {
   "cell_type": "markdown",
   "metadata": {},
   "source": [
    "### 문제에서 주어진 변수"
   ]
  },
  {
   "cell_type": "markdown",
   "metadata": {},
   "source": [
    "#### 각 구간 길이"
   ]
  },
  {
   "cell_type": "code",
   "execution_count": 2,
   "metadata": {
    "collapsed": true
   },
   "outputs": [],
   "source": [
    "L_AB_m, L_BD_m = sy.symbols('L_AB_m, L_BD_m')\n",
    "\n",
    "L_AD_m = L_AB_m + L_BD_m\n",
    "\n",
    "s_d = {L_AB_m: 4, \n",
    "       L_BD_m: 4}"
   ]
  },
  {
   "cell_type": "markdown",
   "metadata": {},
   "source": [
    "#### 하중"
   ]
  },
  {
   "cell_type": "code",
   "execution_count": 3,
   "metadata": {
    "collapsed": false
   },
   "outputs": [],
   "source": [
    "P_A_N = sy.Symbol('P_A_N')\n",
    "s_d[P_A_N] = -2000"
   ]
  },
  {
   "cell_type": "markdown",
   "metadata": {},
   "source": [
    "#### 단면"
   ]
  },
  {
   "cell_type": "code",
   "execution_count": 4,
   "metadata": {
    "collapsed": true
   },
   "outputs": [],
   "source": [
    "h_AB_m, h_BD_m, b_m = sy.symbols('h_AB_m, h_BD_m, b_m')\n",
    "s_d[h_AB_m] = 100e-3\n",
    "s_d[h_BD_m] = 150e-3\n",
    "s_d[b_m] = 50e-3"
   ]
  },
  {
   "cell_type": "markdown",
   "metadata": {},
   "source": [
    "### A, B, C, D 지점의 x 좌표\n",
    "A 점에서 x=0 으로 한다."
   ]
  },
  {
   "cell_type": "code",
   "execution_count": 5,
   "metadata": {
    "collapsed": false
   },
   "outputs": [],
   "source": [
    "x_A_m = 0\n",
    "x_B_m = float(x_A_m + L_AB_m.subs(s_d))\n",
    "x_D_m = float(x_B_m + L_BD_m.subs(s_d))"
   ]
  },
  {
   "cell_type": "markdown",
   "metadata": {},
   "source": [
    "### 반력"
   ]
  },
  {
   "cell_type": "markdown",
   "metadata": {},
   "source": [
    "외팔보로 D 점에 수직 방향과 모멘트 반력이 가해짐"
   ]
  },
  {
   "cell_type": "markdown",
   "metadata": {},
   "source": [
    "#### 수직 반력"
   ]
  },
  {
   "cell_type": "code",
   "execution_count": 6,
   "metadata": {
    "collapsed": true
   },
   "outputs": [],
   "source": [
    "R_D_N = sy.Symbol('R_D_N')"
   ]
  },
  {
   "cell_type": "code",
   "execution_count": 7,
   "metadata": {
    "collapsed": false
   },
   "outputs": [
    {
     "data": {
      "image/png": "[encoded data removed]",
      "text/latex": [
       "$$P_{A N} + R_{D N} = 0$$"
      ],
      "text/plain": [
       "P_A_N + R_D_N = 0"
      ]
     },
     "execution_count": 7,
     "metadata": {},
     "output_type": "execute_result"
    }
   ],
   "source": [
    "vf_eq = sy.Eq(R_D_N + P_A_N, 0)\n",
    "vf_eq"
   ]
  },
  {
   "cell_type": "code",
   "execution_count": 8,
   "metadata": {
    "collapsed": false
   },
   "outputs": [
    {
     "data": {
      "image/png": "[encoded data removed]",
      "text/latex": [
       "$$\\left [ - P_{A N}\\right ]$$"
      ],
      "text/plain": [
       "[-P_A_N]"
      ]
     },
     "execution_count": 8,
     "metadata": {},
     "output_type": "execute_result"
    }
   ],
   "source": [
    "R_D_N_sol_list = sy.solve(vf_eq, R_D_N)\n",
    "R_D_N_sol_list"
   ]
  },
  {
   "cell_type": "markdown",
   "metadata": {},
   "source": [
    "#### 모멘트 반력"
   ]
  },
  {
   "cell_type": "code",
   "execution_count": 9,
   "metadata": {
    "collapsed": true
   },
   "outputs": [],
   "source": [
    "RM_D_Nm = sy.Symbol('RM_D_Nm')"
   ]
  },
  {
   "cell_type": "code",
   "execution_count": 10,
   "metadata": {
    "collapsed": false
   },
   "outputs": [
    {
     "data": {
      "image/png": "[encoded data removed]",
      "text/latex": [
       "$$P_{A N} \\left(L_{AB m} + L_{BD m}\\right) + RM_{D Nm} = 0$$"
      ],
      "text/plain": [
       "P_A_N⋅(L_AB_m + L_BD_m) + RM_D_Nm = 0"
      ]
     },
     "execution_count": 10,
     "metadata": {},
     "output_type": "execute_result"
    }
   ],
   "source": [
    "moment_eq = sy.Eq(P_A_N * L_AD_m + RM_D_Nm, 0)\n",
    "moment_eq"
   ]
  },
  {
   "cell_type": "code",
   "execution_count": 11,
   "metadata": {
    "collapsed": false
   },
   "outputs": [
    {
     "data": {
      "image/png": "[encoded data removed]",
      "text/latex": [
       "$$\\left [ - P_{A N} \\left(L_{AB m} + L_{BD m}\\right)\\right ]$$"
      ],
      "text/plain": [
       "[-P_A_N⋅(L_AB_m + L_BD_m)]"
      ]
     },
     "execution_count": 11,
     "metadata": {},
     "output_type": "execute_result"
    }
   ],
   "source": [
    "RM_D_Nm_sol_list = sy.solve(moment_eq, RM_D_Nm)\n",
    "RM_D_Nm_sol_list"
   ]
  },
  {
   "cell_type": "markdown",
   "metadata": {},
   "source": [
    "### 전단력선도"
   ]
  },
  {
   "cell_type": "code",
   "execution_count": 12,
   "metadata": {
    "collapsed": true
   },
   "outputs": [],
   "source": [
    "V_AD_N = P_A_N"
   ]
  },
  {
   "cell_type": "code",
   "execution_count": 13,
   "metadata": {
    "collapsed": true
   },
   "outputs": [],
   "source": [
    "x = sy.Symbol('x')"
   ]
  },
  {
   "cell_type": "code",
   "execution_count": 14,
   "metadata": {
    "collapsed": false
   },
   "outputs": [
    {
     "data": {
      "image/png": "[encoded data removed]",
      "text/plain": [
       "<matplotlib.figure.Figure at 0x1ae191860b8>"
      ]
     },
     "metadata": {},
     "output_type": "display_data"
    },
    {
     "data": {
      "text/plain": [
       "<sympy.plotting.plot.Plot at 0x1ae19186cf8>"
      ]
     },
     "execution_count": 14,
     "metadata": {},
     "output_type": "execute_result"
    }
   ],
   "source": [
    "splot.plot((V_AD_N.subs(s_d), (x, 0, L_AD_m.subs(s_d))),\n",
    "           (0.0, (x, 0, L_AD_m.subs(s_d))))"
   ]
  },
  {
   "cell_type": "markdown",
   "metadata": {},
   "source": [
    "### 굽힘모멘트선도"
   ]
  },
  {
   "cell_type": "code",
   "execution_count": 15,
   "metadata": {
    "collapsed": true
   },
   "outputs": [],
   "source": [
    "M_AD_Nm = V_AD_N * x"
   ]
  },
  {
   "cell_type": "code",
   "execution_count": 16,
   "metadata": {
    "collapsed": false
   },
   "outputs": [
    {
     "data": {
      "image/png": "[encoded data removed]",
      "text/plain": [
       "<matplotlib.figure.Figure at 0x1ae192aeb38>"
      ]
     },
     "metadata": {},
     "output_type": "display_data"
    },
    {
     "data": {
      "text/plain": [
       "<sympy.plotting.plot.Plot at 0x1ae192ae518>"
      ]
     },
     "execution_count": 16,
     "metadata": {},
     "output_type": "execute_result"
    }
   ],
   "source": [
    "splot.plot(M_AD_Nm.subs(s_d), (x, 0, L_AD_m.subs(s_d)))"
   ]
  },
  {
   "cell_type": "markdown",
   "metadata": {},
   "source": [
    "### 굽힘응력"
   ]
  },
  {
   "cell_type": "markdown",
   "metadata": {},
   "source": [
    "#### B 지점"
   ]
  },
  {
   "cell_type": "markdown",
   "metadata": {},
   "source": [
    "B 지점의 굽힘 모멘트"
   ]
  },
  {
   "cell_type": "code",
   "execution_count": 17,
   "metadata": {
    "collapsed": false
   },
   "outputs": [
    {
     "data": {
      "image/png": "[encoded data removed]",
      "text/latex": [
       "$$4.0 P_{A N}$$"
      ],
      "text/plain": [
       "4.0⋅P_A_N"
      ]
     },
     "execution_count": 17,
     "metadata": {},
     "output_type": "execute_result"
    }
   ],
   "source": [
    "M_B_Nm = M_AD_Nm.subs(x, x_B_m)\n",
    "M_B_Nm"
   ]
  },
  {
   "cell_type": "markdown",
   "metadata": {},
   "source": [
    "A-B 구간 단면의 모멘트"
   ]
  },
  {
   "cell_type": "code",
   "execution_count": 18,
   "metadata": {
    "collapsed": true
   },
   "outputs": [],
   "source": [
    "I_AB_m4 = b_m * h_AB_m**3 / 12"
   ]
  },
  {
   "cell_type": "markdown",
   "metadata": {},
   "source": [
    "윗 면으로부터 도심까지의 거리"
   ]
  },
  {
   "cell_type": "code",
   "execution_count": 19,
   "metadata": {
    "collapsed": true
   },
   "outputs": [],
   "source": [
    "c_AB_m = h_AB_m * 0.5"
   ]
  },
  {
   "cell_type": "markdown",
   "metadata": {},
   "source": [
    "굽힘응력"
   ]
  },
  {
   "cell_type": "code",
   "execution_count": 20,
   "metadata": {
    "collapsed": false
   },
   "outputs": [
    {
     "data": {
      "image/png": "[encoded data removed]",
      "text/latex": [
       "$$- \\frac{24.0 P_{A N}}{b_{m} h_{AB m}^{2}}$$"
      ],
      "text/plain": [
       "-24.0⋅P_A_N \n",
       "────────────\n",
       "          2 \n",
       " bₘ⋅h_AB_m  "
      ]
     },
     "execution_count": 20,
     "metadata": {},
     "output_type": "execute_result"
    }
   ],
   "source": [
    "sigma_B_Nm = -M_B_Nm * c_AB_m / I_AB_m4\n",
    "sigma_B_Nm"
   ]
  },
  {
   "cell_type": "code",
   "execution_count": 21,
   "metadata": {
    "collapsed": false,
    "scrolled": true
   },
   "outputs": [
    {
     "data": {
      "image/png": "[encoded data removed]",
      "text/latex": [
       "$$96000000.0$$"
      ],
      "text/plain": [
       "96000000.0000000"
      ]
     },
     "execution_count": 21,
     "metadata": {},
     "output_type": "execute_result"
    }
   ],
   "source": [
    "sigma_B_Nm.subs(s_d)"
   ]
  },
  {
   "cell_type": "markdown",
   "metadata": {},
   "source": [
    "#### D 지점"
   ]
  },
  {
   "cell_type": "markdown",
   "metadata": {},
   "source": [
    "D 지점의 굽힘 모멘트"
   ]
  },
  {
   "cell_type": "code",
   "execution_count": 22,
   "metadata": {
    "collapsed": false
   },
   "outputs": [
    {
     "data": {
      "image/png": "[encoded data removed]",
      "text/latex": [
       "$$8.0 P_{A N}$$"
      ],
      "text/plain": [
       "8.0⋅P_A_N"
      ]
     },
     "execution_count": 22,
     "metadata": {},
     "output_type": "execute_result"
    }
   ],
   "source": [
    "M_D_Nm = M_AD_Nm.subs(x, x_D_m)\n",
    "M_D_Nm"
   ]
  },
  {
   "cell_type": "markdown",
   "metadata": {},
   "source": [
    "A-B 구간 단면의 모멘트"
   ]
  },
  {
   "cell_type": "code",
   "execution_count": 23,
   "metadata": {
    "collapsed": false
   },
   "outputs": [],
   "source": [
    "I_BD_m4 = b_m * h_BD_m**3 / 12"
   ]
  },
  {
   "cell_type": "markdown",
   "metadata": {},
   "source": [
    "윗 면으로부터 도심까지의 거리"
   ]
  },
  {
   "cell_type": "code",
   "execution_count": 24,
   "metadata": {
    "collapsed": true
   },
   "outputs": [],
   "source": [
    "c_BD_m = h_BD_m * 0.5"
   ]
  },
  {
   "cell_type": "markdown",
   "metadata": {},
   "source": [
    "굽힘응력"
   ]
  },
  {
   "cell_type": "code",
   "execution_count": 25,
   "metadata": {
    "collapsed": false
   },
   "outputs": [
    {
     "data": {
      "image/png": "[encoded data removed]",
      "text/latex": [
       "$$- \\frac{48.0 P_{A N}}{b_{m} h_{BD m}^{2}}$$"
      ],
      "text/plain": [
       "-48.0⋅P_A_N \n",
       "────────────\n",
       "          2 \n",
       " bₘ⋅h_BD_m  "
      ]
     },
     "execution_count": 25,
     "metadata": {},
     "output_type": "execute_result"
    }
   ],
   "source": [
    "sigma_D_Nm = -M_D_Nm * c_BD_m / I_BD_m4\n",
    "sigma_D_Nm"
   ]
  },
  {
   "cell_type": "code",
   "execution_count": 26,
   "metadata": {
    "collapsed": false,
    "scrolled": true
   },
   "outputs": [
    {
     "data": {
      "image/png": "[encoded data removed]",
      "text/latex": [
       "$$85333333.3333333$$"
      ],
      "text/plain": [
       "85333333.3333333"
      ]
     },
     "execution_count": 26,
     "metadata": {},
     "output_type": "execute_result"
    }
   ],
   "source": [
    "sigma_D_Nm.subs(s_d)"
   ]
  },
  {
   "cell_type": "markdown",
   "metadata": {},
   "source": [
    "두 값을 비교해 본다. 0보다 크다면 B 지점의 응력이 더 크다."
   ]
  },
  {
   "cell_type": "code",
   "execution_count": 27,
   "metadata": {
    "collapsed": false
   },
   "outputs": [
    {
     "data": {
      "image/png": "[encoded data removed]",
      "text/latex": [
       "$$10666666.6666666$$"
      ],
      "text/plain": [
       "10666666.6666666"
      ]
     },
     "execution_count": 27,
     "metadata": {},
     "output_type": "execute_result"
    }
   ],
   "source": [
    "abs(sigma_B_Nm.subs(s_d)) - abs(sigma_D_Nm.subs(s_d))"
   ]
  },
  {
   "cell_type": "markdown",
   "metadata": {},
   "source": [
    "B 지점에서 응력이 최대이다."
   ]
  },
  {
   "cell_type": "code",
   "execution_count": 28,
   "metadata": {
    "collapsed": false
   },
   "outputs": [
    {
     "data": {
      "image/png": "[encoded data removed]",
      "text/latex": [
       "$$96000000.0$$"
      ],
      "text/plain": [
       "96000000.0000000"
      ]
     },
     "execution_count": 28,
     "metadata": {},
     "output_type": "execute_result"
    }
   ],
   "source": [
    "sigma_B_Nm.subs(s_d)"
   ]
  },
  {
   "cell_type": "markdown",
   "metadata": {},
   "source": [
    "#### x 에 따른 분포<br>Distribution on x"
   ]
  },
  {
   "cell_type": "markdown",
   "metadata": {},
   "source": [
    "p. 170 eq. 5.4a, b"
   ]
  },
  {
   "cell_type": "markdown",
   "metadata": {},
   "source": [
    "$$\\sigma_{max}=\\frac{|M|_{max}c}{I}=\\frac{|M|_{max}}{S}$$"
   ]
  },
  {
   "cell_type": "code",
   "execution_count": 29,
   "metadata": {
    "collapsed": false
   },
   "outputs": [
    {
     "data": {
      "image/png": "[encoded data removed]",
      "text/latex": [
       "$$\\left ( \\frac{6.0 \\left|{P_{A N} x}\\right|}{b_{m} h_{AB m}^{2}}, \\quad \\frac{6.0 \\left|{P_{A N} x}\\right|}{b_{m} h_{BD m}^{2}}\\right )$$"
      ],
      "text/plain": [
       "⎛6.0⋅│P_A_N⋅x│  6.0⋅│P_A_N⋅x│⎞\n",
       "⎜─────────────, ─────────────⎟\n",
       "⎜           2              2 ⎟\n",
       "⎝  bₘ⋅h_AB_m      bₘ⋅h_BD_m  ⎠"
      ]
     },
     "execution_count": 29,
     "metadata": {},
     "output_type": "execute_result"
    }
   ],
   "source": [
    "sigma_AB_Pa = abs(M_AD_Nm) * (h_AB_m * 0.5) / I_AB_m4\n",
    "sigma_BD_Pa = abs(M_AD_Nm) * (h_BD_m * 0.5) / I_BD_m4\n",
    "sigma_AB_Pa, sigma_BD_Pa"
   ]
  },
  {
   "cell_type": "code",
   "execution_count": 30,
   "metadata": {
    "collapsed": false
   },
   "outputs": [
    {
     "data": {
      "image/png": "[encoded data removed]",
      "text/plain": [
       "<matplotlib.figure.Figure at 0x1ae19399080>"
      ]
     },
     "metadata": {},
     "output_type": "display_data"
    },
    {
     "data": {
      "text/plain": [
       "<sympy.plotting.plot.Plot at 0x1ae198c8160>"
      ]
     },
     "execution_count": 30,
     "metadata": {},
     "output_type": "execute_result"
    }
   ],
   "source": [
    "splot.plot((sigma_AB_Pa.subs(s_d), (x, 0, x_B_m)),\n",
    "           (sigma_BD_Pa.subs(s_d), (x, x_B_m, x_D_m)),\n",
    "          xlabel='x(m)', ylabel='$\\sigma$(Pa)')"
   ]
  },
  {
   "cell_type": "markdown",
   "metadata": {
    "collapsed": true
   },
   "source": [
    "#### 굽힘응력의 분포<br>Distribuion of bending stress"
   ]
  },
  {
   "cell_type": "markdown",
   "metadata": {},
   "source": [
    "##### `x` `y` 격자<br>`x` `y` grids"
   ]
  },
  {
   "cell_type": "code",
   "execution_count": 31,
   "metadata": {
    "collapsed": false
   },
   "outputs": [],
   "source": [
    "dx_m = 1e-3\n",
    "dx_half_m = dx_m * 0.5\n",
    "\n",
    "h_AB_half_m = s_d[h_AB_m] * 0.5\n",
    "x_AB_m_array = np.arange(0, x_B_m + dx_half_m, dx_m)\n",
    "y_AB_m_array = np.arange(-h_AB_half_m, h_AB_half_m + dx_half_m, dx_m)\n",
    "y_AB_m_grid, x_AB_m_grid = np.meshgrid(y_AB_m_array, x_AB_m_array)\n",
    "\n",
    "h_BD_half_m = s_d[h_BD_m] * 0.5\n",
    "x_BD_m_array = np.arange(x_B_m, x_D_m + dx_half_m, dx_m)\n",
    "y_BD_m_array = np.arange(-h_BD_half_m, h_BD_half_m + dx_half_m, dx_m)\n",
    "y_BD_m_grid, x_BD_m_grid = np.meshgrid(y_BD_m_array, x_BD_m_array)"
   ]
  },
  {
   "cell_type": "markdown",
   "metadata": {},
   "source": [
    "##### 모멘트 격자<br>Moment grids"
   ]
  },
  {
   "cell_type": "code",
   "execution_count": 32,
   "metadata": {
    "collapsed": false
   },
   "outputs": [],
   "source": [
    "func_M_AD_Nm = sy.lambdify(x, M_AD_Nm.subs(s_d))\n",
    "M_AB_Nm_grid = func_M_AD_Nm(x_AB_m_grid)\n",
    "M_BD_Nm_grid = func_M_AD_Nm(x_BD_m_grid)"
   ]
  },
  {
   "cell_type": "markdown",
   "metadata": {},
   "source": [
    "##### 응력 격자<br>Stress grids"
   ]
  },
  {
   "cell_type": "code",
   "execution_count": 33,
   "metadata": {
    "collapsed": false
   },
   "outputs": [],
   "source": [
    "sigma_AB_Pa_grid = M_AB_Nm_grid * y_AB_m_grid / (-float(I_AB_m4.subs(s_d)))\n",
    "sigma_BD_Pa_grid = M_BD_Nm_grid * y_BD_m_grid / (-float(I_BD_m4.subs(s_d)))"
   ]
  },
  {
   "cell_type": "markdown",
   "metadata": {},
   "source": [
    "##### 굽힘응력의 분포<br>Distribution of bending stress"
   ]
  },
  {
   "cell_type": "code",
   "execution_count": 34,
   "metadata": {
    "collapsed": false
   },
   "outputs": [
    {
     "data": {
      "image/png": "[encoded data removed]",
      "text/plain": [
       "<matplotlib.figure.Figure at 0x1ae198e3d68>"
      ]
     },
     "metadata": {},
     "output_type": "display_data"
    }
   ],
   "source": [
    "plt.pcolormesh(x_AB_m_grid, y_AB_m_grid, sigma_AB_Pa_grid, cmap='jet')\n",
    "plt.pcolormesh(x_BD_m_grid, y_BD_m_grid, sigma_BD_Pa_grid, cmap='jet')\n",
    "plt.xlabel('x(m)')\n",
    "plt.ylabel('y(m)')\n",
    "plt.colorbar()\n",
    "plt.show()"
   ]
  }
 ],
 "metadata": {
  "anaconda-cloud": {},
  "kernelspec": {
   "display_name": "Python [default]",
   "language": "python",
   "name": "python3"
  },
  "language_info": {
   "codemirror_mode": {
    "name": "ipython",
    "version": 3
   },
   "file_extension": ".py",
   "mimetype": "text/x-python",
   "name": "python",
   "nbconvert_exporter": "python",
   "pygments_lexer": "ipython3",
   "version": "3.5.2"
  }
 },
 "nbformat": 4,
 "nbformat_minor": 2
}
