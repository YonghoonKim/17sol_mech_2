{
 "cells": [
  {
   "cell_type": "markdown",
   "metadata": {},
   "source": [
    "참고문헌 : Pytel 외 저, 이주성 외 역, 재료역학, 2판, 한티미디어, 2013.<br>Ref: Pytel, Kiusalaas, Sharma, Mechanics of Materials, 2nd Ed., Cengege Learning, 2013."
   ]
  },
  {
   "cell_type": "markdown",
   "metadata": {},
   "source": [
    "`python` 기능을 확장해 주는 `module`을 불러 들임 (일부 기능만 사용될 수도 있음)"
   ]
  },
  {
   "cell_type": "code",
   "execution_count": 1,
   "metadata": {
    "collapsed": true
   },
   "outputs": [],
   "source": [
    "import numpy as np  # 배열, 행렬 관련 기능\n",
    "import numpy.linalg as na  # 선형대수 (벡터, 행렬) 관련 기능\n",
    "import matplotlib.pyplot as plt  # 그래프 관련 기능\n",
    "import scipy.integrate as si  # 적분 관련 기능\n",
    "import sympy as sy  # 기호 연산 기능\n",
    "import sympy.plotting as splot\n",
    "import IPython.display as disp  # 웹페이지 표시 기능\n",
    "sy.init_printing()  # 기호 연산 결과 표시 기능 준비"
   ]
  },
  {
   "cell_type": "markdown",
   "metadata": {},
   "source": [
    "## 예제 05.007"
   ]
  },
  {
   "cell_type": "markdown",
   "metadata": {},
   "source": [
    "### 문제에서 주어진 변수"
   ]
  },
  {
   "cell_type": "markdown",
   "metadata": {},
   "source": [
    "#### 단면"
   ]
  },
  {
   "cell_type": "markdown",
   "metadata": {},
   "source": [
    "W200$\\times$100"
   ]
  },
  {
   "cell_type": "code",
   "execution_count": 2,
   "metadata": {
    "collapsed": false
   },
   "outputs": [],
   "source": [
    "b_m, h_m, t_f_m, t_w_m, I_m4 = sy.symbols('b_m, h_m, t_f_m, t_w_m, I_m4', positive=True)\n",
    "\n",
    "s_d = {\n",
    "    b_m: 210e-3,\n",
    "    h_m: 229e-3,\n",
    "    t_f_m: 23.7e-3,\n",
    "    t_w_m: 14.5e-3,\n",
    "    I_m4: 113e6 * (1e-3**4),\n",
    "}"
   ]
  },
  {
   "cell_type": "markdown",
   "metadata": {},
   "source": [
    "#### 하중"
   ]
  },
  {
   "cell_type": "code",
   "execution_count": 3,
   "metadata": {
    "collapsed": false
   },
   "outputs": [],
   "source": [
    "V_N = sy.Symbol('V_N')\n",
    "\n",
    "s_d[V_N] = 80e3"
   ]
  },
  {
   "cell_type": "markdown",
   "metadata": {},
   "source": [
    "### 전단응력"
   ]
  },
  {
   "cell_type": "markdown",
   "metadata": {},
   "source": [
    "전단응력은 eq. 5.8 (p. 199) 과 같이 계산할 수 있다."
   ]
  },
  {
   "cell_type": "code",
   "execution_count": 4,
   "metadata": {
    "collapsed": false
   },
   "outputs": [
    {
     "data": {
      "image/png": "[encoded data removed]",
      "text/latex": [
       "$$\\frac{Q_{m3} V_{N}}{I_{m4} t_{w m}}$$"
      ],
      "text/plain": [
       " Qₘ₃⋅V_N \n",
       "─────────\n",
       "Iₘ₄⋅t_w_m"
      ]
     },
     "execution_count": 4,
     "metadata": {},
     "output_type": "execute_result"
    }
   ],
   "source": [
    "Q_m3 = sy.Symbol('Q_m3', positive=True)\n",
    "tau_Pa = V_N * Q_m3 / (t_w_m * I_m4)\n",
    "tau_Pa"
   ]
  },
  {
   "cell_type": "code",
   "execution_count": 5,
   "metadata": {
    "collapsed": false
   },
   "outputs": [
    {
     "data": {
      "image/png": "[encoded data removed]",
      "text/latex": [
       "$$48825144949.6491 Q_{m3}$$"
      ],
      "text/plain": [
       "48825144949.6491⋅Qₘ₃"
      ]
     },
     "execution_count": 5,
     "metadata": {},
     "output_type": "execute_result"
    }
   ],
   "source": [
    "tau_Pa.subs(s_d)"
   ]
  },
  {
   "cell_type": "markdown",
   "metadata": {},
   "source": [
    "여기서 $Q$ 는 단면의 모멘트이다."
   ]
  },
  {
   "cell_type": "markdown",
   "metadata": {},
   "source": [
    "### (1) 웨브 web 에서의 최소 전단응력"
   ]
  },
  {
   "cell_type": "markdown",
   "metadata": {},
   "source": [
    "중립면으로부터 멀어질 수록 전단력은 작아질 것이다. 웨브와 플랜지 flange 가 만나는 점에서 웨브의 전단응력은 최소일 것이다."
   ]
  },
  {
   "cell_type": "code",
   "execution_count": 6,
   "metadata": {
    "collapsed": true
   },
   "outputs": [],
   "source": [
    "y_min_m = h_m / 2 - t_f_m"
   ]
  },
  {
   "cell_type": "markdown",
   "metadata": {},
   "source": [
    "최소 전단응력을 위한 $Q_{min}$ 는 플랜지 부분만 감안한다."
   ]
  },
  {
   "cell_type": "markdown",
   "metadata": {},
   "source": [
    "플랜지 면적"
   ]
  },
  {
   "cell_type": "code",
   "execution_count": 7,
   "metadata": {
    "collapsed": true
   },
   "outputs": [],
   "source": [
    "A_f_m2 = b_m * t_f_m"
   ]
  },
  {
   "cell_type": "markdown",
   "metadata": {},
   "source": [
    "플랜지의 도심 거리"
   ]
  },
  {
   "cell_type": "code",
   "execution_count": 8,
   "metadata": {
    "collapsed": false
   },
   "outputs": [],
   "source": [
    "y_bar_min_m = h_m/2 - (t_f_m/2)"
   ]
  },
  {
   "cell_type": "markdown",
   "metadata": {},
   "source": [
    "$Q_{min}$"
   ]
  },
  {
   "cell_type": "code",
   "execution_count": 9,
   "metadata": {
    "collapsed": false
   },
   "outputs": [
    {
     "data": {
      "image/png": "[encoded data removed]",
      "text/latex": [
       "$$b_{m} t_{f m} \\left(\\frac{h_{m}}{2} - \\frac{t_{f m}}{2}\\right)$$"
      ],
      "text/plain": [
       "         ⎛hₘ   t_f_m⎞\n",
       "bₘ⋅t_f_m⋅⎜── - ─────⎟\n",
       "         ⎝2      2  ⎠"
      ]
     },
     "execution_count": 9,
     "metadata": {},
     "output_type": "execute_result"
    }
   ],
   "source": [
    "Q_min_m3 = A_f_m2 * y_bar_min_m\n",
    "Q_min_m3"
   ]
  },
  {
   "cell_type": "markdown",
   "metadata": {},
   "source": [
    "값을 확인해 본다."
   ]
  },
  {
   "cell_type": "code",
   "execution_count": 10,
   "metadata": {
    "collapsed": false
   },
   "outputs": [
    {
     "data": {
      "image/png": "[encoded data removed]",
      "text/latex": [
       "$$0.00051088905$$"
      ],
      "text/plain": [
       "0.000510889050000000"
      ]
     },
     "execution_count": 10,
     "metadata": {},
     "output_type": "execute_result"
    }
   ],
   "source": [
    "Q_min_m3.subs(s_d)"
   ]
  },
  {
   "cell_type": "markdown",
   "metadata": {},
   "source": [
    "$mm^3$ 단위로도 확인해본다."
   ]
  },
  {
   "cell_type": "code",
   "execution_count": 11,
   "metadata": {
    "collapsed": false
   },
   "outputs": [
    {
     "data": {
      "image/png": "[encoded data removed]",
      "text/latex": [
       "$$510889.05$$"
      ],
      "text/plain": [
       "510889.050000000"
      ]
     },
     "execution_count": 11,
     "metadata": {},
     "output_type": "execute_result"
    }
   ],
   "source": [
    "Q_min_m3.subs(s_d)*(1e3**3)"
   ]
  },
  {
   "cell_type": "markdown",
   "metadata": {},
   "source": [
    "응력 식의 $Q$에 $Q_{min}$을 대입하면 웨브의 최소 전단응력은 다음과 같다."
   ]
  },
  {
   "cell_type": "code",
   "execution_count": 12,
   "metadata": {
    "collapsed": false
   },
   "outputs": [
    {
     "data": {
      "image/png": "[encoded data removed]",
      "text/latex": [
       "$$\\frac{V_{N} b_{m} t_{f m}}{I_{m4} t_{w m}} \\left(\\frac{h_{m}}{2} - \\frac{t_{f m}}{2}\\right)$$"
      ],
      "text/plain": [
       "             ⎛hₘ   t_f_m⎞\n",
       "V_N⋅bₘ⋅t_f_m⋅⎜── - ─────⎟\n",
       "             ⎝2      2  ⎠\n",
       "─────────────────────────\n",
       "        Iₘ₄⋅t_w_m        "
      ]
     },
     "execution_count": 12,
     "metadata": {},
     "output_type": "execute_result"
    }
   ],
   "source": [
    "tau_min_Pa = tau_Pa.subs({Q_m3: Q_min_m3})\n",
    "tau_min_Pa"
   ]
  },
  {
   "cell_type": "markdown",
   "metadata": {},
   "source": [
    "값을 확인한다."
   ]
  },
  {
   "cell_type": "code",
   "execution_count": 13,
   "metadata": {
    "collapsed": false
   },
   "outputs": [
    {
     "data": {
      "image/png": "[encoded data removed]",
      "text/latex": [
       "$$24944231.9194385$$"
      ],
      "text/plain": [
       "24944231.9194385"
      ]
     },
     "execution_count": 13,
     "metadata": {},
     "output_type": "execute_result"
    }
   ],
   "source": [
    "tau_min_Pa.subs(s_d)"
   ]
  },
  {
   "cell_type": "markdown",
   "metadata": {},
   "source": [
    "$MPa$ 단위 값을 확인한다."
   ]
  },
  {
   "cell_type": "code",
   "execution_count": 14,
   "metadata": {
    "collapsed": false
   },
   "outputs": [
    {
     "data": {
      "image/png": "[encoded data removed]",
      "text/latex": [
       "$$24.9442319194385$$"
      ],
      "text/plain": [
       "24.9442319194385"
      ]
     },
     "execution_count": 14,
     "metadata": {},
     "output_type": "execute_result"
    }
   ],
   "source": [
    "tau_min_Pa.subs(s_d)*1e-6"
   ]
  },
  {
   "cell_type": "markdown",
   "metadata": {},
   "source": [
    "### (2) 웨브에서의 최대 전단응력"
   ]
  },
  {
   "cell_type": "markdown",
   "metadata": {},
   "source": [
    "중립면에서 최대가 될 것이다."
   ]
  },
  {
   "cell_type": "code",
   "execution_count": 15,
   "metadata": {
    "collapsed": true
   },
   "outputs": [],
   "source": [
    "y_max_m = 0"
   ]
  },
  {
   "cell_type": "markdown",
   "metadata": {},
   "source": [
    "최대 전단응력을 위한 $Q_{max}$ 는 플랜지 부분과 웨브의 위쪽 절반을 감안한다."
   ]
  },
  {
   "cell_type": "markdown",
   "metadata": {},
   "source": [
    "웨브 위쪽 절반 면적은 다음과 같다."
   ]
  },
  {
   "cell_type": "code",
   "execution_count": 16,
   "metadata": {
    "collapsed": false
   },
   "outputs": [
    {
     "data": {
      "image/png": "[encoded data removed]",
      "text/latex": [
       "$$t_{w m} \\left(\\frac{h_{m}}{2} - t_{f m}\\right)$$"
      ],
      "text/plain": [
       "      ⎛hₘ        ⎞\n",
       "t_w_m⋅⎜── - t_f_m⎟\n",
       "      ⎝2         ⎠"
      ]
     },
     "execution_count": 16,
     "metadata": {},
     "output_type": "execute_result"
    }
   ],
   "source": [
    "A_w_half_m2 = t_w_m * (h_m/2 - t_f_m)\n",
    "A_w_half_m2"
   ]
  },
  {
   "cell_type": "markdown",
   "metadata": {},
   "source": [
    "웨브 위쪽 절반의 도심은 아래와 같을 것이다."
   ]
  },
  {
   "cell_type": "code",
   "execution_count": 17,
   "metadata": {
    "collapsed": false,
    "scrolled": true
   },
   "outputs": [
    {
     "data": {
      "image/png": "[encoded data removed]",
      "text/latex": [
       "$$\\frac{h_{m}}{4} - \\frac{t_{f m}}{2}$$"
      ],
      "text/plain": [
       "hₘ   t_f_m\n",
       "── - ─────\n",
       "4      2  "
      ]
     },
     "execution_count": 17,
     "metadata": {},
     "output_type": "execute_result"
    }
   ],
   "source": [
    "y_w_max_m = (h_m/2 - t_f_m) / 2\n",
    "y_w_max_m"
   ]
  },
  {
   "cell_type": "markdown",
   "metadata": {},
   "source": [
    "$Q_{max}$ 는 플랜지 부분의 $Q$ 와 웨브 위쪽 절반의 $Q$를 합한 것이다."
   ]
  },
  {
   "cell_type": "code",
   "execution_count": 18,
   "metadata": {
    "collapsed": false
   },
   "outputs": [
    {
     "data": {
      "image/png": "[encoded data removed]",
      "text/latex": [
       "$$b_{m} t_{f m} \\left(\\frac{h_{m}}{2} - \\frac{t_{f m}}{2}\\right) + t_{w m} \\left(\\frac{h_{m}}{4} - \\frac{t_{f m}}{2}\\right) \\left(\\frac{h_{m}}{2} - t_{f m}\\right)$$"
      ],
      "text/plain": [
       "         ⎛hₘ   t_f_m⎞         ⎛hₘ   t_f_m⎞ ⎛hₘ        ⎞\n",
       "bₘ⋅t_f_m⋅⎜── - ─────⎟ + t_w_m⋅⎜── - ─────⎟⋅⎜── - t_f_m⎟\n",
       "         ⎝2      2  ⎠         ⎝4      2  ⎠ ⎝2         ⎠"
      ]
     },
     "execution_count": 18,
     "metadata": {},
     "output_type": "execute_result"
    }
   ],
   "source": [
    "Q_max_m3 = A_w_half_m2 * y_w_max_m + A_f_m2 * y_bar_min_m\n",
    "Q_max_m3"
   ]
  },
  {
   "cell_type": "code",
   "execution_count": 19,
   "metadata": {
    "collapsed": false
   },
   "outputs": [
    {
     "data": {
      "image/png": "[encoded data removed]",
      "text/latex": [
       "$$\\frac{b_{m}}{2} t_{f m} \\left(h_{m} - t_{f m}\\right) + \\frac{t_{w m}}{8} \\left(h_{m} - 2 t_{f m}\\right)^{2}$$"
      ],
      "text/plain": [
       "                                            2\n",
       "bₘ⋅t_f_m⋅(hₘ - t_f_m)   t_w_m⋅(hₘ - 2⋅t_f_m) \n",
       "───────────────────── + ─────────────────────\n",
       "          2                       8          "
      ]
     },
     "execution_count": 19,
     "metadata": {},
     "output_type": "execute_result"
    }
   ],
   "source": [
    "sy.simplify(Q_max_m3)"
   ]
  },
  {
   "cell_type": "markdown",
   "metadata": {},
   "source": [
    "$Q$ 값을 확인한다."
   ]
  },
  {
   "cell_type": "code",
   "execution_count": 20,
   "metadata": {
    "collapsed": false
   },
   "outputs": [
    {
     "data": {
      "image/png": "[encoded data removed]",
      "text/latex": [
       "$$0.00057066269$$"
      ],
      "text/plain": [
       "0.000570662690000000"
      ]
     },
     "execution_count": 20,
     "metadata": {},
     "output_type": "execute_result"
    }
   ],
   "source": [
    "Q_max_m3.subs(s_d)"
   ]
  },
  {
   "cell_type": "markdown",
   "metadata": {},
   "source": [
    "최대 전단응력을 구한다."
   ]
  },
  {
   "cell_type": "code",
   "execution_count": 21,
   "metadata": {
    "collapsed": false
   },
   "outputs": [
    {
     "data": {
      "image/png": "[encoded data removed]",
      "text/latex": [
       "$$\\frac{V_{N}}{8 I_{m4} t_{w m}} \\left(4 b_{m} t_{f m} \\left(h_{m} - t_{f m}\\right) + t_{w m} \\left(h_{m} - 2 t_{f m}\\right)^{2}\\right)$$"
      ],
      "text/plain": [
       "    ⎛                                              2⎞\n",
       "V_N⋅⎝4⋅bₘ⋅t_f_m⋅(hₘ - t_f_m) + t_w_m⋅(hₘ - 2⋅t_f_m) ⎠\n",
       "─────────────────────────────────────────────────────\n",
       "                     8⋅Iₘ₄⋅t_w_m                     "
      ]
     },
     "execution_count": 21,
     "metadata": {},
     "output_type": "execute_result"
    }
   ],
   "source": [
    "tau_max_Pa = sy.simplify(tau_Pa.subs(Q_m3, Q_max_m3))\n",
    "tau_max_Pa"
   ]
  },
  {
   "cell_type": "markdown",
   "metadata": {},
   "source": [
    "최대 전단응력 값을 확인한다."
   ]
  },
  {
   "cell_type": "code",
   "execution_count": 22,
   "metadata": {
    "collapsed": false
   },
   "outputs": [
    {
     "data": {
      "image/png": "[encoded data removed]",
      "text/latex": [
       "$$27862688.5566066$$"
      ],
      "text/plain": [
       "27862688.5566066"
      ]
     },
     "execution_count": 22,
     "metadata": {},
     "output_type": "execute_result"
    }
   ],
   "source": [
    "tau_max_Pa.subs(s_d)"
   ]
  },
  {
   "cell_type": "markdown",
   "metadata": {},
   "source": [
    "$MPa$ 단위로 최대 전단응력 값을 확인한다."
   ]
  },
  {
   "cell_type": "code",
   "execution_count": 23,
   "metadata": {
    "collapsed": false
   },
   "outputs": [
    {
     "data": {
      "image/png": "[encoded data removed]",
      "text/latex": [
       "$$27.8626885566066$$"
      ],
      "text/plain": [
       "27.8626885566066"
      ]
     },
     "execution_count": 23,
     "metadata": {},
     "output_type": "execute_result"
    }
   ],
   "source": [
    "tau_max_Pa.subs(s_d) * 1e-6"
   ]
  },
  {
   "cell_type": "markdown",
   "metadata": {},
   "source": [
    "### (3) 웨브가 감당하는 전단력의 백분률"
   ]
  },
  {
   "cell_type": "markdown",
   "metadata": {
    "collapsed": true
   },
   "source": [
    "웨브의 $y$ 를 따라 전단응력은 직사각형 위의 포물선 형태를 가진다.<br>Along the $y$ of web, shear stress is distributed in the form of a parabola on a rectangle."
   ]
  },
  {
   "cell_type": "markdown",
   "metadata": {},
   "source": [
    "선도를 그려서 적분하는 것도 가능하지만 이번에는 직사각형부와 포물선부의 면적을 따로 구해서 더해 본다.<br>Instead of integrating the plot, this time, we will calculate areas of rectangle and parabola separately and then add together."
   ]
  },
  {
   "cell_type": "markdown",
   "metadata": {},
   "source": [
    "#### 포물선의 면적을 밑변 $h$ 와 높이 $m$로 표시<br>Area of the parabola in terms of base $h$ and height $m$"
   ]
  },
  {
   "cell_type": "code",
   "execution_count": 24,
   "metadata": {
    "collapsed": false
   },
   "outputs": [],
   "source": [
    "h, m, a = sy.symbols('h, m, a', positive=True)\n",
    "y_m = sy.symbols('y_m', real=True)"
   ]
  },
  {
   "cell_type": "markdown",
   "metadata": {},
   "source": [
    "밑변 $h$, 높이 $m$ 인 포물선이 다음과 같다고 하자.<br>Let a parabola with base $h$ and height $m$ is as follows."
   ]
  },
  {
   "cell_type": "markdown",
   "metadata": {},
   "source": [
    "$$p(y)=m - a y^2 $$"
   ]
  },
  {
   "cell_type": "markdown",
   "metadata": {},
   "source": [
    "위 포물선은 $y=0$ 에서 최대값 $m$ 이다.  $p(\\pm \\frac {h}{2})=0$으로 만드는 $a$ 를 다음과 같이 구한다.<br>This parabola has the maximum $m$ at $y=0$. Let's find $a$ such that $p(\\pm \\frac {h}{2})=0$"
   ]
  },
  {
   "cell_type": "code",
   "execution_count": 25,
   "metadata": {
    "collapsed": false
   },
   "outputs": [
    {
     "data": {
      "image/png": "[encoded data removed]",
      "text/latex": [
       "$$\\left [ \\frac{4 m}{h^{2}}\\right ]$$"
      ],
      "text/plain": [
       "⎡4⋅m⎤\n",
       "⎢───⎥\n",
       "⎢  2⎥\n",
       "⎣ h ⎦"
      ]
     },
     "execution_count": 25,
     "metadata": {},
     "output_type": "execute_result"
    }
   ],
   "source": [
    "a_sol_list = sy.solve(m - (a * y_m**2).subs(y_m, h/2), a)\n",
    "a_sol_list"
   ]
  },
  {
   "cell_type": "code",
   "execution_count": 26,
   "metadata": {
    "collapsed": true
   },
   "outputs": [],
   "source": [
    "a = a_sol_list[0]"
   ]
  },
  {
   "cell_type": "markdown",
   "metadata": {},
   "source": [
    "따라서 적분값은 다음과 같을 것이다.<br>The integration of the parabola would be as follows."
   ]
  },
  {
   "cell_type": "code",
   "execution_count": 27,
   "metadata": {
    "collapsed": false
   },
   "outputs": [
    {
     "data": {
      "image/png": "[encoded data removed]",
      "text/latex": [
       "$$\\frac{2 h}{3} m$$"
      ],
      "text/plain": [
       "2⋅h⋅m\n",
       "─────\n",
       "  3  "
      ]
     },
     "execution_count": 27,
     "metadata": {},
     "output_type": "execute_result"
    }
   ],
   "source": [
    "a_para = sy.integrate(m - (a * y_m**2), (y_m, -h/2, h/2))\n",
    "a_para"
   ]
  },
  {
   "cell_type": "markdown",
   "metadata": {},
   "source": [
    "#### 웨브가 담당하는 전단력<br>Shear force by the web"
   ]
  },
  {
   "cell_type": "markdown",
   "metadata": {},
   "source": [
    "$$\n",
    "V_{web} = t_{web} \\left[A_{para} + A_{rect} \\right]\n",
    "$$"
   ]
  },
  {
   "cell_type": "markdown",
   "metadata": {},
   "source": [
    "$$\n",
    "A_{para} = \\frac{2}{3} h_{web} \\cdot (\\tau_{max}-\\tau_{min})\n",
    "$$"
   ]
  },
  {
   "cell_type": "markdown",
   "metadata": {},
   "source": [
    "$$h_{web}=h - 2 t_{flange}$$"
   ]
  },
  {
   "cell_type": "markdown",
   "metadata": {},
   "source": [
    "$$\n",
    "A_{rect} = h_{web} \\cdot \\tau_{min}\n",
    "$$"
   ]
  },
  {
   "cell_type": "markdown",
   "metadata": {},
   "source": [
    "$$\n",
    "\\begin{align}\n",
    "    V_{web} &= t_{web} \\left[\\frac{2}{3} h_{web} \\cdot (\\tau_{max}-\\tau_{min}) + h_{web} \\cdot \\tau_{min} \\right] \\\\\n",
    "    & = t_{web} h_{web} \\left[\\frac{2}{3} (\\tau_{max}-\\tau_{min}) + \\tau_{min} \\right]\n",
    "\\end{align}\n",
    "$$"
   ]
  },
  {
   "cell_type": "markdown",
   "metadata": {},
   "source": [
    "web의 높이<br>height of the web"
   ]
  },
  {
   "cell_type": "code",
   "execution_count": 28,
   "metadata": {
    "collapsed": true
   },
   "outputs": [],
   "source": [
    "h_w_m = h_m - 2 * t_f_m"
   ]
  },
  {
   "cell_type": "markdown",
   "metadata": {},
   "source": [
    "포물선 부분의 면적<br>Area of the parabola part of the $y$-vs-$\\tau$ plot."
   ]
  },
  {
   "cell_type": "code",
   "execution_count": 29,
   "metadata": {
    "collapsed": false
   },
   "outputs": [
    {
     "data": {
      "image/png": "[encoded data removed]",
      "text/latex": [
       "$$\\frac{V_{N}}{12 I_{m4}} \\left(h_{m} - 2 t_{f m}\\right)^{3}$$"
      ],
      "text/plain": [
       "                  3\n",
       "V_N⋅(hₘ - 2⋅t_f_m) \n",
       "───────────────────\n",
       "       12⋅Iₘ₄      "
      ]
     },
     "execution_count": 29,
     "metadata": {},
     "output_type": "execute_result"
    }
   ],
   "source": [
    "A_para_N_m = 2* h_w_m * (tau_max_Pa - tau_min_Pa)/3\n",
    "sy.simplify(A_para_N_m)"
   ]
  },
  {
   "cell_type": "markdown",
   "metadata": {},
   "source": [
    "직사각형 부분의 면적<br>Area of the rectangle part of the $y$-vs-$\\tau$ plot."
   ]
  },
  {
   "cell_type": "code",
   "execution_count": 30,
   "metadata": {
    "collapsed": false
   },
   "outputs": [
    {
     "data": {
      "image/png": "[encoded data removed]",
      "text/latex": [
       "$$\\frac{V_{N} b_{m} t_{f m}}{2 I_{m4} t_{w m}} \\left(h_{m} - 2 t_{f m}\\right) \\left(h_{m} - t_{f m}\\right)$$"
      ],
      "text/plain": [
       "V_N⋅bₘ⋅t_f_m⋅(hₘ - 2⋅t_f_m)⋅(hₘ - t_f_m)\n",
       "────────────────────────────────────────\n",
       "              2⋅Iₘ₄⋅t_w_m               "
      ]
     },
     "execution_count": 30,
     "metadata": {},
     "output_type": "execute_result"
    }
   ],
   "source": [
    "A_rect_N_m = h_w_m * tau_min_Pa\n",
    "sy.simplify(A_rect_N_m)"
   ]
  },
  {
   "cell_type": "markdown",
   "metadata": {},
   "source": [
    "위 두 면적의 합<br>Sum of the two areas above"
   ]
  },
  {
   "cell_type": "code",
   "execution_count": 31,
   "metadata": {
    "collapsed": false
   },
   "outputs": [
    {
     "data": {
      "image/png": "[encoded data removed]",
      "text/latex": [
       "$$\\frac{V_{N}}{12 I_{m4}} \\left(h_{m} - 2 t_{f m}\\right) \\left(6 b_{m} t_{f m} \\left(h_{m} - t_{f m}\\right) + t_{w m} \\left(h_{m} - 2 t_{f m}\\right)^{2}\\right)$$"
      ],
      "text/plain": [
       "                   ⎛                                              2⎞\n",
       "V_N⋅(hₘ - 2⋅t_f_m)⋅⎝6⋅bₘ⋅t_f_m⋅(hₘ - t_f_m) + t_w_m⋅(hₘ - 2⋅t_f_m) ⎠\n",
       "────────────────────────────────────────────────────────────────────\n",
       "                               12⋅Iₘ₄                               "
      ]
     },
     "execution_count": 31,
     "metadata": {},
     "output_type": "execute_result"
    }
   ],
   "source": [
    "V_w_N = t_w_m * (A_para_N_m + A_rect_N_m)\n",
    "sy.simplify(V_w_N)"
   ]
  },
  {
   "cell_type": "markdown",
   "metadata": {},
   "source": [
    "웨브 부분이 담당하는 전단력은 다음과 같다.<br>Shear force of the web part"
   ]
  },
  {
   "cell_type": "code",
   "execution_count": 32,
   "metadata": {
    "collapsed": false
   },
   "outputs": [
    {
     "data": {
      "image/png": "[encoded data removed]",
      "text/latex": [
       "$$70806.4048349262$$"
      ],
      "text/plain": [
       "70806.4048349262"
      ]
     },
     "execution_count": 32,
     "metadata": {},
     "output_type": "execute_result"
    }
   ],
   "source": [
    "V_w_N.subs(s_d)"
   ]
  },
  {
   "cell_type": "markdown",
   "metadata": {},
   "source": [
    "전체 전단력 대비 백분율은 다음과 같다.<br>Percentage within the whole shear force"
   ]
  },
  {
   "cell_type": "code",
   "execution_count": 33,
   "metadata": {
    "collapsed": false
   },
   "outputs": [
    {
     "data": {
      "image/png": "[encoded data removed]",
      "text/latex": [
       "$$88.5080060436578$$"
      ],
      "text/plain": [
       "88.5080060436578"
      ]
     },
     "execution_count": 33,
     "metadata": {},
     "output_type": "execute_result"
    }
   ],
   "source": [
    "(V_w_N/V_N).subs(s_d) * 100"
   ]
  },
  {
   "cell_type": "markdown",
   "metadata": {},
   "source": [
    "### 전단응력의 분포<br>Distribution of shear stress"
   ]
  },
  {
   "cell_type": "markdown",
   "metadata": {},
   "source": [
    "`y` 좌표 배열 준비<br>`y` coordinate array"
   ]
  },
  {
   "cell_type": "code",
   "execution_count": 34,
   "metadata": {
    "collapsed": true
   },
   "outputs": [],
   "source": [
    "dy_m = 1e-3\n",
    "dy_half_m = dy_m * 0.5\n",
    "y_m_array = np.arange(s_d[h_m] * (-0.5), s_d[h_m] * (0.5) + dy_half_m, dy_m)"
   ]
  },
  {
   "cell_type": "markdown",
   "metadata": {},
   "source": [
    "#### `y` 에 따른 폭<br>width with respect to `y`"
   ]
  },
  {
   "cell_type": "markdown",
   "metadata": {},
   "source": [
    "중립면에서 `y` 만큼 떨어진 지점의 폭을 `y` 값의 절대값을 기준으로 계산.<br>Calculate width of the section at `y` away from the neutral axis using the absolute value of `y`."
   ]
  },
  {
   "cell_type": "code",
   "execution_count": 35,
   "metadata": {
    "collapsed": false
   },
   "outputs": [],
   "source": [
    "b_piecewise_m = sy.Piecewise((b_m, abs(y_m) >= (h_m/2 - t_f_m)),\n",
    "                             (t_w_m, abs(y_m) < (h_m/2 - t_f_m)))"
   ]
  },
  {
   "cell_type": "markdown",
   "metadata": {},
   "source": [
    "위에서 정의된 폭.<br>The width defined above."
   ]
  },
  {
   "cell_type": "code",
   "execution_count": 36,
   "metadata": {
    "collapsed": false
   },
   "outputs": [
    {
     "data": {
      "text/latex": [
       "$$\\begin{cases} b_{m} & \\text{for}\\: \\left|{y_{m}}\\right| \\geq \\frac{h_{m}}{2} - t_{f m} \\\\t_{w m} & \\text{for}\\: \\left|{y_{m}}\\right| < \\frac{h_{m}}{2} - t_{f m} \\end{cases}$$"
      ],
      "text/plain": [
       "⎧                  hₘ        \n",
       "⎪ bₘ    for │yₘ│ ≥ ── - t_f_m\n",
       "⎪                  2         \n",
       "⎨                            \n",
       "⎪                  hₘ        \n",
       "⎪t_w_m  for │yₘ│ < ── - t_f_m\n",
       "⎩                  2         "
      ]
     },
     "execution_count": 36,
     "metadata": {},
     "output_type": "execute_result"
    }
   ],
   "source": [
    "b_piecewise_m"
   ]
  },
  {
   "cell_type": "markdown",
   "metadata": {},
   "source": [
    "`sympy` 정의로 부터 `numpy` 배열을 입력 매개 변수로 받아들일 수 있는 함수를 만듦.<br>Make a function capable of taking a `numpy` array as input from a `sympy` definition."
   ]
  },
  {
   "cell_type": "code",
   "execution_count": 37,
   "metadata": {
    "collapsed": true
   },
   "outputs": [],
   "source": [
    "b_func_m = sy.lambdify(y_m, b_piecewise_m.subs(s_d))"
   ]
  },
  {
   "cell_type": "markdown",
   "metadata": {},
   "source": [
    "함수를 이용하여 폭의 배열을 계산함.<br>Using the function, calculate the array of width."
   ]
  },
  {
   "cell_type": "code",
   "execution_count": 38,
   "metadata": {
    "collapsed": true
   },
   "outputs": [],
   "source": [
    "b_m_array = b_func_m(y_m_array)"
   ]
  },
  {
   "cell_type": "markdown",
   "metadata": {},
   "source": [
    "폭을 `y` 에 대해 그림으로 표시.<br>Plot with with respect to `y`."
   ]
  },
  {
   "cell_type": "code",
   "execution_count": 39,
   "metadata": {
    "collapsed": true
   },
   "outputs": [],
   "source": [
    "section_list = plt.plot(b_m_array * 0.5, y_m_array) \\\n",
    "             + plt.plot(b_m_array * -0.5, y_m_array)"
   ]
  },
  {
   "cell_type": "code",
   "execution_count": 40,
   "metadata": {
    "collapsed": true
   },
   "outputs": [],
   "source": [
    "flange_list = plt.plot(s_d[b_m] * 0.5 * np.ones_like(y_m_array), y_m_array, '--', label='flange', linewidth=0.5) \\\n",
    "            + plt.plot(s_d[b_m] * -0.5 * np.ones_like(y_m_array), y_m_array, '--', label='flange', linewidth=0.5)"
   ]
  },
  {
   "cell_type": "code",
   "execution_count": 41,
   "metadata": {
    "collapsed": true
   },
   "outputs": [],
   "source": [
    "web_list = plt.plot(s_d[t_w_m] * 0.5 * np.ones_like(y_m_array), y_m_array, '-.', label='web thickness', linewidth=0.5) \\\n",
    "         + plt.plot(s_d[t_w_m] * -0.5 * np.ones_like(y_m_array), y_m_array, '-.', label='web thickness', linewidth=0.5)"
   ]
  },
  {
   "cell_type": "code",
   "execution_count": 42,
   "metadata": {
    "collapsed": false
   },
   "outputs": [
    {
     "data": {
      "image/png": "[encoded data removed]",
      "text/latex": [
       "$$\\left ( -0.1155, \\quad 0.1155, \\quad -0.12595, \\quad 0.12595\\right )$$"
      ],
      "text/plain": [
       "(-0.1155, 0.1155, -0.12595, 0.12595)"
      ]
     },
     "execution_count": 42,
     "metadata": {},
     "output_type": "execute_result"
    }
   ],
   "source": [
    "plt.legend(loc=0)\n",
    "plt.xlabel('$b(m^2)$')\n",
    "plt.axis('equal')"
   ]
  },
  {
   "cell_type": "code",
   "execution_count": 43,
   "metadata": {
    "collapsed": false
   },
   "outputs": [
    {
     "data": {
      "image/png": "[encoded data removed]",
      "text/plain": [
       "<matplotlib.figure.Figure at 0x247af710160>"
      ]
     },
     "metadata": {},
     "output_type": "display_data"
    }
   ],
   "source": [
    "plt.ylabel('y(m)')\n",
    "plt.grid(True)\n",
    "plt.show()"
   ]
  },
  {
   "cell_type": "markdown",
   "metadata": {},
   "source": [
    "##### 단면 그림<br>Section drawing"
   ]
  },
  {
   "cell_type": "markdown",
   "metadata": {},
   "source": [
    "웨브 부분 왼쪽 아래 지점 좌표와 치수<br>Lower left coordinates and dimensions of the web"
   ]
  },
  {
   "cell_type": "code",
   "execution_count": 44,
   "metadata": {
    "collapsed": false
   },
   "outputs": [],
   "source": [
    "web_width_m = t_w_m.subs(s_d)\n",
    "web_height_m = (h_m - t_f_m * 2).subs(s_d)\n",
    "\n",
    "x_m_web_low_left = web_width_m * -0.5\n",
    "y_m_web_low_left = web_height_m * -0.5"
   ]
  },
  {
   "cell_type": "markdown",
   "metadata": {},
   "source": [
    "플랜지 치수<br>Dimensions of the flanges"
   ]
  },
  {
   "cell_type": "code",
   "execution_count": 45,
   "metadata": {
    "collapsed": true
   },
   "outputs": [],
   "source": [
    "flange_width_m = b_m.subs(s_d)\n",
    "flange_height_m = t_f_m.subs(s_d)"
   ]
  },
  {
   "cell_type": "markdown",
   "metadata": {},
   "source": [
    "위 플랜지 왼쪽 아래 지점 좌표<br>Lower left coordinates of the upper flange"
   ]
  },
  {
   "cell_type": "code",
   "execution_count": 46,
   "metadata": {
    "collapsed": true
   },
   "outputs": [],
   "source": [
    "x_m_upper_flange_low_left = -flange_width_m * 0.5\n",
    "y_m_upper_flange_low_left = web_height_m * 0.5"
   ]
  },
  {
   "cell_type": "markdown",
   "metadata": {},
   "source": [
    "아래 플랜지 왼쪽 아래 지점 좌표<br>Lower left coordinates of the lower flange"
   ]
  },
  {
   "cell_type": "code",
   "execution_count": 47,
   "metadata": {
    "collapsed": true
   },
   "outputs": [],
   "source": [
    "x_m_lower_flange_low_left = -flange_width_m * 0.5\n",
    "y_m_lower_flange_low_left = web_height_m * -0.5 - flange_height_m"
   ]
  },
  {
   "cell_type": "code",
   "execution_count": 48,
   "metadata": {
    "collapsed": false
   },
   "outputs": [
    {
     "data": {
      "image/png": "[encoded data removed]",
      "text/plain": [
       "<matplotlib.figure.Figure at 0x247af82c2b0>"
      ]
     },
     "metadata": {},
     "output_type": "display_data"
    }
   ],
   "source": [
    "# Nick Charton, Drawing and Animating Shapes with Matplotlib, nickcharton.net, https://nickcharlton.net/posts/drawing-animating-shapes-matplotlib.html\n",
    "plt.axes()\n",
    "web_patch = plt.Rectangle((x_m_web_low_left, y_m_web_low_left), web_width_m, web_height_m)\n",
    "upper_flange_patch = plt.Rectangle((x_m_upper_flange_low_left, y_m_upper_flange_low_left), flange_width_m, flange_height_m)\n",
    "lower_flange_patch = plt.Rectangle((x_m_lower_flange_low_left, y_m_lower_flange_low_left), flange_width_m, flange_height_m)\n",
    "\n",
    "plt.gca().add_patch(web_patch)\n",
    "plt.gca().add_patch(upper_flange_patch)\n",
    "plt.gca().add_patch(lower_flange_patch)\n",
    "\n",
    "plt.axis('equal')\n",
    "plt.show()\n",
    "#plt.savefig('h_section.png', dpi=300)\n",
    "\n",
    "plt.clf()\n"
   ]
  },
  {
   "cell_type": "markdown",
   "metadata": {},
   "source": [
    "#### `y` 위의 면적<br>Area above `y`"
   ]
  },
  {
   "cell_type": "markdown",
   "metadata": {},
   "source": [
    "Q 값을 계산하기 위해 중립면에서 `y` 만큼 떨어진 넓이를 계산.<br>To calculate Q, calculate area above `y` from the neutral axis. "
   ]
  },
  {
   "cell_type": "code",
   "execution_count": 49,
   "metadata": {
    "collapsed": true
   },
   "outputs": [],
   "source": [
    "A_m2_piecewise = sy.Piecewise((b_m * (h_m/2 - abs(y_m)) , t_f_m >= (h_m/2 - abs(y_m))),\n",
    "                              (b_m * t_f_m + t_w_m * (h_m/2 - abs(y_m) - t_f_m), t_f_m < (h_m/2 - abs(y_m))))"
   ]
  },
  {
   "cell_type": "markdown",
   "metadata": {},
   "source": [
    "`sympy` 정의로 부터 `numpy` 배열을 입력 매개 변수로 받아들일 수 있는 함수를 만듦.<br>Make a function capable of taking a `numpy` array as input from a `sympy` definition."
   ]
  },
  {
   "cell_type": "code",
   "execution_count": 50,
   "metadata": {
    "collapsed": true
   },
   "outputs": [],
   "source": [
    "A_m2_func = sy.lambdify(y_m, A_m2_piecewise.subs(s_d))"
   ]
  },
  {
   "cell_type": "markdown",
   "metadata": {},
   "source": [
    "##### 함수 확인<br>Verify the function"
   ]
  },
  {
   "cell_type": "markdown",
   "metadata": {},
   "source": [
    "`y==(h/2 - t_f)` 일 때 플랜지 면적과 같은가?"
   ]
  },
  {
   "cell_type": "code",
   "execution_count": 51,
   "metadata": {
    "collapsed": true
   },
   "outputs": [],
   "source": [
    "assert (1e-5 > abs(A_m2_func((h_m/2 - t_f_m).subs(s_d)) - (b_m * t_f_m).subs(s_d)))"
   ]
  },
  {
   "cell_type": "markdown",
   "metadata": {},
   "source": [
    "`y`==0 일 때 면적의 절반과 같은가?"
   ]
  },
  {
   "cell_type": "code",
   "execution_count": 52,
   "metadata": {
    "collapsed": true
   },
   "outputs": [],
   "source": [
    "assert (1e-5 > abs(A_m2_func(0) - (b_m * t_f_m + (h_m/2 - t_f_m) * t_w_m ).subs(s_d)))"
   ]
  },
  {
   "cell_type": "markdown",
   "metadata": {},
   "source": [
    "##### $y$ 에 따른 면적을 그래프로 표시함<br>Plot $y$ vs area"
   ]
  },
  {
   "cell_type": "markdown",
   "metadata": {},
   "source": [
    "함수를 이용하여 면적의 배열을 계산함.<br>Using the function, calculate the array of area."
   ]
  },
  {
   "cell_type": "code",
   "execution_count": 53,
   "metadata": {
    "collapsed": false
   },
   "outputs": [],
   "source": [
    "A_m2_func_array = A_m2_func(y_m_array)"
   ]
  },
  {
   "cell_type": "markdown",
   "metadata": {},
   "source": [
    "`y` 와 그 위 면적을 그림으로 표시.<br>Plot `y` vs area above it."
   ]
  },
  {
   "cell_type": "code",
   "execution_count": 54,
   "metadata": {
    "collapsed": false
   },
   "outputs": [
    {
     "data": {
      "text/plain": [
       "<matplotlib.text.Text at 0x247af7e75f8>"
      ]
     },
     "execution_count": 54,
     "metadata": {},
     "output_type": "execute_result"
    }
   ],
   "source": [
    "plt.plot(A_m2_func_array, y_m_array)\n",
    "plt.plot( ((t_f_m * b_m).subs(s_d))* np.ones_like(y_m_array), y_m_array, label='flange area')\n",
    "plt.legend(loc=0)\n",
    "plt.xlabel('$A(m^2)$')"
   ]
  },
  {
   "cell_type": "code",
   "execution_count": 55,
   "metadata": {
    "collapsed": false
   },
   "outputs": [
    {
     "data": {
      "image/png": "[encoded data removed]",
      "text/plain": [
       "<matplotlib.figure.Figure at 0x247af79dd68>"
      ]
     },
     "metadata": {},
     "output_type": "display_data"
    }
   ],
   "source": [
    "plt.xlim(xmin=0)\n",
    "plt.ylabel('y(m)')\n",
    "plt.grid(True)\n",
    "plt.show()"
   ]
  },
  {
   "cell_type": "markdown",
   "metadata": {},
   "source": [
    "#### `y` 위의 면적의 도심<br>The centroid of area above `y`"
   ]
  },
  {
   "cell_type": "markdown",
   "metadata": {},
   "source": [
    "역시 Q 값을 계산하기 위해 중립면으로부터 `y` 위의 면적의 도심의 위치를 계산.<br>Again to calculate Q, calculate the centroid of area above `y` from the neutral axis. "
   ]
  },
  {
   "cell_type": "markdown",
   "metadata": {},
   "source": [
    "##### `y`가 웨브 범위 안 일 때 그 위 면적의 도심<br>The centroid of area above `y` when `y` is within the web"
   ]
  },
  {
   "cell_type": "markdown",
   "metadata": {},
   "source": [
    "웨브 가장 위의 `y`의 최대값<br>Maximum of `y` at the top of the web"
   ]
  },
  {
   "cell_type": "code",
   "execution_count": 56,
   "metadata": {
    "collapsed": true
   },
   "outputs": [],
   "source": [
    "y_top_web_m = h_m/2 - t_f_m"
   ]
  },
  {
   "cell_type": "markdown",
   "metadata": {},
   "source": [
    "`y` 위의 웨브 부 면적의 도심<br>Centroid of web area above `y`"
   ]
  },
  {
   "cell_type": "code",
   "execution_count": 57,
   "metadata": {
    "collapsed": true
   },
   "outputs": [],
   "source": [
    "y_bar_web_m = (y_top_web_m + abs(y_m)) / 2"
   ]
  },
  {
   "cell_type": "markdown",
   "metadata": {},
   "source": [
    "`y` 위의 웨브 부 면적<br>Web area above `y`"
   ]
  },
  {
   "cell_type": "code",
   "execution_count": 58,
   "metadata": {
    "collapsed": true
   },
   "outputs": [],
   "source": [
    "A_web_y_m2 = t_w_m * (y_top_web_m - abs(y_m))"
   ]
  },
  {
   "cell_type": "markdown",
   "metadata": {},
   "source": [
    "`y`가 웨브 범위 안 일 때 `y` 위의 전체 면적<br>Area above `y` when `y` is within web."
   ]
  },
  {
   "cell_type": "code",
   "execution_count": 59,
   "metadata": {
    "collapsed": false
   },
   "outputs": [],
   "source": [
    "A_y_m2 = b_m * t_f_m + t_w_m * (h_m/2 - abs(y_m) - t_f_m)"
   ]
  },
  {
   "cell_type": "markdown",
   "metadata": {},
   "source": [
    "`y`가 웨브 범위 안 일 때 `y` 위의 전체 면적의 도심<br>Centroid of area above `y` when `y` is within web."
   ]
  },
  {
   "cell_type": "code",
   "execution_count": 60,
   "metadata": {
    "collapsed": true
   },
   "outputs": [],
   "source": [
    "y_bar_m = (b_m * t_f_m * (h_m/2 - t_f_m / 2) + A_web_y_m2 * y_bar_web_m) / A_y_m2"
   ]
  },
  {
   "cell_type": "markdown",
   "metadata": {},
   "source": [
    "`y` 위의 면적의 도심의 위치<br>Centroid of the area above `y`"
   ]
  },
  {
   "cell_type": "code",
   "execution_count": 61,
   "metadata": {
    "collapsed": false
   },
   "outputs": [],
   "source": [
    "y_bar_m_piecewise = sy.simplify(\n",
    "    sy.Piecewise(\n",
    "        (h_m/2 - (h_m/2 - abs(y_m)) / 2, t_f_m >= (h_m/2 - abs(y_m))),\n",
    "        (y_bar_m, t_f_m < (h_m/2 - abs(y_m)))\n",
    "    )\n",
    ")"
   ]
  },
  {
   "cell_type": "code",
   "execution_count": 62,
   "metadata": {
    "collapsed": false
   },
   "outputs": [
    {
     "data": {
      "text/latex": [
       "$$\\begin{cases} \\frac{h_{m}}{4} + \\frac{\\left|{y_{m}}\\right|}{2} & \\text{for}\\: t_{f m} \\geq \\frac{h_{m}}{2} - \\left|{y_{m}}\\right| \\\\\\frac{b_{m} t_{f m} \\left(h_{m} - t_{f m}\\right) - \\frac{t_{w m}}{4} \\left(- h_{m} + 2 t_{f m} + 2 \\left|{y_{m}}\\right|\\right) \\left(h_{m} - 2 t_{f m} + 2 \\left|{y_{m}}\\right|\\right)}{2 b_{m} t_{f m} - t_{w m} \\left(- h_{m} + 2 t_{f m} + 2 \\left|{y_{m}}\\right|\\right)} & \\text{for}\\: t_{f m} < \\frac{h_{m}}{2} - \\left|{y_{m}}\\right| \\end{cases}$$"
      ],
      "text/plain": [
       "⎧                                  hₘ   │yₘ│                                  \n",
       "⎪                                  ── + ────                                  \n",
       "⎪                                  4     2                                    \n",
       "⎪                                                                             \n",
       "⎨                        t_w_m⋅(-hₘ + 2⋅t_f_m + 2⋅│yₘ│)⋅(hₘ - 2⋅t_f_m + 2⋅│yₘ│\n",
       "⎪bₘ⋅t_f_m⋅(hₘ - t_f_m) - ─────────────────────────────────────────────────────\n",
       "⎪                                                  4                          \n",
       "⎪─────────────────────────────────────────────────────────────────────────────\n",
       "⎩                 2⋅bₘ⋅t_f_m - t_w_m⋅(-hₘ + 2⋅t_f_m + 2⋅│yₘ│)                 \n",
       "\n",
       "               hₘ       \n",
       "   for t_f_m ≥ ── - │yₘ│\n",
       "               2        \n",
       "                        \n",
       ")                       \n",
       "─                       \n",
       "               hₘ       \n",
       "─  for t_f_m < ── - │yₘ│\n",
       "               2        "
      ]
     },
     "execution_count": 62,
     "metadata": {},
     "output_type": "execute_result"
    }
   ],
   "source": [
    "y_bar_m_piecewise"
   ]
  },
  {
   "cell_type": "markdown",
   "metadata": {},
   "source": [
    "`sympy` 정의로 부터 `numpy` 배열을 입력 매개 변수로 받아들일 수 있는 함수를 만듦.<br>Make a function capable of taking a `numpy` array as input from a `sympy` definition."
   ]
  },
  {
   "cell_type": "code",
   "execution_count": 63,
   "metadata": {
    "collapsed": true
   },
   "outputs": [],
   "source": [
    "y_bar_m_func = sy.lambdify(y_m, y_bar_m_piecewise.subs(s_d))"
   ]
  },
  {
   "cell_type": "markdown",
   "metadata": {},
   "source": [
    "##### 함수 확인<br>Verify the function"
   ]
  },
  {
   "cell_type": "markdown",
   "metadata": {},
   "source": [
    "$y=(\\frac{h}{2} - t_f)$ 일 때 $\\overline{y}$는 플랜지 절반 위치와 같은가?<br>\n",
    "When $y=(\\frac{h}{2} - t_f)$, is $\\overline{y}$ the same as the half of the flange thickness?"
   ]
  },
  {
   "cell_type": "code",
   "execution_count": 64,
   "metadata": {
    "collapsed": true
   },
   "outputs": [],
   "source": [
    "assert (1e-5 > abs(y_bar_m_func(y_top_web_m.subs(s_d)) - 0.5*(y_top_web_m + h_m/2).subs(s_d)))"
   ]
  },
  {
   "cell_type": "markdown",
   "metadata": {},
   "source": [
    "##### $y$와 $y$ 위 면적의 도심의 위치 $\\overline{y}$ 를 그림으로 표시.<br>Plot $y$ vs $\\overline{y}$, centroid of area above $y$."
   ]
  },
  {
   "cell_type": "markdown",
   "metadata": {},
   "source": [
    "함수를 이용하여 도심의 배열을 계산함.<br>Using the function, calculate the array of centroid."
   ]
  },
  {
   "cell_type": "code",
   "execution_count": 65,
   "metadata": {
    "collapsed": false
   },
   "outputs": [],
   "source": [
    "y_bar_m_func_array = y_bar_m_func(y_m_array)"
   ]
  },
  {
   "cell_type": "markdown",
   "metadata": {},
   "source": [
    "$y$와 $y$ 위 면적의 도심의 위치 $\\overline{y}$ 를 그림으로 표시.<br>Plot $y$ vs $\\overline{y}$, centroid of area above $y$."
   ]
  },
  {
   "cell_type": "code",
   "execution_count": 66,
   "metadata": {
    "collapsed": false,
    "scrolled": true
   },
   "outputs": [
    {
     "data": {
      "image/png": "[encoded data removed]",
      "text/plain": [
       "<matplotlib.figure.Figure at 0x247b0e562e8>"
      ]
     },
     "metadata": {},
     "output_type": "display_data"
    }
   ],
   "source": [
    "plt.clf()\n",
    "\n",
    "# y의 범위는 중립면 위\n",
    "# The range of y is above the neutral plane\n",
    "y_mm_array_half = y_m_array[y_m_array>=0] * 1e3\n",
    "y_bar_mm_func_array_half = y_bar_m_func_array[y_m_array>=0] * 1e3\n",
    "\n",
    "# y 에 대한 y_bar 그래프를 그림\n",
    "# plot y vs y_bar\n",
    "plt.plot(y_mm_array_half, y_bar_mm_func_array_half, label='$\\overline{y}$')\n",
    "xlims = (y_mm_array_half.min(), y_mm_array_half.max())\n",
    "ylims = np.array((0, y_mm_array_half.max()), dtype=float)\n",
    "# 플랜지 두께를 표시함\n",
    "# Indicate flange thickness\n",
    "plt.plot(y_top_web_m.subs(s_d) * 1e3 * np.ones_like(xlims), ylims, 'g--', linewidth=0.5, label='$\\\\frac{h}{2}-t_f$')\n",
    "plt.plot(xlims, y_top_web_m.subs(s_d) * 1e3 * np.ones_like(ylims), 'g--', linewidth=0.5)\n",
    "plt.ylabel('$\\overline{y}$(mm)')\n",
    "plt.xlabel('y(mm)')\n",
    "# 범례를 추가함\n",
    "# Add legend\n",
    "plt.legend(loc=0)\n",
    "plt.axis('scaled')\n",
    "plt.xlim(xlims)\n",
    "plt.ylim(ylims)\n",
    "plt.grid(True)\n",
    "plt.show()"
   ]
  },
  {
   "cell_type": "markdown",
   "metadata": {},
   "source": [
    "Q 값을 계산<br>Calculate Q"
   ]
  },
  {
   "cell_type": "code",
   "execution_count": 67,
   "metadata": {
    "collapsed": true
   },
   "outputs": [],
   "source": [
    "Q_m3_array = (A_m2_func_array * y_bar_m_func_array)"
   ]
  },
  {
   "cell_type": "code",
   "execution_count": 68,
   "metadata": {
    "collapsed": false
   },
   "outputs": [
    {
     "data": {
      "text/plain": [
       "<matplotlib.text.Text at 0x247b0a2d470>"
      ]
     },
     "execution_count": 68,
     "metadata": {},
     "output_type": "execute_result"
    }
   ],
   "source": [
    "plt.plot(Q_m3_array, y_m_array)\n",
    "plt.xlabel('$Q(m^3)$')"
   ]
  },
  {
   "cell_type": "code",
   "execution_count": 69,
   "metadata": {
    "collapsed": false
   },
   "outputs": [
    {
     "data": {
      "image/png": "[encoded data removed]",
      "text/plain": [
       "<matplotlib.figure.Figure at 0x247b0e9bb70>"
      ]
     },
     "metadata": {},
     "output_type": "display_data"
    }
   ],
   "source": [
    "plt.xlim(xmin=0)\n",
    "plt.ylabel('y(m)')\n",
    "plt.grid(True)\n",
    "plt.show()"
   ]
  },
  {
   "cell_type": "markdown",
   "metadata": {},
   "source": [
    "#### 전단응력 분포<br>Distribution of the shear stress"
   ]
  },
  {
   "cell_type": "markdown",
   "metadata": {},
   "source": [
    "$$\n",
    "\\tau=\\frac{VQ}{IB}\n",
    "$$"
   ]
  },
  {
   "cell_type": "code",
   "execution_count": 70,
   "metadata": {
    "collapsed": true
   },
   "outputs": [],
   "source": [
    "tau_Pa_array = (s_d[V_N]) * Q_m3_array / (float((I_m4.subs(s_d)))* b_m_array)"
   ]
  },
  {
   "cell_type": "code",
   "execution_count": 71,
   "metadata": {
    "collapsed": false
   },
   "outputs": [
    {
     "data": {
      "text/plain": [
       "<matplotlib.text.Text at 0x247af8035f8>"
      ]
     },
     "execution_count": 71,
     "metadata": {},
     "output_type": "execute_result"
    }
   ],
   "source": [
    "plt.clf()\n",
    "plt.plot(tau_Pa_array*1e-6, y_m_array, label='$\\\\tau(y)$')\n",
    "plt.plot(tau_min_Pa.subs(s_d)*1e-6*np.ones_like(y_m_array), y_m_array, label='$\\\\tau_{web min}$')\n",
    "plt.plot(tau_max_Pa.subs(s_d)*1e-6*np.ones_like(y_m_array), y_m_array, label='$\\\\tau_{web max}$')\n",
    "plt.legend(loc=0)\n",
    "plt.xlabel('$\\\\tau$(MPa)')"
   ]
  },
  {
   "cell_type": "code",
   "execution_count": 72,
   "metadata": {
    "collapsed": false
   },
   "outputs": [
    {
     "data": {
      "image/png": "[encoded data removed]",
      "text/plain": [
       "<matplotlib.figure.Figure at 0x247af81ec18>"
      ]
     },
     "metadata": {},
     "output_type": "display_data"
    }
   ],
   "source": [
    "plt.xlim(xmin=0)\n",
    "plt.ylabel('y(m)')\n",
    "plt.grid(True)\n",
    "plt.show()\n",
    "# plt.savefig('ex05.007.tau.svg')"
   ]
  },
  {
   "cell_type": "markdown",
   "metadata": {},
   "source": [
    "최대응력값을 확인<br>Check the maximum stress"
   ]
  },
  {
   "cell_type": "code",
   "execution_count": 73,
   "metadata": {
    "collapsed": false
   },
   "outputs": [],
   "source": [
    "assert (1e-5 > ((abs(max(tau_Pa_array) - tau_max_Pa.subs(s_d))) / tau_max_Pa.subs(s_d)))"
   ]
  },
  {
   "cell_type": "code",
   "execution_count": null,
   "metadata": {
    "collapsed": true
   },
   "outputs": [],
   "source": []
  }
 ],
 "metadata": {
  "anaconda-cloud": {},
  "kernelspec": {
   "display_name": "Python [default]",
   "language": "python",
   "name": "python3"
  },
  "language_info": {
   "codemirror_mode": {
    "name": "ipython",
    "version": 3
   },
   "file_extension": ".py",
   "mimetype": "text/x-python",
   "name": "python",
   "nbconvert_exporter": "python",
   "pygments_lexer": "ipython3",
   "version": "3.5.2"
  }
 },
 "nbformat": 4,
 "nbformat_minor": 2
}
