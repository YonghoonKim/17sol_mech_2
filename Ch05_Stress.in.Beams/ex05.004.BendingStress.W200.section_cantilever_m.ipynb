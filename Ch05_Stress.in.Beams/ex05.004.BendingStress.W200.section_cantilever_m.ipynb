{
 "cells": [
  {
   "cell_type": "markdown",
   "metadata": {},
   "source": [
    "참고문헌 : Pytel 외 저, 이주성 외 역, 재료역학, 2판, 한티미디어, 2013.<br>Ref: Pytel, Kiusalaas, Sharma, Mechanics of Materials, 2nd Ed., Cengege Learning, 2013."
   ]
  },
  {
   "cell_type": "markdown",
   "metadata": {},
   "source": [
    "`python` 기능을 확장해 주는 `module`을 불러 들임 (일부 기능만 사용될 수도 있음)"
   ]
  },
  {
   "cell_type": "code",
   "execution_count": 1,
   "metadata": {
    "collapsed": true
   },
   "outputs": [],
   "source": [
    "import numpy as np  # 배열, 행렬 관련 기능\n",
    "import numpy.linalg as na  # 선형대수 (벡터, 행렬) 관련 기능\n",
    "import matplotlib.pyplot as plt  # 그래프 관련 기능\n",
    "import scipy.integrate as si  # 적분 관련 기능\n",
    "import sympy as sy  # 기호 연산 기능\n",
    "import sympy.plotting as splot\n",
    "import IPython.display as disp  # 웹페이지 표시 기능\n",
    "sy.init_printing()  # 기호 연산 결과 표시 기능 준비"
   ]
  },
  {
   "cell_type": "markdown",
   "metadata": {},
   "source": [
    "## 예제 05.004"
   ]
  },
  {
   "cell_type": "markdown",
   "metadata": {},
   "source": [
    "### 문제에서 주어진 변수"
   ]
  },
  {
   "cell_type": "markdown",
   "metadata": {},
   "source": [
    "#### 각 구간 길이"
   ]
  },
  {
   "cell_type": "code",
   "execution_count": 2,
   "metadata": {
    "collapsed": true
   },
   "outputs": [],
   "source": [
    "L_AB_m, L_BD_m = sy.symbols('L_AB_m, L_BD_m')\n",
    "\n",
    "L_AD_m = L_AB_m + L_BD_m\n",
    "\n",
    "s_d = {L_AB_m: 3, \n",
    "       L_BD_m: 3}"
   ]
  },
  {
   "cell_type": "markdown",
   "metadata": {},
   "source": [
    "#### 하중"
   ]
  },
  {
   "cell_type": "code",
   "execution_count": 3,
   "metadata": {
    "collapsed": false
   },
   "outputs": [],
   "source": [
    "P_A_N = sy.Symbol('P_A_N')\n",
    "M_B_Nm = sy.Symbol('M_B_Nm')\n",
    "s_d[P_A_N] = -5000\n",
    "s_d[M_B_Nm] = +25000"
   ]
  },
  {
   "cell_type": "markdown",
   "metadata": {},
   "source": [
    "#### 단면"
   ]
  },
  {
   "cell_type": "markdown",
   "metadata": {},
   "source": [
    "W 200 $\\times$ 100 에 관련된 자료는 p.608 참고<br>For data on W 200 $\\times$ 100 section, see Table B-2 (p. 608)."
   ]
  },
  {
   "cell_type": "code",
   "execution_count": 4,
   "metadata": {
    "collapsed": true
   },
   "outputs": [],
   "source": [
    "A_m2, I_m4, h_m, S_m3 = sy.symbols('A_m2, I_m4, h_m, S_m3')\n",
    "A_mm2 = A_m2 * (1e3) ** 2\n",
    "I_mm4 = I_m4 * (1e3) ** 4\n",
    "h_mm = h_m * 1e3\n",
    "S_mm3 = S_m3 * (1e3) ** 3"
   ]
  },
  {
   "cell_type": "markdown",
   "metadata": {},
   "source": [
    "mm 단위 값은 다음과 같다.<br>Following cell contains values in mm units."
   ]
  },
  {
   "cell_type": "code",
   "execution_count": 5,
   "metadata": {
    "collapsed": false
   },
   "outputs": [],
   "source": [
    "s_d.update({A_mm2: 12700.0,\n",
    "            I_mm4: 113e6,\n",
    "            h_mm: 229,\n",
    "            S_mm3: 990e3})"
   ]
  },
  {
   "cell_type": "markdown",
   "metadata": {},
   "source": [
    "m 단위 값은 다음과 같다.<br>Following cell contains values in m units."
   ]
  },
  {
   "cell_type": "code",
   "execution_count": 6,
   "metadata": {
    "collapsed": true
   },
   "outputs": [],
   "source": [
    "s_d.update({A_m2: s_d[A_mm2] * (1e-3) ** 2,\n",
    "            I_m4: s_d[I_mm4] * (1e-3) ** 4,\n",
    "            h_m: s_d[h_mm] * 1e-3,\n",
    "            S_m3: s_d[S_mm3] * (1e-3) ** 3})"
   ]
  },
  {
   "cell_type": "markdown",
   "metadata": {},
   "source": [
    "준비된 변수값 표는 다음과 같다."
   ]
  },
  {
   "cell_type": "code",
   "execution_count": 7,
   "metadata": {
    "collapsed": false
   },
   "outputs": [
    {
     "data": {
      "image/png": "[encoded data removed]",
      "text/latex": [
       "$$\\left \\{ A_{m2} : 0.0127, \\quad 1000000.0 A_{m2} : 12700.0, \\quad I_{m4} : 0.00011300000000000002, \\quad 1000000000000.0 I_{m4} : 113000000.0, \\quad L_{AB m} : 3, \\quad L_{BD m} : 3, \\quad M_{B Nm} : 25000, \\quad P_{A N} : -5000, \\quad S_{m3} : 0.00099, \\quad 1000000000.0 S_{m3} : 990000.0, \\quad h_{m} : 0.229, \\quad 1000.0 h_{m} : 229\\right \\}$$"
      ],
      "text/plain": [
       "{Aₘ₂: 0.0127, 1000000.0⋅Aₘ₂: 12700.0, Iₘ₄: 0.00011300000000000002, 10000000000\n",
       "00.0⋅Iₘ₄: 113000000.0, L_AB_m: 3, L_BD_m: 3, M_B_Nm: 25000, P_A_N: -5000, Sₘ₃:\n",
       " 0.00099, 1000000000.0⋅Sₘ₃: 990000.0, hₘ: 0.229, 1000.0⋅hₘ: 229}"
      ]
     },
     "execution_count": 7,
     "metadata": {},
     "output_type": "execute_result"
    }
   ],
   "source": [
    "s_d"
   ]
  },
  {
   "cell_type": "markdown",
   "metadata": {},
   "source": [
    "### A, B, C, D 지점의 x 좌표"
   ]
  },
  {
   "cell_type": "markdown",
   "metadata": {},
   "source": [
    "A 점에서 x=0 으로 한다."
   ]
  },
  {
   "cell_type": "code",
   "execution_count": 8,
   "metadata": {
    "collapsed": false
   },
   "outputs": [],
   "source": [
    "x_A_m = 0\n",
    "x_B_m = float(x_A_m + L_AB_m.subs(s_d))\n",
    "x_D_m = float(x_B_m + L_BD_m.subs(s_d))"
   ]
  },
  {
   "cell_type": "markdown",
   "metadata": {},
   "source": [
    "### 반력"
   ]
  },
  {
   "cell_type": "markdown",
   "metadata": {},
   "source": [
    "외팔보로 D 점에 수직 방향과 모멘트 반력이 가해짐"
   ]
  },
  {
   "cell_type": "markdown",
   "metadata": {},
   "source": [
    "#### 수직 반력"
   ]
  },
  {
   "cell_type": "code",
   "execution_count": 9,
   "metadata": {
    "collapsed": true
   },
   "outputs": [],
   "source": [
    "R_D_N = sy.Symbol('R_D_N')"
   ]
  },
  {
   "cell_type": "code",
   "execution_count": 10,
   "metadata": {
    "collapsed": false
   },
   "outputs": [
    {
     "data": {
      "image/png": "[encoded data removed]",
      "text/latex": [
       "$$P_{A N} + R_{D N} = 0$$"
      ],
      "text/plain": [
       "P_A_N + R_D_N = 0"
      ]
     },
     "execution_count": 10,
     "metadata": {},
     "output_type": "execute_result"
    }
   ],
   "source": [
    "vf_eq = sy.Eq(R_D_N + P_A_N, 0)\n",
    "vf_eq"
   ]
  },
  {
   "cell_type": "code",
   "execution_count": 11,
   "metadata": {
    "collapsed": false
   },
   "outputs": [
    {
     "data": {
      "image/png": "[encoded data removed]",
      "text/latex": [
       "$$\\left [ - P_{A N}\\right ]$$"
      ],
      "text/plain": [
       "[-P_A_N]"
      ]
     },
     "execution_count": 11,
     "metadata": {},
     "output_type": "execute_result"
    }
   ],
   "source": [
    "R_D_N_sol_list = sy.solve(vf_eq, R_D_N)\n",
    "R_D_N_sol_list"
   ]
  },
  {
   "cell_type": "code",
   "execution_count": 12,
   "metadata": {
    "collapsed": false
   },
   "outputs": [
    {
     "data": {
      "image/png": "[encoded data removed]",
      "text/latex": [
       "$$5000$$"
      ],
      "text/plain": [
       "5000"
      ]
     },
     "execution_count": 12,
     "metadata": {},
     "output_type": "execute_result"
    }
   ],
   "source": [
    "r_D_N = R_D_N_sol_list[0].subs(s_d)\n",
    "r_D_N"
   ]
  },
  {
   "cell_type": "markdown",
   "metadata": {},
   "source": [
    "#### 모멘트 반력"
   ]
  },
  {
   "cell_type": "code",
   "execution_count": 13,
   "metadata": {
    "collapsed": true
   },
   "outputs": [],
   "source": [
    "RM_D_Nm = sy.Symbol('RM_D_Nm')"
   ]
  },
  {
   "cell_type": "code",
   "execution_count": 14,
   "metadata": {
    "collapsed": false
   },
   "outputs": [
    {
     "data": {
      "image/png": "[encoded data removed]",
      "text/latex": [
       "$$M_{B Nm} + P_{A N} \\left(L_{AB m} + L_{BD m}\\right) + RM_{D Nm} = 0$$"
      ],
      "text/plain": [
       "M_B_Nm + P_A_N⋅(L_AB_m + L_BD_m) + RM_D_Nm = 0"
      ]
     },
     "execution_count": 14,
     "metadata": {},
     "output_type": "execute_result"
    }
   ],
   "source": [
    "moment_eq = sy.Eq(P_A_N * L_AD_m + M_B_Nm + RM_D_Nm, 0)\n",
    "moment_eq"
   ]
  },
  {
   "cell_type": "code",
   "execution_count": 15,
   "metadata": {
    "collapsed": false
   },
   "outputs": [
    {
     "data": {
      "image/png": "[encoded data removed]",
      "text/latex": [
       "$$\\left [ - L_{AB m} P_{A N} - L_{BD m} P_{A N} - M_{B Nm}\\right ]$$"
      ],
      "text/plain": [
       "[-L_AB_m⋅P_A_N - L_BD_m⋅P_A_N - M_B_Nm]"
      ]
     },
     "execution_count": 15,
     "metadata": {},
     "output_type": "execute_result"
    }
   ],
   "source": [
    "RM_D_Nm_sol_list = sy.solve(moment_eq, RM_D_Nm)\n",
    "RM_D_Nm_sol_list"
   ]
  },
  {
   "cell_type": "code",
   "execution_count": 16,
   "metadata": {
    "collapsed": false
   },
   "outputs": [
    {
     "data": {
      "image/png": "[encoded data removed]",
      "text/latex": [
       "$$5000$$"
      ],
      "text/plain": [
       "5000"
      ]
     },
     "execution_count": 16,
     "metadata": {},
     "output_type": "execute_result"
    }
   ],
   "source": [
    "rm_D_Nm = RM_D_Nm_sol_list[0].subs(s_d)\n",
    "rm_D_Nm"
   ]
  },
  {
   "cell_type": "markdown",
   "metadata": {},
   "source": [
    "### 전단력선도"
   ]
  },
  {
   "cell_type": "code",
   "execution_count": 17,
   "metadata": {
    "collapsed": true
   },
   "outputs": [],
   "source": [
    "V_AD_N = P_A_N"
   ]
  },
  {
   "cell_type": "code",
   "execution_count": 18,
   "metadata": {
    "collapsed": true
   },
   "outputs": [],
   "source": [
    "x = sy.Symbol('x')"
   ]
  },
  {
   "cell_type": "code",
   "execution_count": 19,
   "metadata": {
    "collapsed": false
   },
   "outputs": [
    {
     "data": {
      "image/png": "[encoded data removed]",
      "text/plain": [
       "<matplotlib.figure.Figure at 0x193a7c64d30>"
      ]
     },
     "metadata": {},
     "output_type": "display_data"
    },
    {
     "data": {
      "text/plain": [
       "<sympy.plotting.plot.Plot at 0x193a7c64cc0>"
      ]
     },
     "execution_count": 19,
     "metadata": {},
     "output_type": "execute_result"
    }
   ],
   "source": [
    "splot.plot((V_AD_N.subs(s_d), (x, 0, L_AD_m.subs(s_d))),\n",
    "           (0.0, (x, 0, L_AD_m.subs(s_d))))"
   ]
  },
  {
   "cell_type": "markdown",
   "metadata": {},
   "source": [
    "### 굽힘모멘트선도"
   ]
  },
  {
   "cell_type": "code",
   "execution_count": 20,
   "metadata": {
    "collapsed": true
   },
   "outputs": [],
   "source": [
    "M_AB_Nm = V_AD_N * x\n",
    "M_BD_Nm = V_AD_N * x + M_B_Nm"
   ]
  },
  {
   "cell_type": "code",
   "execution_count": 21,
   "metadata": {
    "collapsed": false
   },
   "outputs": [
    {
     "data": {
      "image/png": "[encoded data removed]",
      "text/plain": [
       "<matplotlib.figure.Figure at 0x193a6a7b1d0>"
      ]
     },
     "metadata": {},
     "output_type": "display_data"
    },
    {
     "data": {
      "text/plain": [
       "<sympy.plotting.plot.Plot at 0x193a7b00550>"
      ]
     },
     "execution_count": 21,
     "metadata": {},
     "output_type": "execute_result"
    }
   ],
   "source": [
    "splot.plot(\n",
    "    (M_AB_Nm.subs(s_d), (x, 0, x_B_m)),\n",
    "    (M_BD_Nm.subs(s_d), (x, x_B_m, x_D_m)),\n",
    ")"
   ]
  },
  {
   "cell_type": "markdown",
   "metadata": {},
   "source": [
    "### 최대 굽힘응력<br>Max bending stress"
   ]
  },
  {
   "cell_type": "markdown",
   "metadata": {},
   "source": [
    "p. 170 eq. 5.4b"
   ]
  },
  {
   "cell_type": "markdown",
   "metadata": {},
   "source": [
    "$$\\sigma_{max}=\\frac{|M|_{max}}{S}$$"
   ]
  },
  {
   "cell_type": "markdown",
   "metadata": {},
   "source": [
    "W200$\\times$100 단면의 경우, p. 608 표 B-2에 따르면 S 값은 $990 \\cdot 10^3 mm^3$ 이다.<br>For W200$\\times$100 section, according to (p. 608) Table B-2, S is $990 \\cdot 10^3 mm^3$."
   ]
  },
  {
   "cell_type": "code",
   "execution_count": 22,
   "metadata": {
    "collapsed": false
   },
   "outputs": [
    {
     "data": {
      "image/png": "[encoded data removed]",
      "text/latex": [
       "$$\\left ( \\frac{1}{S_{m3}} \\left|{P_{A N} x}\\right|, \\quad \\frac{1}{S_{m3}} \\left|{M_{B Nm} + P_{A N} x}\\right|\\right )$$"
      ],
      "text/plain": [
       "⎛│P_A_N⋅x│  │M_B_Nm + P_A_N⋅x│⎞\n",
       "⎜─────────, ──────────────────⎟\n",
       "⎝   Sₘ₃            Sₘ₃        ⎠"
      ]
     },
     "execution_count": 22,
     "metadata": {},
     "output_type": "execute_result"
    }
   ],
   "source": [
    "sigma_AB_Pa = abs(M_AB_Nm) / S_m3\n",
    "sigma_BD_Pa = abs(M_BD_Nm) / S_m3\n",
    "sigma_AB_Pa, sigma_BD_Pa"
   ]
  },
  {
   "cell_type": "markdown",
   "metadata": {},
   "source": [
    "굽힘응력 선도를 표시하면 다음과 같다.<br>The following cell shows the plot of the bending stress."
   ]
  },
  {
   "cell_type": "code",
   "execution_count": 23,
   "metadata": {
    "collapsed": false
   },
   "outputs": [
    {
     "data": {
      "image/png": "[encoded data removed]",
      "text/plain": [
       "<matplotlib.figure.Figure at 0x193a670bd30>"
      ]
     },
     "metadata": {},
     "output_type": "display_data"
    },
    {
     "data": {
      "text/plain": [
       "<sympy.plotting.plot.Plot at 0x193a65ed278>"
      ]
     },
     "execution_count": 23,
     "metadata": {},
     "output_type": "execute_result"
    }
   ],
   "source": [
    "splot.plot(\n",
    "    (sigma_AB_Pa.subs(s_d), (x, 0, x_B_m)),\n",
    "    (sigma_BD_Pa.subs(s_d), (x, x_B_m, x_D_m)),\n",
    "    xlabel='x(m)', ylabel='$\\\\sigma$(Pa)'\n",
    ")"
   ]
  },
  {
   "cell_type": "markdown",
   "metadata": {},
   "source": [
    "최대 응력은 B 점에서 발생할 것으로 예상된다. Pa 단위값은 다음과 같다.<br>Maximum stress is expected at point B. In Pa unit, the value is as follows."
   ]
  },
  {
   "cell_type": "code",
   "execution_count": 24,
   "metadata": {
    "collapsed": false,
    "scrolled": true
   },
   "outputs": [
    {
     "data": {
      "image/png": "[encoded data removed]",
      "text/latex": [
       "$$15151515.1515152$$"
      ],
      "text/plain": [
       "15151515.1515152"
      ]
     },
     "execution_count": 24,
     "metadata": {},
     "output_type": "execute_result"
    }
   ],
   "source": [
    "sigma_AB_Pa.subs(s_d).subs(x, x_B_m)"
   ]
  },
  {
   "cell_type": "markdown",
   "metadata": {},
   "source": [
    "MPa 단위값은 다음과 같다.<br>In MPa unit, the value is as follows."
   ]
  },
  {
   "cell_type": "code",
   "execution_count": 25,
   "metadata": {
    "collapsed": false,
    "scrolled": true
   },
   "outputs": [
    {
     "data": {
      "image/png": "[encoded data removed]",
      "text/latex": [
       "$$15.1515151515152$$"
      ],
      "text/plain": [
       "15.1515151515152"
      ]
     },
     "execution_count": 25,
     "metadata": {},
     "output_type": "execute_result"
    }
   ],
   "source": [
    "sigma_AB_Pa.subs(s_d).subs(x, x_B_m) * 1e-6"
   ]
  },
  {
   "cell_type": "markdown",
   "metadata": {},
   "source": [
    "### 굽힘응력 분포<br>Distribution of bending stress"
   ]
  },
  {
   "cell_type": "markdown",
   "metadata": {},
   "source": [
    "`x` `y` 격자<br>`x` `y` grids"
   ]
  },
  {
   "cell_type": "code",
   "execution_count": 26,
   "metadata": {
    "collapsed": true
   },
   "outputs": [],
   "source": [
    "dx_m = 1e-3\n",
    "dx_half_m = 0.5 * dx_m\n",
    "\n",
    "x_m_array = np.arange(0, x_D_m + dx_half_m, dx_m)\n",
    "\n",
    "h_half_m = s_d[h_m] * 0.5\n",
    "y_m_array = np.arange(-h_half_m, h_half_m + dx_half_m, dx_m)\n",
    "\n",
    "y_m_grid, x_m_grid = np.meshgrid(y_m_array, x_m_array)"
   ]
  },
  {
   "cell_type": "markdown",
   "metadata": {},
   "source": [
    "모멘트 격자<br>Moment grid"
   ]
  },
  {
   "cell_type": "code",
   "execution_count": 27,
   "metadata": {
    "collapsed": true
   },
   "outputs": [],
   "source": [
    "M_Nm = sy.Piecewise((M_AB_Nm.subs(s_d), x<=x_B_m),\n",
    "                    (M_BD_Nm.subs(s_d), x_B_m<x))"
   ]
  },
  {
   "cell_type": "code",
   "execution_count": 28,
   "metadata": {
    "collapsed": true
   },
   "outputs": [],
   "source": [
    "f_M_Nm = sy.lambdify(x, M_Nm)"
   ]
  },
  {
   "cell_type": "code",
   "execution_count": 29,
   "metadata": {
    "collapsed": true
   },
   "outputs": [],
   "source": [
    "M_Nm_grid = f_M_Nm(x_m_grid)"
   ]
  },
  {
   "cell_type": "markdown",
   "metadata": {},
   "source": [
    "응력 격자<br>Stress grid"
   ]
  },
  {
   "cell_type": "code",
   "execution_count": 30,
   "metadata": {
    "collapsed": true
   },
   "outputs": [],
   "source": [
    "sigma_Pa_grid = M_Nm_grid * y_m_grid / (-s_d[I_m4])"
   ]
  },
  {
   "cell_type": "markdown",
   "metadata": {},
   "source": [
    "굽힘응력 분포<br>Distribution of bending stress"
   ]
  },
  {
   "cell_type": "code",
   "execution_count": 31,
   "metadata": {
    "collapsed": false
   },
   "outputs": [
    {
     "data": {
      "image/png": "[encoded data removed]",
      "text/plain": [
       "<matplotlib.figure.Figure at 0x193a65e8c88>"
      ]
     },
     "metadata": {},
     "output_type": "display_data"
    }
   ],
   "source": [
    "plt.pcolormesh(x_m_grid, y_m_grid, sigma_Pa_grid, cmap='jet', shading='flat')\n",
    "plt.xlabel('x(m)')\n",
    "plt.ylabel('y(m)')\n",
    "plt.colorbar()\n",
    "plt.show()"
   ]
  }
 ],
 "metadata": {
  "anaconda-cloud": {},
  "kernelspec": {
   "display_name": "Python [default]",
   "language": "python",
   "name": "python3"
  },
  "language_info": {
   "codemirror_mode": {
    "name": "ipython",
    "version": 3
   },
   "file_extension": ".py",
   "mimetype": "text/x-python",
   "name": "python",
   "nbconvert_exporter": "python",
   "pygments_lexer": "ipython3",
   "version": "3.5.2"
  }
 },
 "nbformat": 4,
 "nbformat_minor": 2
}
