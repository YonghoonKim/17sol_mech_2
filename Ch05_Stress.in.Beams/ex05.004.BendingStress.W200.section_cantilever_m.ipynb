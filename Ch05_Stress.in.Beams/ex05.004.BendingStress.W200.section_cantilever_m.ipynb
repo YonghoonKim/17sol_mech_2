{
 "cells": [
  {
   "cell_type": "markdown",
   "metadata": {},
   "source": [
    "`python` 기능을 확장해 주는 `module`을 불러 들임 (일부 기능만 사용될 수도 있음)"
   ]
  },
  {
   "cell_type": "code",
   "execution_count": null,
   "metadata": {
    "collapsed": true
   },
   "outputs": [],
   "source": [
    "import numpy as np  # 배열, 행렬 관련 기능\n",
    "import numpy.linalg as na  # 선형대수 (벡터, 행렬) 관련 기능\n",
    "import matplotlib.pyplot as plt  # 그래프 관련 기능\n",
    "import scipy.integrate as si  # 적분 관련 기능\n",
    "import sympy as sy  # 기호 연산 기능\n",
    "import sympy.plotting as splot\n",
    "import IPython.display as disp  # 웹페이지 표시 기능\n",
    "sy.init_printing()  # 기호 연산 결과 표시 기능 준비"
   ]
  },
  {
   "cell_type": "markdown",
   "metadata": {},
   "source": [
    "## 예제 05.004"
   ]
  },
  {
   "cell_type": "markdown",
   "metadata": {},
   "source": [
    "### 문제에서 주어진 변수"
   ]
  },
  {
   "cell_type": "markdown",
   "metadata": {},
   "source": [
    "#### 각 구간 길이"
   ]
  },
  {
   "cell_type": "code",
   "execution_count": null,
   "metadata": {
    "collapsed": true
   },
   "outputs": [],
   "source": [
    "L_AB_m, L_BD_m = sy.symbols('L_AB_m, L_BD_m')\n",
    "\n",
    "L_AD_m = L_AB_m + L_BD_m\n",
    "\n",
    "s_d = {L_AB_m: 3, \n",
    "       L_BD_m: 3}"
   ]
  },
  {
   "cell_type": "markdown",
   "metadata": {},
   "source": [
    "#### 하중"
   ]
  },
  {
   "cell_type": "code",
   "execution_count": null,
   "metadata": {
    "collapsed": false
   },
   "outputs": [],
   "source": [
    "P_A_N = sy.Symbol('P_A_N')\n",
    "M_B_Nm = sy.Symbol('M_B_Nm')\n",
    "s_d[P_A_N] = -5000\n",
    "s_d[M_B_Nm] = +25000"
   ]
  },
  {
   "cell_type": "markdown",
   "metadata": {},
   "source": [
    "#### 단면"
   ]
  },
  {
   "cell_type": "markdown",
   "metadata": {},
   "source": [
    "W 200 $\\times$ 100 에 관련된 자료는 p.608 참고\n",
    "\n",
    "For data on W 200 $\\times$ 100 section, see Table B-2 (p. 608)."
   ]
  },
  {
   "cell_type": "code",
   "execution_count": null,
   "metadata": {
    "collapsed": true
   },
   "outputs": [],
   "source": [
    "A_m2, I_m4, h_m, S_m3 = sy.symbols('A_m2, I_m4, h_m, S_m3')\n",
    "A_mm2 = A_m2 * (1e3) ** 2\n",
    "I_mm4 = I_m4 * (1e3) ** 4\n",
    "h_mm = h_m * 1e3\n",
    "S_mm3 = S_m3 * (1e3) ** 3"
   ]
  },
  {
   "cell_type": "markdown",
   "metadata": {},
   "source": [
    "mm 단위 값은 다음과 같다.\n",
    "\n",
    "Following cell contains values in mm units."
   ]
  },
  {
   "cell_type": "code",
   "execution_count": null,
   "metadata": {
    "collapsed": false
   },
   "outputs": [],
   "source": [
    "s_d.update({A_mm2: 12700.0,\n",
    "            I_mm4: 113e6,\n",
    "            h_mm: 229,\n",
    "            S_mm3: 990e3})"
   ]
  },
  {
   "cell_type": "markdown",
   "metadata": {},
   "source": [
    "m 단위 값은 다음과 같다.\n",
    "\n",
    "Following cell contains values in m units."
   ]
  },
  {
   "cell_type": "code",
   "execution_count": null,
   "metadata": {
    "collapsed": true
   },
   "outputs": [],
   "source": [
    "s_d.update({A_m2: s_d[A_mm2] * (1e-3) ** 2,\n",
    "            I_m4: s_d[I_mm4] * (1e-3) ** 4,\n",
    "            h_m: s_d[h_mm] * 1e-3,\n",
    "            S_m3: s_d[S_mm3] * (1e-3) ** 3})"
   ]
  },
  {
   "cell_type": "markdown",
   "metadata": {},
   "source": [
    "준비된 변수값 표는 다음과 같다."
   ]
  },
  {
   "cell_type": "code",
   "execution_count": null,
   "metadata": {
    "collapsed": false
   },
   "outputs": [],
   "source": [
    "s_d"
   ]
  },
  {
   "cell_type": "markdown",
   "metadata": {},
   "source": [
    "### A, B, C, D 지점의 x 좌표"
   ]
  },
  {
   "cell_type": "markdown",
   "metadata": {},
   "source": [
    "A 점에서 x=0 으로 한다."
   ]
  },
  {
   "cell_type": "code",
   "execution_count": null,
   "metadata": {
    "collapsed": false
   },
   "outputs": [],
   "source": [
    "x_A_m = 0\n",
    "x_B_m = float(x_A_m + L_AB_m.subs(s_d))\n",
    "x_D_m = float(x_B_m + L_BD_m.subs(s_d))"
   ]
  },
  {
   "cell_type": "markdown",
   "metadata": {},
   "source": [
    "### 반력"
   ]
  },
  {
   "cell_type": "markdown",
   "metadata": {},
   "source": [
    "외팔보로 D 점에 수직 방향과 모멘트 반력이 가해짐"
   ]
  },
  {
   "cell_type": "markdown",
   "metadata": {},
   "source": [
    "#### 수직 반력"
   ]
  },
  {
   "cell_type": "code",
   "execution_count": null,
   "metadata": {
    "collapsed": true
   },
   "outputs": [],
   "source": [
    "R_D_N = sy.Symbol('R_D_N')"
   ]
  },
  {
   "cell_type": "code",
   "execution_count": null,
   "metadata": {
    "collapsed": false
   },
   "outputs": [],
   "source": [
    "vf_eq = sy.Eq(R_D_N + P_A_N, 0)\n",
    "vf_eq"
   ]
  },
  {
   "cell_type": "code",
   "execution_count": null,
   "metadata": {
    "collapsed": false
   },
   "outputs": [],
   "source": [
    "R_D_N_sol_list = sy.solve(vf_eq, R_D_N)\n",
    "R_D_N_sol_list"
   ]
  },
  {
   "cell_type": "code",
   "execution_count": null,
   "metadata": {
    "collapsed": false
   },
   "outputs": [],
   "source": [
    "r_D_N = R_D_N_sol_list[0].subs(s_d)\n",
    "r_D_N"
   ]
  },
  {
   "cell_type": "markdown",
   "metadata": {},
   "source": [
    "#### 모멘트 반력"
   ]
  },
  {
   "cell_type": "code",
   "execution_count": null,
   "metadata": {
    "collapsed": true
   },
   "outputs": [],
   "source": [
    "RM_D_Nm = sy.Symbol('RM_D_Nm')"
   ]
  },
  {
   "cell_type": "code",
   "execution_count": null,
   "metadata": {
    "collapsed": false
   },
   "outputs": [],
   "source": [
    "moment_eq = sy.Eq(P_A_N * L_AD_m + M_B_Nm + RM_D_Nm, 0)\n",
    "moment_eq"
   ]
  },
  {
   "cell_type": "code",
   "execution_count": null,
   "metadata": {
    "collapsed": false
   },
   "outputs": [],
   "source": [
    "RM_D_Nm_sol_list = sy.solve(moment_eq, RM_D_Nm)\n",
    "RM_D_Nm_sol_list"
   ]
  },
  {
   "cell_type": "code",
   "execution_count": null,
   "metadata": {
    "collapsed": false
   },
   "outputs": [],
   "source": [
    "rm_D_Nm = RM_D_Nm_sol_list[0].subs(s_d)\n",
    "rm_D_Nm"
   ]
  },
  {
   "cell_type": "markdown",
   "metadata": {},
   "source": [
    "### 전단력선도"
   ]
  },
  {
   "cell_type": "code",
   "execution_count": null,
   "metadata": {
    "collapsed": true
   },
   "outputs": [],
   "source": [
    "V_AD_N = P_A_N"
   ]
  },
  {
   "cell_type": "code",
   "execution_count": null,
   "metadata": {
    "collapsed": true
   },
   "outputs": [],
   "source": [
    "x = sy.Symbol('x')"
   ]
  },
  {
   "cell_type": "code",
   "execution_count": null,
   "metadata": {
    "collapsed": false
   },
   "outputs": [],
   "source": [
    "splot.plot((V_AD_N.subs(s_d), (x, 0, L_AD_m.subs(s_d))),\n",
    "           (0.0, (x, 0, L_AD_m.subs(s_d))))"
   ]
  },
  {
   "cell_type": "markdown",
   "metadata": {},
   "source": [
    "### 굽힘모멘트선도"
   ]
  },
  {
   "cell_type": "code",
   "execution_count": null,
   "metadata": {
    "collapsed": true
   },
   "outputs": [],
   "source": [
    "M_AB_Nm = V_AD_N * x\n",
    "M_BD_Nm = V_AD_N * x + M_B_Nm"
   ]
  },
  {
   "cell_type": "code",
   "execution_count": null,
   "metadata": {
    "collapsed": false
   },
   "outputs": [],
   "source": [
    "splot.plot(\n",
    "    (M_AB_Nm.subs(s_d), (x, 0, x_B_m)),\n",
    "    (M_BD_Nm.subs(s_d), (x, x_B_m, x_D_m)),\n",
    ")"
   ]
  }
 ],
 "metadata": {
  "anaconda-cloud": {},
  "kernelspec": {
   "display_name": "Python [default]",
   "language": "python",
   "name": "python3"
  },
  "language_info": {
   "codemirror_mode": {
    "name": "ipython",
    "version": 3
   },
   "file_extension": ".py",
   "mimetype": "text/x-python",
   "name": "python",
   "nbconvert_exporter": "python",
   "pygments_lexer": "ipython3",
   "version": "3.5.2"
  }
 },
 "nbformat": 4,
 "nbformat_minor": 2
}
