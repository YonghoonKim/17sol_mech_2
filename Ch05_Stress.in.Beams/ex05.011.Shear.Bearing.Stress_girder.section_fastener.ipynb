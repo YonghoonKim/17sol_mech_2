{
 "cells": [
  {
   "cell_type": "markdown",
   "metadata": {},
   "source": [
    "`python` 기능을 확장해 주는 `module`을 불러 들임 (일부 기능만 사용될 수도 있음)"
   ]
  },
  {
   "cell_type": "code",
   "execution_count": null,
   "metadata": {
    "collapsed": true
   },
   "outputs": [],
   "source": [
    "import numpy as np  # 배열, 행렬 관련 기능\n",
    "import numpy.linalg as na  # 선형대수 (벡터, 행렬) 관련 기능\n",
    "import matplotlib.pyplot as plt  # 그래프 관련 기능\n",
    "import scipy.integrate as si  # 적분 관련 기능\n",
    "import sympy as sy  # 기호 연산 기능\n",
    "import sympy.plotting as splot\n",
    "import IPython.display as disp  # 웹페이지 표시 기능\n",
    "sy.init_printing()  # 기호 연산 결과 표시 기능 준비"
   ]
  },
  {
   "cell_type": "markdown",
   "metadata": {},
   "source": [
    "## 예제 05.011\n",
    "\n",
    "## Ex. 05.001"
   ]
  },
  {
   "cell_type": "markdown",
   "metadata": {},
   "source": [
    "### 문제에서 주어진 변수\n",
    "\n",
    "### Variables from Problem"
   ]
  },
  {
   "cell_type": "markdown",
   "metadata": {},
   "source": [
    "#### 웨브 web 단면\n",
    "\n",
    "#### Section of web"
   ]
  },
  {
   "cell_type": "code",
   "execution_count": null,
   "metadata": {
    "collapsed": true
   },
   "outputs": [],
   "source": [
    "h_web_m, t_web_m = sy.symbols('h_web_m, t_web_m', positive=True)\n",
    "\n",
    "s_d = {h_web_m: 1100e-3, \n",
    "       t_web_m: 10e-3}"
   ]
  },
  {
   "cell_type": "markdown",
   "metadata": {},
   "source": [
    "#### 앵글 angle 단면\n",
    "\n",
    "#### Section of angle"
   ]
  },
  {
   "cell_type": "code",
   "execution_count": null,
   "metadata": {
    "collapsed": false
   },
   "outputs": [],
   "source": [
    "t_angle_m, A_angle_m2, y_bar_m = sy.symbols('t_angle_m, A_angle_m2, y_bar_m', positive=True)\n",
    "n_angle = sy.symbols('n_angle', integer=True, positive=True)\n",
    "\n",
    "# Nick Fortescue, Jacob Marble, '''Python “extend” for a dictionary''', Stackoverflow, 2013 March 23, https://stackoverflow.com/questions/577234/python-extend-for-a-dictionary\n",
    "s_d.update({t_angle_m: 13e-3,\n",
    "            n_angle: 4,\n",
    "            A_angle_m2: 2630 * (1e-3 ** 2),\n",
    "            y_bar_m: 536.3e-3,\n",
    "           })"
   ]
  },
  {
   "cell_type": "markdown",
   "metadata": {},
   "source": [
    "#### 전체 단면의 중립축에 대한 I\n",
    "\n",
    "#### I of the whole section with respect to the neutral axis"
   ]
  },
  {
   "cell_type": "code",
   "execution_count": null,
   "metadata": {
    "collapsed": true
   },
   "outputs": [],
   "source": [
    "I_m4 = sy.symbols('I_m4', positive=True)\n",
    "\n",
    "# Nick Fortescue, Jacob Marble, '''Python “extend” for a dictionary''', Stackoverflow, 2013 March 23, https://stackoverflow.com/questions/577234/python-extend-for-a-dictionary\n",
    "s_d.update({I_m4: 4140e6*(1e-3**4)})"
   ]
  },
  {
   "cell_type": "markdown",
   "metadata": {},
   "source": [
    "#### 하중\n",
    "\n",
    "#### Load"
   ]
  },
  {
   "cell_type": "code",
   "execution_count": null,
   "metadata": {
    "collapsed": false
   },
   "outputs": [],
   "source": [
    "V_N = sy.Symbol('V_N', real=True)\n",
    "\n",
    "s_d[V_N] = 450e3"
   ]
  },
  {
   "cell_type": "markdown",
   "metadata": {},
   "source": [
    "#### 리벳\n",
    "\n",
    "#### Rivet"
   ]
  },
  {
   "cell_type": "markdown",
   "metadata": {},
   "source": [
    "리벳 지름\n",
    "\n",
    "Rivet diameter"
   ]
  },
  {
   "cell_type": "code",
   "execution_count": null,
   "metadata": {
    "collapsed": true
   },
   "outputs": [],
   "source": [
    "d_rivet_m = sy.Symbol('d_rivet_m', positive=True)\n",
    "\n",
    "s_d[d_rivet_m] = 19e-3"
   ]
  },
  {
   "cell_type": "markdown",
   "metadata": {},
   "source": [
    "리벳 간격\n",
    "\n",
    "Rivet Pitch"
   ]
  },
  {
   "cell_type": "code",
   "execution_count": null,
   "metadata": {
    "collapsed": true
   },
   "outputs": [],
   "source": [
    "e_rivet_m = sy.Symbol('e_rivet_m', positive=True)"
   ]
  },
  {
   "cell_type": "markdown",
   "metadata": {},
   "source": [
    "#### 재료\n",
    "\n",
    "#### Material properties"
   ]
  },
  {
   "cell_type": "markdown",
   "metadata": {},
   "source": [
    "리벳의 허용 전단응력, 웨브의 허용 지압응력은 다음과 같다.\n",
    "\n",
    "Allowable shear stress of rivet, allowable bearing stress of web are as follows."
   ]
  },
  {
   "cell_type": "code",
   "execution_count": null,
   "metadata": {
    "collapsed": false
   },
   "outputs": [],
   "source": [
    "tau_w_Pa, sigma_w_Pa = sy.symbols('tau_w_Pa, sigma_w_Pa', real=True)\n",
    "\n",
    "s_d.update({\n",
    "    tau_w_Pa: 100e6, \n",
    "    sigma_w_Pa: 280e6,\n",
    "})"
   ]
  },
  {
   "cell_type": "markdown",
   "metadata": {},
   "source": [
    "### 앵글에 가해지는 전단력\n",
    "\n",
    "### Shear force on an angle"
   ]
  },
  {
   "cell_type": "markdown",
   "metadata": {},
   "source": [
    "#### 앵글의 $Q$\n",
    "\n",
    "#### $Q$ of an angle"
   ]
  },
  {
   "cell_type": "code",
   "execution_count": null,
   "metadata": {
    "collapsed": false
   },
   "outputs": [],
   "source": [
    "Q_m3 = A_angle_m2 * y_bar_m\n",
    "Q_m3"
   ]
  },
  {
   "cell_type": "markdown",
   "metadata": {},
   "source": [
    "#### 앵글의 전단력 \n",
    "\n",
    "#### Shear force of an angle"
   ]
  },
  {
   "cell_type": "markdown",
   "metadata": {},
   "source": [
    "p. 220 eq. 5.10a"
   ]
  },
  {
   "cell_type": "markdown",
   "metadata": {},
   "source": [
    "$$\n",
    "F_{angle}=\\frac{V\\cdot Q_{angle}\\cdot e_{rivet}}{I}\n",
    "$$"
   ]
  },
  {
   "cell_type": "code",
   "execution_count": null,
   "metadata": {
    "collapsed": false
   },
   "outputs": [],
   "source": [
    "F_angle_N = V_N * Q_m3 * e_rivet_m / I_m4\n",
    "F_angle_N"
   ]
  },
  {
   "cell_type": "markdown",
   "metadata": {},
   "source": [
    "### 리벳 한 개로 버틸 수 있는 전단력"
   ]
  },
  {
   "cell_type": "markdown",
   "metadata": {},
   "source": [
    "#### 리벳의 단면적"
   ]
  },
  {
   "cell_type": "code",
   "execution_count": null,
   "metadata": {
    "collapsed": false
   },
   "outputs": [],
   "source": [
    "A_rivet_m2 = sy.pi * (d_rivet_m/2) **2"
   ]
  },
  {
   "cell_type": "markdown",
   "metadata": {},
   "source": [
    "#### 리벳 한 개로 버틸 수 있는 전단력"
   ]
  },
  {
   "cell_type": "markdown",
   "metadata": {},
   "source": [
    "허용응력에 리벳의 단면적을 곱한다."
   ]
  },
  {
   "cell_type": "code",
   "execution_count": null,
   "metadata": {
    "collapsed": false
   },
   "outputs": [],
   "source": [
    "F_w_N = tau_w_Pa * A_rivet_m2\n",
    "F_w_N"
   ]
  },
  {
   "cell_type": "markdown",
   "metadata": {},
   "source": [
    "결과값을 확인해 본다."
   ]
  },
  {
   "cell_type": "code",
   "execution_count": null,
   "metadata": {
    "collapsed": false
   },
   "outputs": [],
   "source": [
    "float(F_w_N.subs(s_d))"
   ]
  },
  {
   "cell_type": "markdown",
   "metadata": {},
   "source": [
    "### 허용 지압응력으로 리벳 구멍 하나가 버틸 수 있는 힘"
   ]
  },
  {
   "cell_type": "markdown",
   "metadata": {},
   "source": [
    "#### 리벳 구멍의 단면적"
   ]
  },
  {
   "cell_type": "code",
   "execution_count": null,
   "metadata": {
    "collapsed": false
   },
   "outputs": [],
   "source": [
    "A_bearing_m2 = d_rivet_m * t_web_m\n",
    "A_bearing_m2"
   ]
  },
  {
   "cell_type": "markdown",
   "metadata": {},
   "source": [
    "허용응력에 리벳 구멍 벽의 단면적을 곱한다."
   ]
  },
  {
   "cell_type": "code",
   "execution_count": null,
   "metadata": {
    "collapsed": false
   },
   "outputs": [],
   "source": [
    "F_bearing_w_N = sigma_w_Pa * A_bearing_m2\n",
    "F_bearing_w_N"
   ]
  },
  {
   "cell_type": "code",
   "execution_count": null,
   "metadata": {
    "collapsed": false
   },
   "outputs": [],
   "source": [
    "float(F_bearing_w_N.subs(s_d))"
   ]
  },
  {
   "cell_type": "markdown",
   "metadata": {},
   "source": [
    "### 리벳 간격"
   ]
  },
  {
   "cell_type": "markdown",
   "metadata": {},
   "source": [
    "#### 전단력 기준"
   ]
  },
  {
   "cell_type": "markdown",
   "metadata": {},
   "source": [
    "위에서 구한 전단력과 허용 하중을 등식으로 만든다. 리벳이 이중 전단 상태이므로 2를 곱한다."
   ]
  },
  {
   "cell_type": "code",
   "execution_count": null,
   "metadata": {
    "collapsed": false
   },
   "outputs": [],
   "source": [
    "tau_eq = sy.Eq(F_angle_N, F_w_N * 2)\n",
    "tau_eq"
   ]
  },
  {
   "cell_type": "code",
   "execution_count": null,
   "metadata": {
    "collapsed": false
   },
   "outputs": [],
   "source": [
    "tau_e_m_sol_list = sy.solve(tau_eq, e_rivet_m)\n",
    "tau_e_m_sol_list"
   ]
  },
  {
   "cell_type": "code",
   "execution_count": null,
   "metadata": {
    "collapsed": false
   },
   "outputs": [],
   "source": [
    "tau_e_m_sol = float(tau_e_m_sol_list[0].subs(s_d))\n",
    "tau_e_m_sol"
   ]
  },
  {
   "cell_type": "code",
   "execution_count": null,
   "metadata": {
    "collapsed": false,
    "scrolled": true
   },
   "outputs": [],
   "source": [
    "tau_e_mm_sol = tau_e_m_sol * 1e3\n",
    "tau_e_mm_sol"
   ]
  },
  {
   "cell_type": "markdown",
   "metadata": {},
   "source": [
    "#### 지압력 기준"
   ]
  },
  {
   "cell_type": "markdown",
   "metadata": {},
   "source": [
    "* 왜 아래 식에서 $F_{angle}$ 에 2가 곱해지는가?\n",
    "* 이 지압력은 웨브 기준인가? 아니면 앵글 기준인가?\n",
    "* 다른 부분의 지압력을 계산하지 않는 까닭은 무엇인가?"
   ]
  },
  {
   "cell_type": "code",
   "execution_count": null,
   "metadata": {
    "collapsed": false
   },
   "outputs": [],
   "source": [
    "sigma_eq = sy.Eq(F_angle_N * 2, F_bearing_w_N)\n",
    "sigma_eq"
   ]
  },
  {
   "cell_type": "code",
   "execution_count": null,
   "metadata": {
    "collapsed": false
   },
   "outputs": [],
   "source": [
    "sigma_e_m_sol_list = sy.solve(sigma_eq, e_rivet_m)\n",
    "sigma_e_m_sol_list"
   ]
  },
  {
   "cell_type": "code",
   "execution_count": null,
   "metadata": {
    "collapsed": false
   },
   "outputs": [],
   "source": [
    "sigma_e_m_sol = float(sigma_e_m_sol_list[0].subs(s_d))\n",
    "sigma_e_m_sol"
   ]
  },
  {
   "cell_type": "code",
   "execution_count": null,
   "metadata": {
    "collapsed": false,
    "scrolled": true
   },
   "outputs": [],
   "source": [
    "sigma_e_mm_sol = sigma_e_m_sol * 1e3\n",
    "sigma_e_mm_sol"
   ]
  },
  {
   "cell_type": "code",
   "execution_count": null,
   "metadata": {
    "collapsed": true
   },
   "outputs": [],
   "source": []
  }
 ],
 "metadata": {
  "anaconda-cloud": {},
  "kernelspec": {
   "display_name": "Python [conda env:py3]",
   "language": "python",
   "name": "conda-env-py3-py"
  },
  "language_info": {
   "codemirror_mode": {
    "name": "ipython",
    "version": 3
   },
   "file_extension": ".py",
   "mimetype": "text/x-python",
   "name": "python",
   "nbconvert_exporter": "python",
   "pygments_lexer": "ipython3",
   "version": "3.5.2"
  }
 },
 "nbformat": 4,
 "nbformat_minor": 2
}
