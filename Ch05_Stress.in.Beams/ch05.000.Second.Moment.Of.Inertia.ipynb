{
 "cells": [
  {
   "cell_type": "markdown",
   "metadata": {},
   "source": [
    "참고문헌 : Pytel 외 저, 이주성 외 역, 재료역학, 2판, 한티미디어, 2013.<br>Ref: Pytel, Kiusalaas, Sharma, Mechanics of Materials, 2nd Ed., Cengege Learning, 2013."
   ]
  },
  {
   "cell_type": "markdown",
   "metadata": {},
   "source": [
    "`python` 기능을 확장해 주는 `module`을 불러 들임 (일부 기능만 사용될 수도 있음)"
   ]
  },
  {
   "cell_type": "code",
   "execution_count": null,
   "metadata": {
    "collapsed": true
   },
   "outputs": [],
   "source": [
    "import numpy as np  # 배열, 행렬 관련 기능\n",
    "import numpy.linalg as na  # 선형대수 (벡터, 행렬) 관련 기능\n",
    "import matplotlib.pyplot as plt  # 그래프 관련 기능\n",
    "import matplotlib.patches as patches  # 도형 그리기 관련 기능\n",
    "import scipy.integrate as si  # 적분 관련 기능\n",
    "import sympy as sy  # 기호 연산 기능\n",
    "import sympy.plotting as splot\n",
    "import IPython.display as disp  # 웹페이지 표시 기능\n",
    "sy.init_printing()  # 기호 연산 결과 표시 기능 준비"
   ]
  },
  {
   "cell_type": "markdown",
   "metadata": {},
   "source": [
    "## 단면 2차 모멘트<br>Second Moment of Inertia (Area Moment of Inertia)"
   ]
  },
  {
   "cell_type": "markdown",
   "metadata": {
    "collapsed": true
   },
   "source": [
    "단면 2차 모멘트 $I$ 는 보의 굽힘 응력 등 공학 계산에서 자주 나타난다.<br>Second moment of inertia $I$ appears frequently in engineering calculations such as bending stress of a beam."
   ]
  },
  {
   "cell_type": "markdown",
   "metadata": {},
   "source": [
    "수평 축에 대한 $I$ 는 다음과 같다.<br>The definition of $I$ about a horizontal axis is as follows."
   ]
  },
  {
   "cell_type": "markdown",
   "metadata": {},
   "source": [
    "$$\n",
    "I=\\int_A y^2 dA\n",
    "$$"
   ]
  },
  {
   "cell_type": "markdown",
   "metadata": {},
   "source": [
    "여기서 $y$는 회전축으로부터의 $dA$ 까지의 수직 거리이다.<br>where $y$ is distance from the rotation axis to $dA$."
   ]
  },
  {
   "cell_type": "markdown",
   "metadata": {},
   "source": [
    "### 사각단면의 예<br>A Rectangular Section"
   ]
  },
  {
   "cell_type": "markdown",
   "metadata": {},
   "source": [
    "#### 도심에 관한 단면 2차 모멘트<br>2nd moment of inertia about centroid"
   ]
  },
  {
   "cell_type": "markdown",
   "metadata": {},
   "source": [
    "다음과 같이 폭이 $b$ 이고 높이가 $h$ 인 사각 단면의 예를 들어 생각해 보자.<br>Let's think about a rectangular section with base $b$ and height $h$ as follows."
   ]
  },
  {
   "cell_type": "code",
   "execution_count": null,
   "metadata": {
    "collapsed": false
   },
   "outputs": [],
   "source": [
    "# Matthias Elsen, Draw rectangles with matplotlib, Python Patterns, 2015, https://matthiaseisen.com/pp/patterns/p0203/\n",
    "fig1 = plt.figure()\n",
    "ax1 = fig1.add_subplot(111, aspect='equal')\n",
    "\n",
    "width = 0.5\n",
    "height = 1.0\n",
    "\n",
    "center = np.array((0.5, 0.5))\n",
    "corner_sw = center + (-0.5) * np.array((width, height))\n",
    "corner_ne = center + 0.5 * np.array((width, height))\n",
    "\n",
    "ax1.add_patch(\n",
    "    patches.Rectangle(\n",
    "        corner_sw, width, height\n",
    "    )\n",
    ")\n",
    "\n",
    "# https://stackoverflow.com/questions/25761717/matplotlib-simple-and-two-head-arrows\n",
    "# http://matplotlib.org/api/_as_gen/matplotlib.axes.Axes.annotate.html#matplotlib.axes.Axes.annotate\n",
    "offset = height * 0.25\n",
    "plt.annotate(s='$b$', \n",
    "             xy=(corner_sw[0], offset + center[1]), \n",
    "             xytext=(corner_ne[0], offset + center[1]*0.9625 ),\n",
    "             arrowprops=dict(arrowstyle='<->')\n",
    "            )\n",
    "\n",
    "plt.annotate(s='$h$', \n",
    "             xy=(center[0], corner_sw[1]), \n",
    "             xytext=(center[0]*0.9625, corner_ne[1]/0.975),\n",
    "             arrowprops=dict(arrowstyle='<->')\n",
    "            )\n",
    "\n",
    "offset_x = width * 0.25\n",
    "plt.annotate(s='$\\\\frac{h}{2}$', \n",
    "             xy=(offset_x + center[0], center[1]), \n",
    "             xytext=(offset_x + center[0]*0.9625, corner_ne[1]/0.955),\n",
    "             arrowprops=dict(arrowstyle='<->')\n",
    "            )\n",
    "\n",
    "overhang_x = width * 0.25\n",
    "plt.plot((corner_sw[0] - overhang_x, corner_ne[0] + overhang_x), \n",
    "         (center[1], center[1]), 'k-.')\n",
    "\n",
    "# Matplotlib development team, Text properties and layout, matplotlib User's Guide, https://matplotlib.org/users/text_props.html\n",
    "ax1.set_axis_off()  \n",
    "plt.show()"
   ]
  },
  {
   "cell_type": "markdown",
   "metadata": {},
   "source": [
    "이 단면은 상하 대칭으로 도심의 위치는 $\\frac{h}{2}$ 이다.<br> \n",
    "This section is horizontally symmetric; thus cetroid is at $\\frac{h}{2}$."
   ]
  },
  {
   "cell_type": "markdown",
   "metadata": {
    "collapsed": true
   },
   "source": [
    "단면 2차 모멘트의 정의를 다시 한번 생각해보자.<br>\n",
    "Let's recall the definition of the second moment of inertia."
   ]
  },
  {
   "cell_type": "markdown",
   "metadata": {},
   "source": [
    "$$\n",
    "\\begin{align}\n",
    "I=\\int_A y^2 dA\n",
    "\\end{align}\n",
    "$$"
   ]
  },
  {
   "cell_type": "markdown",
   "metadata": {},
   "source": [
    "$dA$에 관하여, 미소 면적 $b\\cdot dy$를 생각할 수 있다.<br>\n",
    "Regarding $dA$, one can think about an infinisimal area $b\\cdot dy$."
   ]
  },
  {
   "cell_type": "markdown",
   "metadata": {},
   "source": [
    "$$\n",
    "dA=b \\cdot dy\n",
    "$$"
   ]
  },
  {
   "cell_type": "markdown",
   "metadata": {},
   "source": [
    "도심을 지나는 수평축에 관한 단면 2차 모멘트는 다음과 같다.<br>\n",
    "Second moment of inertia about a horizontal axis passing the centroid is as follows."
   ]
  },
  {
   "cell_type": "markdown",
   "metadata": {},
   "source": [
    "$$\n",
    "\\begin{align}\n",
    "I&=\\int_{y=-\\frac{h}{2}}^{y=\\frac{h}{2}}y^2\\cdot b\\cdot dy \\\\\n",
    "&=b\\int_{y=-\\frac{h}{2}}^{y=\\frac{h}{2}}y^2\\cdot dy \\\\\n",
    "&=b \\left[ \\frac{1}{3}y^3 \\right] _{y=-\\frac{h}{2}}^{y=\\frac{h}{2}} \\\\\n",
    "&=\\frac{b}{3} \\left[ \\left( \\frac{h}{2} \\right)^3 - \\left( -\\frac{h}{2} \\right)^3 \\right]\\\\\n",
    "&=\\frac{b}{3} \\left[ \\frac{h^3}{8} - \\left( - \\frac{h^3}{8}\\right) \\right]\\\\\n",
    "&=\\frac{b}{3} \\frac{h^3}{4} = \\frac{bh^3}{12}\\\\\n",
    "\\end{align} \\\\\n",
    "$$"
   ]
  },
  {
   "cell_type": "markdown",
   "metadata": {},
   "source": [
    "`sympy` 로는 다음과 같이 구할 수 있다.<br>It is as follows in `sympy`."
   ]
  },
  {
   "cell_type": "code",
   "execution_count": null,
   "metadata": {
    "collapsed": true
   },
   "outputs": [],
   "source": [
    "b, h, y = sy.symbols('b, h, y', real=True)\n",
    "I = sy.integrate(b * y**2, (y, -h/2, h/2))"
   ]
  },
  {
   "cell_type": "code",
   "execution_count": null,
   "metadata": {
    "collapsed": false
   },
   "outputs": [],
   "source": [
    "I"
   ]
  },
  {
   "cell_type": "markdown",
   "metadata": {},
   "source": [
    "#### $c$ 점 중심의 단면 2차 모멘트와 평행축 정리<br>About coordiante c and Parallel axis theorm"
   ]
  },
  {
   "cell_type": "code",
   "execution_count": null,
   "metadata": {
    "collapsed": false
   },
   "outputs": [],
   "source": [
    "# Matthias Elsen, Draw rectangles with matplotlib, Python Patterns, 2015, https://matthiaseisen.com/pp/patterns/p0203/\n",
    "fig1 = plt.figure()\n",
    "ax1 = fig1.add_subplot(111, aspect='equal')\n",
    "\n",
    "width = 0.5\n",
    "height = 1.0\n",
    "\n",
    "center = np.array((0.5, 0.5))\n",
    "corner_sw = center + (-0.5) * np.array((width, height))\n",
    "corner_ne = center + 0.5 * np.array((width, height))\n",
    "\n",
    "ax1.add_patch(\n",
    "    patches.Rectangle(\n",
    "        corner_sw, width, height\n",
    "    )\n",
    ")\n",
    "\n",
    "# https://stackoverflow.com/questions/25761717/matplotlib-simple-and-two-head-arrows\n",
    "# http://matplotlib.org/api/_as_gen/matplotlib.axes.Axes.annotate.html#matplotlib.axes.Axes.annotate\n",
    "offset = height * 0.25\n",
    "plt.annotate(s='$b$', \n",
    "             xy=(corner_sw[0], offset + center[1]), \n",
    "             xytext=(corner_ne[0], offset + center[1]*0.9625 ),\n",
    "             arrowprops=dict(arrowstyle='<->')\n",
    "            )\n",
    "\n",
    "overhang_x = width * 0.25\n",
    "offset = height * (-0.25)\n",
    "plt.plot((corner_sw[0]-overhang_x, corner_ne[0]+overhang_x), \n",
    "         (offset + center[1], offset + center[1]), 'k-.')\n",
    "plt.text(corner_ne[0] + overhang_x + 0.01, offset + center[1] - .01, 'c')\n",
    "\n",
    "plt.annotate(s='$h$', \n",
    "             xy=(center[0], corner_sw[1]), \n",
    "             xytext=(center[0]*0.9625, corner_ne[1]/0.975),\n",
    "             arrowprops=dict(arrowstyle='<->')\n",
    "            )\n",
    "\n",
    "offset_x = width * 0.25\n",
    "plt.annotate(s='$\\\\frac{h}{2}$', \n",
    "             xy=(offset_x + center[0], center[1]), \n",
    "             xytext=(offset_x + center[0]*0.9625, corner_ne[1]/0.955),\n",
    "             arrowprops=dict(arrowstyle='<->')\n",
    "            )\n",
    "\n",
    "overhang_x = width * 0.125\n",
    "plt.plot((corner_sw[0] - overhang_x, corner_ne[0] + overhang_x), \n",
    "         (center[1], center[1]), 'k-.')\n",
    "\n",
    "# Matplotlib development team, Text properties and layout, matplotlib User's Guide, https://matplotlib.org/users/text_props.html\n",
    "ax1.set_axis_off()  \n",
    "plt.show()"
   ]
  },
  {
   "cell_type": "code",
   "execution_count": null,
   "metadata": {
    "collapsed": true
   },
   "outputs": [],
   "source": []
  }
 ],
 "metadata": {
  "anaconda-cloud": {},
  "kernelspec": {
   "display_name": "Python [default]",
   "language": "python",
   "name": "python3"
  },
  "language_info": {
   "codemirror_mode": {
    "name": "ipython",
    "version": 3
   },
   "file_extension": ".py",
   "mimetype": "text/x-python",
   "name": "python",
   "nbconvert_exporter": "python",
   "pygments_lexer": "ipython3",
   "version": "3.5.2"
  }
 },
 "nbformat": 4,
 "nbformat_minor": 2
}
