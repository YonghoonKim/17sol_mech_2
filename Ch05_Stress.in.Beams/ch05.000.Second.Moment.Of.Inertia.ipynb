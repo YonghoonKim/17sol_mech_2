{
 "cells": [
  {
   "cell_type": "markdown",
   "metadata": {},
   "source": [
    "참고문헌 : Pytel 외 저, 이주성 외 역, 재료역학, 2판, 한티미디어, 2013.<br>Ref: Pytel, Kiusalaas, Sharma, Mechanics of Materials, 2nd Ed., Cengege Learning, 2013."
   ]
  },
  {
   "cell_type": "markdown",
   "metadata": {},
   "source": [
    "`python` 기능을 확장해 주는 `module`을 불러 들임 (일부 기능만 사용될 수도 있음)"
   ]
  },
  {
   "cell_type": "code",
   "execution_count": 1,
   "metadata": {
    "collapsed": true
   },
   "outputs": [],
   "source": [
    "import numpy as np  # 배열, 행렬 관련 기능\n",
    "import numpy.linalg as na  # 선형대수 (벡터, 행렬) 관련 기능\n",
    "import matplotlib.pyplot as plt  # 그래프 관련 기능\n",
    "import matplotlib.patches as patches  # 도형 그리기 관련 기능\n",
    "import scipy.integrate as si  # 적분 관련 기능\n",
    "import sympy as sy  # 기호 연산 기능\n",
    "import sympy.plotting as splot\n",
    "import IPython.display as disp  # 웹페이지 표시 기능\n",
    "sy.init_printing()  # 기호 연산 결과 표시 기능 준비"
   ]
  },
  {
   "cell_type": "markdown",
   "metadata": {},
   "source": [
    "## 단면 2차 모멘트<br>Second Moment of Inertia (Area Moment of Inertia)"
   ]
  },
  {
   "cell_type": "markdown",
   "metadata": {
    "collapsed": true
   },
   "source": [
    "단면 2차 모멘트 $I$ 는 보의 굽힘 응력 등 공학 계산에서 자주 나타난다.<br>Second moment of inertia $I$ appears frequently in engineering calculations such as bending stress of a beam."
   ]
  },
  {
   "cell_type": "markdown",
   "metadata": {},
   "source": [
    "수평 축에 대한 $I$ 는 다음과 같다.<br>The definition of $I$ about a horizontal axis is as follows."
   ]
  },
  {
   "cell_type": "markdown",
   "metadata": {},
   "source": [
    "$$\n",
    "I=\\int_A y^2 dA\n",
    "$$"
   ]
  },
  {
   "cell_type": "markdown",
   "metadata": {},
   "source": [
    "여기서 $y$는 회전축으로부터의 $dA$ 까지의 수직 거리이다.<br>where $y$ is distance from the rotation axis to $dA$."
   ]
  },
  {
   "cell_type": "markdown",
   "metadata": {},
   "source": [
    "### 사각단면의 예<br>A Rectangular Section"
   ]
  },
  {
   "cell_type": "markdown",
   "metadata": {},
   "source": [
    "#### 도심에 관한 단면 2차 모멘트<br>2nd moment of inertia about centroid"
   ]
  },
  {
   "cell_type": "markdown",
   "metadata": {},
   "source": [
    "다음과 같이 폭이 $b$ 이고 높이가 $h$ 인 사각 단면의 예를 들어 생각해 보자.<br>Let's think about a rectangular section with base $b$ and height $h$ as follows."
   ]
  },
  {
   "cell_type": "code",
   "execution_count": 2,
   "metadata": {
    "collapsed": false
   },
   "outputs": [
    {
     "data": {
      "image/png": "[encoded data removed]",
      "text/plain": [
       "<matplotlib.figure.Figure at 0x251802160b8>"
      ]
     },
     "metadata": {},
     "output_type": "display_data"
    }
   ],
   "source": [
    "import draw_diagrams\n",
    "draw_diagrams.rect_section()"
   ]
  },
  {
   "cell_type": "markdown",
   "metadata": {},
   "source": [
    "이 단면은 상하 대칭으로 도심의 위치는 $\\frac{h}{2}$ 이다.<br> \n",
    "This section is horizontally symmetric; thus cetroid is at $\\frac{h}{2}$."
   ]
  },
  {
   "cell_type": "markdown",
   "metadata": {
    "collapsed": true
   },
   "source": [
    "단면 2차 모멘트의 정의를 다시 한번 생각해보자.<br>\n",
    "Let's recall the definition of the second moment of inertia."
   ]
  },
  {
   "cell_type": "markdown",
   "metadata": {},
   "source": [
    "$$\n",
    "\\begin{align}\n",
    "I=\\int_A y^2 dA\n",
    "\\end{align}\n",
    "$$"
   ]
  },
  {
   "cell_type": "markdown",
   "metadata": {},
   "source": [
    "$dA$에 관하여, 미소 면적 $b\\cdot dy$를 생각할 수 있다.<br>\n",
    "Regarding $dA$, one can think about an infinitesimal area $b\\cdot dy$."
   ]
  },
  {
   "cell_type": "markdown",
   "metadata": {},
   "source": [
    "$$\n",
    "dA=b \\cdot dy\n",
    "$$"
   ]
  },
  {
   "cell_type": "markdown",
   "metadata": {},
   "source": [
    "도심을 지나는 수평축에 관한 단면 2차 모멘트는 다음과 같다.<br>\n",
    "Second moment of inertia about a horizontal axis passing the centroid is as follows."
   ]
  },
  {
   "cell_type": "markdown",
   "metadata": {},
   "source": [
    "$$\n",
    "\\begin{align}\n",
    "I&=\\int_{y=-\\frac{h}{2}}^{y=\\frac{h}{2}}y^2\\cdot b\\cdot dy \\\\\n",
    "&=b\\int_{y=-\\frac{h}{2}}^{y=\\frac{h}{2}}y^2\\cdot dy \\\\\n",
    "&=b \\left[ \\frac{1}{3}y^3 \\right] _{y=-\\frac{h}{2}}^{y=\\frac{h}{2}} \\\\\n",
    "&=\\frac{b}{3} \\left[ \\left( \\frac{h}{2} \\right)^3 - \\left( -\\frac{h}{2} \\right)^3 \\right]\\\\\n",
    "&=\\frac{b}{3} \\left[ \\frac{h^3}{8} - \\left( - \\frac{h^3}{8}\\right) \\right]\\\\\n",
    "&=\\frac{b}{3} \\frac{h^3}{4} = \\frac{bh^3}{12}\\\\\n",
    "\\end{align} \\\\\n",
    "$$"
   ]
  },
  {
   "cell_type": "markdown",
   "metadata": {},
   "source": [
    "`sympy` 로는 다음과 같이 구할 수 있다.<br>It is as follows in `sympy`."
   ]
  },
  {
   "cell_type": "code",
   "execution_count": 3,
   "metadata": {
    "collapsed": true
   },
   "outputs": [],
   "source": [
    "b, h, y = sy.symbols('b, h, y', real=True)\n",
    "I = sy.integrate(b * y**2, (y, -h/2, h/2))"
   ]
  },
  {
   "cell_type": "code",
   "execution_count": 4,
   "metadata": {
    "collapsed": false
   },
   "outputs": [
    {
     "data": {
      "image/png": "[encoded data removed]",
      "text/latex": [
       "$$\\frac{b h^{3}}{12}$$"
      ],
      "text/plain": [
       "   3\n",
       "b⋅h \n",
       "────\n",
       " 12 "
      ]
     },
     "execution_count": 4,
     "metadata": {},
     "output_type": "execute_result"
    }
   ],
   "source": [
    "I"
   ]
  },
  {
   "cell_type": "markdown",
   "metadata": {},
   "source": [
    "#### $c$ 점 중심의 단면 2차 모멘트와 평행축 정리<br>About coordiante c and Parallel axis theorm"
   ]
  },
  {
   "cell_type": "code",
   "execution_count": 5,
   "metadata": {
    "collapsed": false
   },
   "outputs": [
    {
     "data": {
      "image/png": "[encoded data removed]",
      "text/plain": [
       "<matplotlib.figure.Figure at 0x25184c77438>"
      ]
     },
     "metadata": {},
     "output_type": "display_data"
    }
   ],
   "source": [
    "import draw_diagrams\n",
    "draw_diagrams.rect_section_c()"
   ]
  },
  {
   "cell_type": "markdown",
   "metadata": {},
   "source": [
    "$c$ 로부터 미소면적 $dA$ 까지의 거리 $z$는 다음과 같이 정의된다.<br>\n",
    "$z$, the distance from $c$ to the infinitesimal area $dA$, is defined as follows."
   ]
  },
  {
   "cell_type": "markdown",
   "metadata": {},
   "source": [
    "$$\n",
    "z=y-c\n",
    "$$"
   ]
  },
  {
   "cell_type": "markdown",
   "metadata": {
    "collapsed": true
   },
   "source": [
    "단면 2차 모멘트의 정의는 같다.<br>\n",
    "The definition of the second moment of inertia is the same."
   ]
  },
  {
   "cell_type": "markdown",
   "metadata": {},
   "source": [
    "$$\n",
    "\\begin{align}\n",
    "I_c=\\int_A z^2 dA\n",
    "\\end{align}\n",
    "$$"
   ]
  },
  {
   "cell_type": "markdown",
   "metadata": {},
   "source": [
    "$dA$는 $b\\cdot dz$이다.<br>\n",
    "$dA$ is \n",
    "$b\\cdot dz$."
   ]
  },
  {
   "cell_type": "markdown",
   "metadata": {},
   "source": [
    "$z$ 를 $y$로 미분한다.<br>Differetiating $z$ with $y$ gives follows."
   ]
  },
  {
   "cell_type": "markdown",
   "metadata": {},
   "source": [
    "$$\n",
    "\\begin{align}\n",
    "\\frac{dz}{dy} &= 1 \\\\\n",
    "dz &= dy \\\\\n",
    "dA &=b \\cdot dz \\\\\n",
    " &=b \\cdot dy\n",
    "\\end{align}\n",
    "$$"
   ]
  },
  {
   "cell_type": "markdown",
   "metadata": {},
   "source": [
    "$z$ 대신 $y$ 에 대한 적분은 다음과 같다.<br>\n",
    "Integrating about $y$ instead of $z$ gives follows."
   ]
  },
  {
   "cell_type": "markdown",
   "metadata": {},
   "source": [
    "$$\n",
    "\\begin{align}\n",
    "I_c&=\\int_{y=-\\frac{h}{2}}^{y=\\frac{h}{2}} (y-c)^2 \\cdot b \\cdot dy \\\\\n",
    "&=b\\int_{y=-\\frac{h}{2}}^{y=\\frac{h}{2}} (y-c)^2 \\cdot dy \\\\\n",
    "&=b \\left[ \\frac{1}{3} (y-c)^3   \\right]_{y=-\\frac{h}{2}}^{y=\\frac{h}{2}} \\\\\n",
    "&=\\frac{b}{3} \\left[  \\left(\\frac{h}{2}-c\\right)^3  - \\left(\\left(-\\frac{h}{2}\\right)-c\\right)^3  \\right] \\\\\n",
    "&=\\frac{b}{3} \\left[  \\left(\\frac{h}{2}-c\\right)^3  + \\left(\\frac{h}{2}+c\\right)^3  \\right] \\\\\n",
    "\\end{align}\n",
    "$$"
   ]
  },
  {
   "cell_type": "markdown",
   "metadata": {},
   "source": [
    "대괄호 안은 다음과 같다.<br>Inside of the bracket is as follows."
   ]
  },
  {
   "cell_type": "markdown",
   "metadata": {},
   "source": [
    "$$\n",
    "\\begin{align} \n",
    "\\left(\\frac{h}{2}-c\\right)^3 & = \\left(\\frac{h}{2}\\right)^3 \n",
    "                               - 3\\left(\\frac{h}{2}\\right)^2 c\n",
    "                               + 3\\left(\\frac{h}{2}\\right) c^2\n",
    "                               - c^3\n",
    "\\\\\n",
    "\\left(\\frac{h}{2}+c\\right)^3 & = \\left(\\frac{h}{2}\\right)^3 \n",
    "                               + 3\\left(\\frac{h}{2}\\right)^2 c\n",
    "                               + 3\\left(\\frac{h}{2}\\right) c^2\n",
    "                               + c^3\n",
    "\\\\\n",
    "\\left(\\frac{h}{2}-c\\right)^3 + \\left(\\frac{h}{2}+c\\right)^3 &= 2 \\left(\\frac{h}{2}\\right)^3 + 6 \\left(\\frac{h}{2}\\right) c^2 \\\\\n",
    "&= 2 \\frac{h^3}{8} + 3h c^2 \\\\ \n",
    "&= \\frac{h^3}{4} + 3h c^2 \\\\\n",
    "\\end{align}\n",
    "$$"
   ]
  },
  {
   "cell_type": "markdown",
   "metadata": {},
   "source": [
    "그렇다면 $I$ 는 <br>Then $I$ becomes"
   ]
  },
  {
   "cell_type": "markdown",
   "metadata": {},
   "source": [
    "$$\n",
    "\\begin{align}\n",
    "I_c&=\\frac{b}{3} \\left[  \\left(\\frac{h}{2}-c\\right)^3  + \\left(\\frac{h}{2}+c\\right)^3  \\right] \\\\\n",
    "&=\\frac{b}{3} \\left[  \\frac{h^3}{4} + 3h c^2 \\right] \\\\\n",
    "&=\\frac{bh^3}{12} + bhc^2 \\\\\n",
    "&=I+Ac^2\n",
    "\\end{align}\n",
    "$$"
   ]
  },
  {
   "cell_type": "markdown",
   "metadata": {},
   "source": [
    "`sympy` 로는 다음과 같이 구할 수 있다.<br>It is as follows in `sympy`."
   ]
  },
  {
   "cell_type": "code",
   "execution_count": 6,
   "metadata": {
    "collapsed": true
   },
   "outputs": [],
   "source": [
    "b, h, c, y = sy.symbols('b, h, c, y', real=True)\n",
    "I_C = sy.integrate(b * (y - c)**2, (y, -h/2, h/2))"
   ]
  },
  {
   "cell_type": "code",
   "execution_count": 7,
   "metadata": {
    "collapsed": false
   },
   "outputs": [
    {
     "data": {
      "image/png": "[encoded data removed]",
      "text/latex": [
       "$$b c^{2} h + \\frac{b h^{3}}{12}$$"
      ],
      "text/plain": [
       "            3\n",
       "   2     b⋅h \n",
       "b⋅c ⋅h + ────\n",
       "          12 "
      ]
     },
     "execution_count": 7,
     "metadata": {},
     "output_type": "execute_result"
    }
   ],
   "source": [
    "I_C"
   ]
  },
  {
   "cell_type": "markdown",
   "metadata": {},
   "source": [
    "(이 노트북이 중간 오류 없이 끝까지 실행 되었는지 확인)<br>\n",
    "(Check if this notebook could run to the end without errors in the middle.)"
   ]
  },
  {
   "cell_type": "code",
   "execution_count": 8,
   "metadata": {
    "collapsed": true
   },
   "outputs": [],
   "source": [
    "assert True"
   ]
  }
 ],
 "metadata": {
  "anaconda-cloud": {},
  "kernelspec": {
   "display_name": "Python [default]",
   "language": "python",
   "name": "python3"
  },
  "language_info": {
   "codemirror_mode": {
    "name": "ipython",
    "version": 3
   },
   "file_extension": ".py",
   "mimetype": "text/x-python",
   "name": "python",
   "nbconvert_exporter": "python",
   "pygments_lexer": "ipython3",
   "version": "3.5.2"
  }
 },
 "nbformat": 4,
 "nbformat_minor": 2
}
