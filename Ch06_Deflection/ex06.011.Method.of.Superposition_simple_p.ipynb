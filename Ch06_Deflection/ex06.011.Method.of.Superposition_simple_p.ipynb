{
 "cells": [
  {
   "cell_type": "markdown",
   "metadata": {},
   "source": [
    "참고문헌 : Pytel 외 저, 이주성 외 역, 재료역학, 2판, 한티미디어, 2013.<br>Ref: Pytel, Kiusalaas, Sharma, Mechanics of Materials, 2nd Ed., Cengege Learning, 2013."
   ]
  },
  {
   "cell_type": "markdown",
   "metadata": {},
   "source": [
    "`python` 기능을 확장해 주는 `module`을 불러 들임 (일부 기능만 사용될 수도 있음)"
   ]
  },
  {
   "cell_type": "code",
   "execution_count": null,
   "metadata": {
    "collapsed": true
   },
   "outputs": [],
   "source": [
    "import numpy as np  # 배열, 행렬 관련 기능\n",
    "import numpy.linalg as na  # 선형대수 (벡터, 행렬) 관련 기능\n",
    "import matplotlib.pyplot as plt  # 그래프 관련 기능\n",
    "import scipy.integrate as si  # 적분 관련 기능\n",
    "import sympy as sy  # 기호 연산 기능\n",
    "import sympy.plotting as splot\n",
    "import IPython.display as disp  # 웹페이지 표시 기능\n",
    "sy.init_printing()  # 기호 연산 결과 표시 기능 준비"
   ]
  },
  {
   "cell_type": "markdown",
   "metadata": {},
   "source": [
    "## 예제 06.011<br>ex06.011"
   ]
  },
  {
   "cell_type": "markdown",
   "metadata": {},
   "source": [
    "p. 281"
   ]
  },
  {
   "cell_type": "markdown",
   "metadata": {},
   "source": [
    "### 문제에서 주어진 변수<br>Given variables"
   ]
  },
  {
   "cell_type": "markdown",
   "metadata": {},
   "source": [
    "#### 보의 길이<br>Length of the beam"
   ]
  },
  {
   "cell_type": "code",
   "execution_count": null,
   "metadata": {
    "collapsed": false
   },
   "outputs": [],
   "source": [
    "L_AB_m, L_BC_m, L_CD_m = sy.symbols('L_AB_m, L_BC_m, L_CD_m', positive=True)\n",
    "L_AC_m = L_AB_m + L_BC_m\n",
    "L_AD_m = L_AC_m + L_CD_m\n",
    "\n",
    "s_d = {\n",
    "    L_AB_m: 2, \n",
    "    L_BC_m: 4, \n",
    "    L_CD_m: 3\n",
    "}"
   ]
  },
  {
   "cell_type": "markdown",
   "metadata": {},
   "source": [
    "#### 하중<br>Load"
   ]
  },
  {
   "cell_type": "code",
   "execution_count": null,
   "metadata": {
    "collapsed": false
   },
   "outputs": [],
   "source": [
    "P_B_N, P_C_N = sy.symbols('P_B_N, P_C_N', real=True)\n",
    "\n",
    "s_d.update({\n",
    "        P_B_N: -100,\n",
    "        P_C_N: -80\n",
    "    }\n",
    ")"
   ]
  },
  {
   "cell_type": "markdown",
   "metadata": {},
   "source": [
    "#### 관심 지점<br>Point of interest"
   ]
  },
  {
   "cell_type": "code",
   "execution_count": null,
   "metadata": {
    "collapsed": true
   },
   "outputs": [],
   "source": [
    "x_m = sy.symbols('x_m', real=True)\n",
    "x_center_m = L_AD_m / 2"
   ]
  },
  {
   "cell_type": "markdown",
   "metadata": {},
   "source": [
    "### 처짐 공식<br>Deflection formula"
   ]
  },
  {
   "cell_type": "markdown",
   "metadata": {},
   "source": [
    "p. 280 표 6.3<br>Table 6.3 p.280"
   ]
  },
  {
   "cell_type": "markdown",
   "metadata": {},
   "source": [
    "$$\n",
    "\\delta = \\begin{cases}\n",
    "    \\frac{Pbx}{6LEI}\\left( L^2 - x^2 - b^2 \\right) & 0 \\le x \\le a \\\\\n",
    "    \\frac{Pb}{6LEI}\\left[ \\frac{L}{b} \\left(x-a\\right)^3 + \\left(L^2-b^2\\right)x - x^3 \\right] & a \\le x \\le L \\\\\n",
    "\\end{cases}\n",
    "$$"
   ]
  },
  {
   "cell_type": "markdown",
   "metadata": {},
   "source": [
    "변수 정의<br>Define variables"
   ]
  },
  {
   "cell_type": "code",
   "execution_count": null,
   "metadata": {
    "collapsed": false
   },
   "outputs": [],
   "source": [
    "P_N = sy.Symbol('a_m', real=True)\n",
    "a_m = sy.Symbol('a_m', negative=False, real=True)\n",
    "L_m, E_Pa, I_m4 = sy.symbols('L_m, E_Pa, I_m4', positive=True)\n",
    "b_m = L_m - a_m"
   ]
  },
  {
   "cell_type": "markdown",
   "metadata": {},
   "source": [
    "하중의 오른쪽의 처짐<br>Deflection of right side of the load"
   ]
  },
  {
   "cell_type": "code",
   "execution_count": null,
   "metadata": {
    "collapsed": true
   },
   "outputs": [],
   "source": [
    "delta_right_m = (P_N * b_m / (6 * L_m * E_Pa * I_m4)) * ((L_m/b_m)*(x_m - a_m)**3 + x_m * (L_m**2 - b_m**2) - x_m **3)"
   ]
  },
  {
   "cell_type": "markdown",
   "metadata": {},
   "source": [
    "$x=L$ 지점에서 0인지 확인<br>Check if $\\delta=0$ at $x=L$"
   ]
  },
  {
   "cell_type": "code",
   "execution_count": null,
   "metadata": {
    "collapsed": false,
    "scrolled": true
   },
   "outputs": [],
   "source": [
    "assert(0 == sy.simplify(delta_right_m.subs(x_m, L_m)))"
   ]
  },
  {
   "cell_type": "markdown",
   "metadata": {},
   "source": [
    "하중의 왼쪽의 처짐<br>Deflection of left side of the load"
   ]
  },
  {
   "cell_type": "code",
   "execution_count": null,
   "metadata": {
    "collapsed": false
   },
   "outputs": [],
   "source": [
    "delta_left_m = (P_N * b_m * x_m / (6 * L_m * E_Pa * I_m4)) * (L_m**2 - x_m **2 - b_m**2)"
   ]
  },
  {
   "cell_type": "code",
   "execution_count": null,
   "metadata": {
    "collapsed": false,
    "scrolled": true
   },
   "outputs": [],
   "source": [
    "assert(0 == sy.simplify(delta_left_m.subs(x_m, 0)))"
   ]
  },
  {
   "cell_type": "markdown",
   "metadata": {},
   "source": [
    "하중 지점에서 연속인지 확인<br>Check if continuous at the point of the load"
   ]
  },
  {
   "cell_type": "code",
   "execution_count": null,
   "metadata": {
    "collapsed": false
   },
   "outputs": [],
   "source": [
    "assert(0 == sy.simplify(delta_left_m.subs(x_m, a_m) - delta_right_m.subs(x_m, a_m)))"
   ]
  },
  {
   "cell_type": "code",
   "execution_count": null,
   "metadata": {
    "collapsed": false
   },
   "outputs": [],
   "source": [
    "delta_m = sy.Piecewise(\n",
    "    (delta_right_m, a_m < x_m),\n",
    "    (delta_left_m, x_m<=a_m),\n",
    ")"
   ]
  },
  {
   "cell_type": "code",
   "execution_count": null,
   "metadata": {
    "collapsed": false,
    "scrolled": true
   },
   "outputs": [],
   "source": [
    "delta_m"
   ]
  },
  {
   "cell_type": "markdown",
   "metadata": {},
   "source": [
    "$x=0$ 지점에서 0인지 확인<br>Check if $\\delta=0$ at $x=0$"
   ]
  },
  {
   "cell_type": "code",
   "execution_count": null,
   "metadata": {
    "collapsed": false,
    "scrolled": true
   },
   "outputs": [],
   "source": [
    "assert(0 == sy.simplify(delta_m.subs(x_m, 0)))"
   ]
  },
  {
   "cell_type": "markdown",
   "metadata": {},
   "source": [
    "#### B점 하중<br>Load at B"
   ]
  },
  {
   "cell_type": "code",
   "execution_count": null,
   "metadata": {
    "collapsed": true
   },
   "outputs": [],
   "source": [
    "delta_b_m = sy.simplify(\n",
    "    delta_m.subs(\n",
    "        {\n",
    "            L_m: L_AD_m,\n",
    "            a_m: L_AB_m,\n",
    "            P_N: P_B_N,\n",
    "        }\n",
    "    )\n",
    ")"
   ]
  },
  {
   "cell_type": "code",
   "execution_count": null,
   "metadata": {
    "collapsed": false,
    "scrolled": true
   },
   "outputs": [],
   "source": [
    "delta_b_m"
   ]
  },
  {
   "cell_type": "markdown",
   "metadata": {},
   "source": [
    "변수값을 적용<br>Substitute values"
   ]
  },
  {
   "cell_type": "code",
   "execution_count": null,
   "metadata": {
    "collapsed": false,
    "scrolled": true
   },
   "outputs": [],
   "source": [
    "delta_b_m.subs(s_d)"
   ]
  },
  {
   "cell_type": "code",
   "execution_count": null,
   "metadata": {
    "collapsed": false
   },
   "outputs": [],
   "source": [
    "splot.plot(delta_b_m.subs(s_d).subs({E_Pa:1, I_m4:1}), (x_m, 0, L_AD_m.subs(s_d)), xlabel='x(m)', ylabel='$\\\\delta$(m)')"
   ]
  },
  {
   "cell_type": "markdown",
   "metadata": {},
   "source": [
    "#### C점 하중<br>Load at C"
   ]
  },
  {
   "cell_type": "code",
   "execution_count": null,
   "metadata": {
    "collapsed": true
   },
   "outputs": [],
   "source": [
    "delta_c_m = sy.simplify(\n",
    "    delta_m.subs(\n",
    "        {\n",
    "            L_m: L_AD_m,\n",
    "            a_m: L_AC_m,\n",
    "            P_N: P_C_N,\n",
    "        }\n",
    "    )\n",
    ")"
   ]
  },
  {
   "cell_type": "code",
   "execution_count": null,
   "metadata": {
    "collapsed": false,
    "scrolled": true
   },
   "outputs": [],
   "source": [
    "delta_c_m"
   ]
  },
  {
   "cell_type": "markdown",
   "metadata": {},
   "source": [
    "변수값을 적용<br>Substitute values"
   ]
  },
  {
   "cell_type": "code",
   "execution_count": null,
   "metadata": {
    "collapsed": false,
    "scrolled": true
   },
   "outputs": [],
   "source": [
    "delta_c_m.subs(s_d)"
   ]
  },
  {
   "cell_type": "code",
   "execution_count": null,
   "metadata": {
    "collapsed": false
   },
   "outputs": [],
   "source": [
    "splot.plot(delta_c_m.subs(s_d).subs({E_Pa:1, I_m4:1}), (x_m, 0, L_AD_m.subs(s_d)), xlabel='x(m)', ylabel='$\\\\delta$(m)')"
   ]
  },
  {
   "cell_type": "markdown",
   "metadata": {},
   "source": [
    "#### 중첩<br>Superposition"
   ]
  },
  {
   "cell_type": "code",
   "execution_count": null,
   "metadata": {
    "collapsed": true
   },
   "outputs": [],
   "source": [
    "delta_b_c_m = sy.simplify(delta_b_m + delta_c_m)"
   ]
  },
  {
   "cell_type": "code",
   "execution_count": null,
   "metadata": {
    "collapsed": false,
    "scrolled": true
   },
   "outputs": [],
   "source": [
    "delta_b_c_m"
   ]
  },
  {
   "cell_type": "markdown",
   "metadata": {},
   "source": [
    "변수값을 적용<br>Substitute values"
   ]
  },
  {
   "cell_type": "code",
   "execution_count": null,
   "metadata": {
    "collapsed": false,
    "scrolled": true
   },
   "outputs": [],
   "source": [
    "sy.simplify(delta_b_c_m.subs(s_d))"
   ]
  },
  {
   "cell_type": "code",
   "execution_count": null,
   "metadata": {
    "collapsed": false
   },
   "outputs": [],
   "source": [
    "splot.plot(delta_b_c_m.subs(s_d).subs({E_Pa:1, I_m4:1}), (x_m, 0, L_AD_m.subs(s_d)), xlabel='x(m)', ylabel='$\\\\delta$(m)')"
   ]
  },
  {
   "cell_type": "code",
   "execution_count": null,
   "metadata": {
    "collapsed": true
   },
   "outputs": [],
   "source": []
  }
 ],
 "metadata": {
  "anaconda-cloud": {},
  "kernelspec": {
   "display_name": "Python [default]",
   "language": "python",
   "name": "python3"
  },
  "language_info": {
   "codemirror_mode": {
    "name": "ipython",
    "version": 3
   },
   "file_extension": ".py",
   "mimetype": "text/x-python",
   "name": "python",
   "nbconvert_exporter": "python",
   "pygments_lexer": "ipython3",
   "version": "3.5.2"
  }
 },
 "nbformat": 4,
 "nbformat_minor": 2
}
