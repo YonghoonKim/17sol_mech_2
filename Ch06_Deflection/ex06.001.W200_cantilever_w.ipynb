{
 "cells": [
  {
   "cell_type": "markdown",
   "metadata": {},
   "source": [
    "`python` 기능을 확장해 주는 `module`을 불러 들임 (일부 기능만 사용될 수도 있음)"
   ]
  },
  {
   "cell_type": "code",
   "execution_count": null,
   "metadata": {
    "collapsed": true
   },
   "outputs": [],
   "source": [
    "import numpy as np  # 배열, 행렬 관련 기능\n",
    "import numpy.linalg as na  # 선형대수 (벡터, 행렬) 관련 기능\n",
    "import matplotlib.pyplot as plt  # 그래프 관련 기능\n",
    "import scipy.integrate as si  # 적분 관련 기능\n",
    "import sympy as sy  # 기호 연산 기능\n",
    "import sympy.plotting as splot\n",
    "import IPython.display as disp  # 웹페이지 표시 기능\n",
    "sy.init_printing()  # 기호 연산 결과 표시 기능 준비"
   ]
  },
  {
   "cell_type": "markdown",
   "metadata": {},
   "source": [
    "## 예제 06.001"
   ]
  },
  {
   "cell_type": "markdown",
   "metadata": {},
   "source": [
    "### 문제에서 주어진 변수"
   ]
  },
  {
   "cell_type": "markdown",
   "metadata": {},
   "source": [
    "#### 보의 길이"
   ]
  },
  {
   "cell_type": "code",
   "execution_count": null,
   "metadata": {
    "collapsed": false
   },
   "outputs": [],
   "source": [
    "L_AB_m = sy.symbols('L_AB_m', positive=True)\n",
    "\n",
    "s_d = {L_AB_m: 4}"
   ]
  },
  {
   "cell_type": "markdown",
   "metadata": {},
   "source": [
    "#### 하중"
   ]
  },
  {
   "cell_type": "code",
   "execution_count": null,
   "metadata": {
    "collapsed": false
   },
   "outputs": [],
   "source": [
    "w_AB_N_m = sy.Symbol('w_AB_N_m', real=True)\n",
    "s_d[w_AB_N_m] = -2000"
   ]
  },
  {
   "cell_type": "markdown",
   "metadata": {},
   "source": [
    "#### 재료"
   ]
  },
  {
   "cell_type": "code",
   "execution_count": null,
   "metadata": {
    "collapsed": true
   },
   "outputs": [],
   "source": [
    "E_Pa = sy.Symbol('E_Pa', positive=True)\n",
    "\n",
    "s_d[E_Pa] = 200e9"
   ]
  },
  {
   "cell_type": "markdown",
   "metadata": {},
   "source": [
    "#### 단면"
   ]
  },
  {
   "cell_type": "markdown",
   "metadata": {},
   "source": [
    "W 200 $\\times$ 100 에 관련된 자료는 p.608 참고"
   ]
  },
  {
   "cell_type": "code",
   "execution_count": null,
   "metadata": {
    "collapsed": true
   },
   "outputs": [],
   "source": [
    "A_m2, I_m4, h_m = sy.symbols('A_m2, I_m4, h_m', positive=True)\n",
    "A_mm2 = A_m2 * 1e-6\n",
    "I_mm4 = I_m4 * 1e-12\n",
    "h_mm = h_m * 1e3"
   ]
  },
  {
   "cell_type": "markdown",
   "metadata": {},
   "source": [
    "값 계산을 위해 준비"
   ]
  },
  {
   "cell_type": "code",
   "execution_count": null,
   "metadata": {
    "collapsed": false
   },
   "outputs": [],
   "source": [
    "s_d.update({A_mm2: 12700.0,\n",
    "            I_mm4: 113e6,\n",
    "            h_mm: 229,})\n",
    "\n",
    "s_d.update({A_m2: s_d[A_mm2] * 1e-6,\n",
    "            I_m4: s_d[I_mm4] * 1e-12,\n",
    "            h_m: s_d[h_mm] * 1e-3,})"
   ]
  },
  {
   "cell_type": "markdown",
   "metadata": {},
   "source": [
    "준비된 값을 확인"
   ]
  },
  {
   "cell_type": "code",
   "execution_count": null,
   "metadata": {
    "collapsed": true
   },
   "outputs": [],
   "source": [
    "s_d"
   ]
  },
  {
   "cell_type": "markdown",
   "metadata": {},
   "source": [
    "### A, B, C, D 지점의 x 좌표"
   ]
  },
  {
   "cell_type": "markdown",
   "metadata": {},
   "source": [
    "A 점에서 $x=0$ 으로 한다."
   ]
  },
  {
   "cell_type": "code",
   "execution_count": null,
   "metadata": {
    "collapsed": false
   },
   "outputs": [],
   "source": [
    "x_m = sy.Symbol('x_m', nonnegative=True)\n",
    "x_A_m = 0\n",
    "x_B_m = float(x_A_m + L_AB_m.subs(s_d))"
   ]
  },
  {
   "cell_type": "markdown",
   "metadata": {},
   "source": [
    "x 지점에서의 굽힘모멘트"
   ]
  },
  {
   "cell_type": "code",
   "execution_count": null,
   "metadata": {
    "collapsed": false
   },
   "outputs": [],
   "source": [
    "M_Nm = -w_AB_N_m * x_m * (x_m/2)\n",
    "M_Nm"
   ]
  },
  {
   "cell_type": "markdown",
   "metadata": {},
   "source": [
    "p. 236 eq. 6.3b"
   ]
  },
  {
   "cell_type": "markdown",
   "metadata": {},
   "source": [
    "$$\n",
    "EI\\nu''=M\n",
    "$$"
   ]
  },
  {
   "cell_type": "markdown",
   "metadata": {},
   "source": [
    "$\\nu$ 와 그 미분을 준비"
   ]
  },
  {
   "cell_type": "code",
   "execution_count": null,
   "metadata": {
    "collapsed": false,
    "scrolled": true
   },
   "outputs": [],
   "source": [
    "EInu_Nm3 = sy.Function('EI\\\\nu_Nm3')\n",
    "# http://docs.sympy.org/latest/modules/solvers/ode.html#dsolve\n",
    "# http://docs.sympy.org/latest/tutorial/calculus.html\n",
    "EInu_pp_Nm = sy.Derivative(EInu_Nm3(x_m), x_m, x_m)\n",
    "EInu_Nm3, EInu_pp_Nm"
   ]
  },
  {
   "cell_type": "markdown",
   "metadata": {},
   "source": [
    "미분방정식 등호의 왼쪽"
   ]
  },
  {
   "cell_type": "code",
   "execution_count": null,
   "metadata": {
    "collapsed": false
   },
   "outputs": [],
   "source": [
    "left_side = EInu_pp_Nm\n",
    "left_side"
   ]
  },
  {
   "cell_type": "markdown",
   "metadata": {},
   "source": [
    "등호의 오른쪽"
   ]
  },
  {
   "cell_type": "code",
   "execution_count": null,
   "metadata": {
    "collapsed": false
   },
   "outputs": [],
   "source": [
    "right_side = M_Nm\n",
    "right_side"
   ]
  },
  {
   "cell_type": "markdown",
   "metadata": {},
   "source": [
    "eq. 6.3b"
   ]
  },
  {
   "cell_type": "code",
   "execution_count": null,
   "metadata": {
    "collapsed": false
   },
   "outputs": [],
   "source": [
    "defl_deq = sy.Eq(left_side, right_side )\n",
    "defl_deq"
   ]
  },
  {
   "cell_type": "markdown",
   "metadata": {},
   "source": [
    "미분방정식을 두번 적분한 결과"
   ]
  },
  {
   "cell_type": "code",
   "execution_count": null,
   "metadata": {
    "collapsed": false,
    "scrolled": true
   },
   "outputs": [],
   "source": [
    "EInu_Nm3_sol_eq = sy.dsolve(defl_deq, EInu_Nm3(x_m))\n",
    "EInu_Nm3_sol_eq"
   ]
  },
  {
   "cell_type": "markdown",
   "metadata": {},
   "source": [
    "위 결과에서 등호의 오른쪽은 다음과 같다."
   ]
  },
  {
   "cell_type": "code",
   "execution_count": null,
   "metadata": {
    "collapsed": false
   },
   "outputs": [],
   "source": [
    "EInu_Nm3_sol = EInu_Nm3_sol_eq.rhs\n",
    "EInu_Nm3_sol"
   ]
  },
  {
   "cell_type": "markdown",
   "metadata": {},
   "source": [
    "여기서 적분 상수를 결정해야 한다."
   ]
  },
  {
   "cell_type": "markdown",
   "metadata": {},
   "source": [
    "경계조건 두가지 (처짐, 기울기) 가운데 기울기 조건을 적용한다."
   ]
  },
  {
   "cell_type": "markdown",
   "metadata": {},
   "source": [
    "$$ \\left. \\frac{d\\nu}{dx} \\right\\rvert _{x=L}=0 $$"
   ]
  },
  {
   "cell_type": "code",
   "execution_count": null,
   "metadata": {
    "collapsed": false
   },
   "outputs": [],
   "source": [
    "# SymPy Dev Team, Derivatives, Calculus, SymPy Tutorial, 2017 Jul 27, http://docs.sympy.org/latest/tutorial/calculus.html#derivatives\n",
    "slope_eq = sy.Eq(sy.diff(EInu_Nm3_sol, x_m).subs(x_m, L_AB_m), 0)\n",
    "slope_eq"
   ]
  },
  {
   "cell_type": "code",
   "execution_count": null,
   "metadata": {
    "collapsed": false
   },
   "outputs": [],
   "source": [
    "defl_eq = sy.Eq(EInu_Nm3_sol.subs(x_m, L_AB_m), 0)\n",
    "defl_eq"
   ]
  },
  {
   "cell_type": "markdown",
   "metadata": {},
   "source": [
    "위 두 방정식을 연립하여 풂"
   ]
  },
  {
   "cell_type": "code",
   "execution_count": null,
   "metadata": {
    "collapsed": false
   },
   "outputs": [],
   "source": [
    "const_sol = sy.solve((slope_eq, defl_eq))\n",
    "const_sol"
   ]
  },
  {
   "cell_type": "markdown",
   "metadata": {},
   "source": [
    "적분상수를 $EI\\nu$ 식에 대입함"
   ]
  },
  {
   "cell_type": "code",
   "execution_count": null,
   "metadata": {
    "collapsed": false
   },
   "outputs": [],
   "source": [
    "EInu_Nm3_sol.subs(const_sol[0])"
   ]
  },
  {
   "cell_type": "code",
   "execution_count": null,
   "metadata": {
    "collapsed": true
   },
   "outputs": [],
   "source": []
  }
 ],
 "metadata": {
  "anaconda-cloud": {},
  "kernelspec": {
   "display_name": "Python [conda env:py3]",
   "language": "python",
   "name": "conda-env-py3-py"
  },
  "language_info": {
   "codemirror_mode": {
    "name": "ipython",
    "version": 3
   },
   "file_extension": ".py",
   "mimetype": "text/x-python",
   "name": "python",
   "nbconvert_exporter": "python",
   "pygments_lexer": "ipython3",
   "version": "3.5.2"
  }
 },
 "nbformat": 4,
 "nbformat_minor": 2
}
