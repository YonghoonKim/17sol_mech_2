{
 "cells": [
  {
   "cell_type": "markdown",
   "metadata": {},
   "source": [
    "참고문헌 : Pytel 외 저, 이주성 외 역, 재료역학, 2판, 한티미디어, 2013.<br>Ref: Pytel, Kiusalaas, Sharma, Mechanics of Materials, 2nd Ed., Cengege Learning, 2013."
   ]
  },
  {
   "cell_type": "markdown",
   "metadata": {},
   "source": [
    "`python` 기능을 확장해 주는 `module`을 불러 들임 (일부 기능만 사용될 수도 있음)"
   ]
  },
  {
   "cell_type": "code",
   "execution_count": null,
   "metadata": {
    "collapsed": true
   },
   "outputs": [],
   "source": [
    "import numpy as np  # 배열, 행렬 관련 기능\n",
    "import numpy.linalg as na  # 선형대수 (벡터, 행렬) 관련 기능\n",
    "import matplotlib.pyplot as plt  # 그래프 관련 기능\n",
    "import scipy.integrate as si  # 적분 관련 기능\n",
    "import sympy as sy  # 기호 연산 기능\n",
    "import sympy.plotting as splot\n",
    "import IPython.display as disp  # 웹페이지 표시 기능\n",
    "sy.init_printing()  # 기호 연산 결과 표시 기능 준비"
   ]
  },
  {
   "cell_type": "markdown",
   "metadata": {},
   "source": [
    "## 예제 06.002<br>ex06.002"
   ]
  },
  {
   "cell_type": "markdown",
   "metadata": {},
   "source": [
    "p. 240"
   ]
  },
  {
   "cell_type": "markdown",
   "metadata": {},
   "source": [
    "### 문제에서 주어진 변수<br>Given variables"
   ]
  },
  {
   "cell_type": "markdown",
   "metadata": {},
   "source": [
    "#### 보의 길이<br>Length of the beam"
   ]
  },
  {
   "cell_type": "code",
   "execution_count": null,
   "metadata": {
    "collapsed": false
   },
   "outputs": [],
   "source": [
    "L_m = 1\n",
    "L_AB_m = L_BC_m = L_m / 2\n",
    "L_AC_m = L_AB_m + L_BC_m"
   ]
  },
  {
   "cell_type": "code",
   "execution_count": null,
   "metadata": {
    "collapsed": true
   },
   "outputs": [],
   "source": [
    "x_m_array = np.linspace(0, L_m, 100 + 1)"
   ]
  },
  {
   "cell_type": "markdown",
   "metadata": {},
   "source": [
    "#### 하중<br>Load"
   ]
  },
  {
   "cell_type": "code",
   "execution_count": null,
   "metadata": {
    "collapsed": true
   },
   "outputs": [],
   "source": [
    "w0_N_m = -1"
   ]
  },
  {
   "cell_type": "markdown",
   "metadata": {},
   "source": [
    "$$\n",
    "w(x)= \n",
    "    \\begin{cases}\n",
    "        \\frac{w_0}{\\frac{1}{2}L} x & 0 \\le x \\le \\frac{1}{2}L \\\\\n",
    "        -\\frac{w_0}{\\frac{1}{2}L} (x - L) & \\frac{1}{2}L \\le x \\le L \\\\\n",
    "    \\end{cases}\n",
    "$$"
   ]
  },
  {
   "cell_type": "code",
   "execution_count": null,
   "metadata": {
    "collapsed": false
   },
   "outputs": [],
   "source": [
    "w_N_m = w0_N_m / (0.5 * L_m) * x_m_array\n",
    "w_N_m[(0.5 * L_m) < x_m_array] = - w0_N_m / (0.5 * L_m) * (x_m_array[(0.5 * L_m) < x_m_array] - L_m)"
   ]
  },
  {
   "cell_type": "code",
   "execution_count": null,
   "metadata": {
    "collapsed": false
   },
   "outputs": [],
   "source": [
    "plt.fill_between(x_m_array, w_N_m)\n",
    "plt.xlabel('$\\\\frac{x}{L}$')\n",
    "plt.ylabel('$\\\\frac{w}{w_0}$')\n",
    "plt.ylim(ymax=0)\n",
    "plt.grid(True)\n",
    "plt.show()"
   ]
  },
  {
   "cell_type": "markdown",
   "metadata": {},
   "source": [
    "### 반력<br>Reaction force"
   ]
  },
  {
   "cell_type": "markdown",
   "metadata": {},
   "source": [
    "하중이 대칭이므로 전체 하중의 절반씩 부담한다.<br>\n",
    "Because the load is symmetric, each support takes half of the total load."
   ]
  },
  {
   "cell_type": "markdown",
   "metadata": {},
   "source": [
    "$$\n",
    "    R=-\\int_{x=0}^{x=\\frac{1}{2}L}w(x)dx \\\\\n",
    "$$    "
   ]
  },
  {
   "cell_type": "markdown",
   "metadata": {},
   "source": [
    "$$\n",
    "    R=-\\int_{x=0}^{x=\\frac{1}{2}L}\\frac{w_0}{\\frac{1}{2}L} xdx \\\\\n",
    "$$"
   ]
  },
  {
   "cell_type": "markdown",
   "metadata": {},
   "source": [
    "$$\n",
    "    R=-\\frac{2w_0}{L} \\int_{x=0}^{x=\\frac{1}{2}L} xdx \\\\\n",
    "$$"
   ]
  },
  {
   "cell_type": "markdown",
   "metadata": {},
   "source": [
    "$$\n",
    "    R=-\\frac{2w_0}{L} \\left[ \\frac{1}{2}x^2 \\right] _{x=0}^{x=\\frac{1}{2}L}\n",
    "$$"
   ]
  },
  {
   "cell_type": "markdown",
   "metadata": {},
   "source": [
    "$$\n",
    "    R=-\\frac{w_0}{L} \\left[ \\left(\\frac{1}{2}L \\right)^2 \\right]\n",
    "$$"
   ]
  },
  {
   "cell_type": "markdown",
   "metadata": {},
   "source": [
    "$$\n",
    "    R=-\\frac{w_0L}{4}\n",
    "$$"
   ]
  },
  {
   "cell_type": "code",
   "execution_count": null,
   "metadata": {
    "collapsed": true
   },
   "outputs": [],
   "source": [
    "R_N = -w0_N_m * L_m / 4"
   ]
  },
  {
   "cell_type": "markdown",
   "metadata": {},
   "source": [
    "### 전단력선도<br>Shear force diagram"
   ]
  },
  {
   "cell_type": "markdown",
   "metadata": {},
   "source": [
    "분포하중을 적분하면 전단력선도를 얻을 수 있다. 역시 하중이 대칭이므로 절반만 적분한다.<br>By integrating the distributed load, one can obtain the shear force diagram. Again, because the load is symmetric, integrate only the half."
   ]
  },
  {
   "cell_type": "code",
   "execution_count": null,
   "metadata": {
    "collapsed": true
   },
   "outputs": [],
   "source": [
    "x_m_array_half = np.linspace(0, L_m/2, 50 + 1)"
   ]
  },
  {
   "cell_type": "markdown",
   "metadata": {},
   "source": [
    "$$\n",
    "    \\begin{align}\n",
    "    SFD(x)=\\int_{\\xi=0}^{\\xi=x}w(\\xi)d\\xi + R, \\, 0 \\le x \\le \\frac{L}{2} \\\\\n",
    "    \\end{align}\n",
    "$$    "
   ]
  },
  {
   "cell_type": "markdown",
   "metadata": {},
   "source": [
    "$$\n",
    "    \\begin{align}\n",
    "    SFD(x)=\\int_{\\xi=0}^{\\xi=x}\\frac{w_0}{\\frac{1}{2}L} \\xi d\\xi + R, \\, 0 \\le x \\le \\frac{L}{2} \\\\\n",
    "    \\end{align}\n",
    "$$    "
   ]
  },
  {
   "cell_type": "markdown",
   "metadata": {},
   "source": [
    "$$\n",
    "    \\begin{align}\n",
    "    SFD(x)=\\frac{2w_0}{L} \\int_{\\xi=0}^{\\xi=x}\\xi d\\xi + R, \\, 0 \\le x \\le \\frac{L}{2} \\\\\n",
    "    \\end{align}\n",
    "$$    "
   ]
  },
  {
   "cell_type": "markdown",
   "metadata": {},
   "source": [
    "$$\n",
    "    \\begin{align}\n",
    "    SFD(x)=\\frac{2w_0}{L} \\left[ \\frac{1}{2} \\xi^2 \\right] _{\\xi=0}^{\\xi=x} + R, \\, 0 \\le x \\le \\frac{L}{2} \\\\\n",
    "    \\end{align}\n",
    "$$    "
   ]
  },
  {
   "cell_type": "markdown",
   "metadata": {},
   "source": [
    "$$\n",
    "    \\begin{align}\n",
    "    SFD(x)=\\frac{w_0}{L} x ^2 + R,\\, 0 \\le x \\le \\frac{L}{2} \\\\\n",
    "    \\end{align}\n",
    "$$    "
   ]
  },
  {
   "cell_type": "code",
   "execution_count": null,
   "metadata": {
    "collapsed": true
   },
   "outputs": [],
   "source": [
    "SFD_N_array_half = w0_N_m / L_m * x_m_array_half ** 2 + R_N"
   ]
  },
  {
   "cell_type": "code",
   "execution_count": null,
   "metadata": {
    "collapsed": false
   },
   "outputs": [],
   "source": [
    "plt.fill_between(x_m_array_half, SFD_N_array_half)\n",
    "plt.xlabel('$\\\\frac{x}{L}$')\n",
    "plt.ylabel('$\\\\frac{L}{w_0}V$')\n",
    "plt.xlim((min(x_m_array_half), max(x_m_array_half)))\n",
    "plt.ylim(ymin=0)\n",
    "plt.grid(True)\n",
    "plt.show()"
   ]
  },
  {
   "cell_type": "code",
   "execution_count": null,
   "metadata": {
    "collapsed": true
   },
   "outputs": [],
   "source": []
  }
 ],
 "metadata": {
  "anaconda-cloud": {},
  "kernelspec": {
   "display_name": "Python [default]",
   "language": "python",
   "name": "python3"
  },
  "language_info": {
   "codemirror_mode": {
    "name": "ipython",
    "version": 3
   },
   "file_extension": ".py",
   "mimetype": "text/x-python",
   "name": "python",
   "nbconvert_exporter": "python",
   "pygments_lexer": "ipython3",
   "version": "3.5.2"
  }
 },
 "nbformat": 4,
 "nbformat_minor": 2
}
